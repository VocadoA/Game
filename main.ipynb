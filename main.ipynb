{
 "cells": [
  {
   "cell_type": "markdown",
   "metadata": {
    "id": "WoQijvXeAy2Q"
   },
   "source": [
    "# **10주차 과제**"
   ]
  },
  {
   "cell_type": "markdown",
   "metadata": {
    "id": "w2XQS5yEAy2S"
   },
   "source": [
    "<b>안내사항</b>\n",
    "- 셀 출력 결과물은 이미지로 첨부하였습니다.\n",
    "- Colab에서 확인할 시에 출력 이미지가 안보일 수 있습니다.\n",
    "- VS Code 등의 로컬 환경을 이용하시거나 참고 이미지 폴더의 이미지 파일들, 10주차_과제_문제지.JPG 파일을 참고하시길 바랍니다.\n",
    "- 데이터 정렬에서 인덱스 번호는 따로 신경쓰지 않으셔도 괜찮습니다.  \n",
    "  ※ 이름, 수치 등의 명시된 조건에 대해서만 신경써주시길 바랍니다."
   ]
  },
  {
   "cell_type": "markdown",
   "metadata": {
    "id": "FFGa38KLAy2S"
   },
   "source": [
    "# Q1~Q2 클래스 설계 문제"
   ]
  },
  {
   "cell_type": "markdown",
   "metadata": {
    "id": "7z4brlaiAy2T"
   },
   "source": [
    "- **Q1 생성자 메서드 설정**\n",
    "    - **생성자 메서드는 아래와 같이 구성되어야 합니다.**  \n",
    "        - 속성 할당 및 데이터프레임 정보 출력을 수행합니다.  \n",
    "    - 객체 생성과 속성 설정 과정이 올바르게 수행되는지 평가합니다.\n",
    "\n",
    "- **Q2 메서드 구현 - 데이터 전처리/변형**\n",
    "    - **데이터 전처리/변형 메서드는 아래와 같이 구성되어야 합니다.**  \n",
    "        - 데이터프레임을 Long Form 형태로 변환합니다.  \n",
    "    - 메서드 이름은 자유이며, 코드셀에 나타난 메서드 이름은 참고로만 활용하셔도 됩니다.  "
   ]
  },
  {
   "cell_type": "markdown",
   "metadata": {
    "id": "lmKTyfHxAy2T"
   },
   "source": [
    "**확인사항**  \n",
    "- 클래스 이름, 메서드 이름은 자유롭게 설정하셔도 되며 동일한 결과를 나타내시면 됩니다.   \n",
    "- 입력인자는 꼼꼼하게 확인해주시길 바랍니다.  \n",
    "- print, display 함수도 꼼꼼하게 확인하여 출력 결과를 만들어주시길 바랍니다."
   ]
  },
  {
   "cell_type": "code",
   "execution_count": 22,
   "metadata": {
    "id": "rZWsrr8QAy2U"
   },
   "outputs": [],
   "source": [
    "# 불필요한 출력을 없애기 위한 코드입니다.\n",
    "# 문제풀이와는 무관합니다.\n",
    "import warnings\n",
    "warnings.filterwarnings('ignore')"
   ]
  },
  {
   "cell_type": "code",
   "execution_count": 51,
   "metadata": {
    "id": "AnULhj7yAy2V"
   },
   "outputs": [],
   "source": [
    "class prep_class:\n",
    "    def __init__(self, df, id_col):\n",
    "        # 속성 할당\n",
    "        self.df = df\n",
    "        self.id_col = id_col\n",
    "        \n",
    "        # 데이터프레임 정보 출력\n",
    "        print(\"=\" * 20, \"데이터프레임 중 일부 데이터를 출력합니다.\", \"=\" * 20)\n",
    "        display(tmp_df.shape)\n",
    "        display(df.head())\n",
    "        \n",
    "        print(\"=\" * 20, \"데이터프레임 info를 출력합니다.\", \"=\" * 20)\n",
    "        display(df.info())\n",
    "        \n",
    "        print(\"=\" * 20, \"데이터프레임 describe를 출력합니다.\", \"=\" * 20)\n",
    "        display(df.describe())\n",
    "\n",
    "\n",
    "    def transform_melt(self, var_name, value_name, value_col_list):\n",
    "        # melt 변환 수행\n",
    "        self.melt_df = pd.melt(\n",
    "            self.df,\n",
    "            id_vars=[self.id_col],\n",
    "            value_vars=value_col_list,\n",
    "            var_name=var_name,\n",
    "            value_name=value_name\n",
    "        ).sort_values(by=self.id_col, ascending=True)\n",
    "        \n",
    "        # # Name 기준 오름차순 정렬\n",
    "        # self.melt_df = self.melt_df.sort_values(by=self.id_col).reset_index(drop=True)\n",
    "        \n",
    "        # 결과 출력\n",
    "        print(\"=\" * 20, \"변환 이전의 데이터프레임 형태입니다.\", \"=\" * 20)\n",
    "        display(self.df.shape)\n",
    "        display(self.df.head())\n",
    "        print(\"=\" * 20, \"변환 이후의 데이터프레임 형태입니다.\", \"=\" * 20)\n",
    "        display(self.melt_df.shape)\n",
    "        display(self.melt_df.head())\n"
   ]
  },
  {
   "cell_type": "markdown",
   "metadata": {
    "id": "aRJ5Z4rAAy2V"
   },
   "source": [
    "## Q1. 클래스 선언 / 생성자 메서드 설정"
   ]
  },
  {
   "cell_type": "markdown",
   "metadata": {
    "id": "URmQJyu3Ay2V"
   },
   "source": [
    "- 데이터 읽기 및 정보확인용 코드셀입니다."
   ]
  },
  {
   "cell_type": "code",
   "execution_count": 52,
   "metadata": {
    "id": "PN5tv57UAy2W"
   },
   "outputs": [
    {
     "data": {
      "text/html": [
       "<div>\n",
       "<style scoped>\n",
       "    .dataframe tbody tr th:only-of-type {\n",
       "        vertical-align: middle;\n",
       "    }\n",
       "\n",
       "    .dataframe tbody tr th {\n",
       "        vertical-align: top;\n",
       "    }\n",
       "\n",
       "    .dataframe thead th {\n",
       "        text-align: right;\n",
       "    }\n",
       "</style>\n",
       "<table border=\"1\" class=\"dataframe\">\n",
       "  <thead>\n",
       "    <tr style=\"text-align: right;\">\n",
       "      <th></th>\n",
       "      <th>Name</th>\n",
       "      <th>HP</th>\n",
       "      <th>Attack</th>\n",
       "      <th>Defense</th>\n",
       "      <th>Special Attack</th>\n",
       "      <th>Special Defense</th>\n",
       "      <th>Speed</th>\n",
       "    </tr>\n",
       "  </thead>\n",
       "  <tbody>\n",
       "    <tr>\n",
       "      <th>0</th>\n",
       "      <td>Bulbasaur</td>\n",
       "      <td>45</td>\n",
       "      <td>49</td>\n",
       "      <td>49</td>\n",
       "      <td>65</td>\n",
       "      <td>65</td>\n",
       "      <td>45</td>\n",
       "    </tr>\n",
       "    <tr>\n",
       "      <th>1</th>\n",
       "      <td>Ivysaur</td>\n",
       "      <td>60</td>\n",
       "      <td>62</td>\n",
       "      <td>63</td>\n",
       "      <td>80</td>\n",
       "      <td>80</td>\n",
       "      <td>60</td>\n",
       "    </tr>\n",
       "    <tr>\n",
       "      <th>2</th>\n",
       "      <td>Venusaur</td>\n",
       "      <td>80</td>\n",
       "      <td>82</td>\n",
       "      <td>83</td>\n",
       "      <td>100</td>\n",
       "      <td>100</td>\n",
       "      <td>80</td>\n",
       "    </tr>\n",
       "    <tr>\n",
       "      <th>3</th>\n",
       "      <td>Mega Venusaur</td>\n",
       "      <td>80</td>\n",
       "      <td>100</td>\n",
       "      <td>123</td>\n",
       "      <td>122</td>\n",
       "      <td>120</td>\n",
       "      <td>80</td>\n",
       "    </tr>\n",
       "    <tr>\n",
       "      <th>4</th>\n",
       "      <td>Charmander</td>\n",
       "      <td>39</td>\n",
       "      <td>52</td>\n",
       "      <td>43</td>\n",
       "      <td>60</td>\n",
       "      <td>50</td>\n",
       "      <td>65</td>\n",
       "    </tr>\n",
       "  </tbody>\n",
       "</table>\n",
       "</div>"
      ],
      "text/plain": [
       "            Name  HP  Attack  Defense  Special Attack  Special Defense  Speed\n",
       "0      Bulbasaur  45      49       49              65               65     45\n",
       "1        Ivysaur  60      62       63              80               80     60\n",
       "2       Venusaur  80      82       83             100              100     80\n",
       "3  Mega Venusaur  80     100      123             122              120     80\n",
       "4     Charmander  39      52       43              60               50     65"
      ]
     },
     "metadata": {},
     "output_type": "display_data"
    },
    {
     "data": {
      "text/plain": [
       "Name\n",
       "Charmeleon    1\n",
       "Zygarde       1\n",
       "Bulbasaur     1\n",
       "Ivysaur       1\n",
       "Venusaur      1\n",
       "Name: count, dtype: int64"
      ]
     },
     "metadata": {},
     "output_type": "display_data"
    },
    {
     "data": {
      "text/plain": [
       "Name\n",
       "Wartortle         1\n",
       "Blastoise         1\n",
       "Mega Blastoise    1\n",
       "Caterpie          1\n",
       "Metapod           1\n",
       "Name: count, dtype: int64"
      ]
     },
     "metadata": {},
     "output_type": "display_data"
    }
   ],
   "source": [
    "import pandas as pd\n",
    "\n",
    "tmp_df = pd.read_csv('./data_과제/pokemon_prep.csv')\n",
    "display(tmp_df.head())\n",
    "\n",
    "display(tmp_df['Name'].value_counts().sort_values(ascending=False).head()) # 겹치는 데이터가 있는지 확인하는 과정입니다.\n",
    "display(tmp_df['Name'].value_counts().sort_values(ascending=True).head()) # 겹치는 데이터가 있는지 확인하는 과정2입니다."
   ]
  },
  {
   "cell_type": "markdown",
   "metadata": {
    "id": "M9w-tGc3Ay2W"
   },
   "source": [
    "# <img src=\"./참고이미지/Q1/Q1_0.png\" width=\"100%\">"
   ]
  },
  {
   "cell_type": "markdown",
   "metadata": {
    "id": "ZHK96CyPAy2W"
   },
   "source": [
    "<b>객체 생성 코드 셀</b>\n",
    "- 이 셀에서는 객체 생성 코드만 작성합니다.\n",
    "- 데이터프레임 정보 출력은 객채 생성시에 자동으로 출력되도록 구현하세요.\n",
    "\n",
    "<b>참고</b>\n",
    "- 클래스의 생성자 메서드가 어떻게 동작하는지 고민해보세요.\n",
    "- 아래 지정된 외에 다른 코드를 추가하여 해당 결과를 구현할 경우, 오답으로 처리될 수 있습니다."
   ]
  },
  {
   "cell_type": "code",
   "execution_count": 53,
   "metadata": {
    "id": "USKEvI8zAy2W"
   },
   "outputs": [
    {
     "name": "stdout",
     "output_type": "stream",
     "text": [
      "==================== 데이터프레임 중 일부 데이터를 출력합니다. ====================\n"
     ]
    },
    {
     "data": {
      "text/plain": [
       "(773, 7)"
      ]
     },
     "metadata": {},
     "output_type": "display_data"
    },
    {
     "data": {
      "text/html": [
       "<div>\n",
       "<style scoped>\n",
       "    .dataframe tbody tr th:only-of-type {\n",
       "        vertical-align: middle;\n",
       "    }\n",
       "\n",
       "    .dataframe tbody tr th {\n",
       "        vertical-align: top;\n",
       "    }\n",
       "\n",
       "    .dataframe thead th {\n",
       "        text-align: right;\n",
       "    }\n",
       "</style>\n",
       "<table border=\"1\" class=\"dataframe\">\n",
       "  <thead>\n",
       "    <tr style=\"text-align: right;\">\n",
       "      <th></th>\n",
       "      <th>Name</th>\n",
       "      <th>HP</th>\n",
       "      <th>Attack</th>\n",
       "      <th>Defense</th>\n",
       "      <th>Special Attack</th>\n",
       "      <th>Special Defense</th>\n",
       "      <th>Speed</th>\n",
       "    </tr>\n",
       "  </thead>\n",
       "  <tbody>\n",
       "    <tr>\n",
       "      <th>0</th>\n",
       "      <td>Bulbasaur</td>\n",
       "      <td>45</td>\n",
       "      <td>49</td>\n",
       "      <td>49</td>\n",
       "      <td>65</td>\n",
       "      <td>65</td>\n",
       "      <td>45</td>\n",
       "    </tr>\n",
       "    <tr>\n",
       "      <th>1</th>\n",
       "      <td>Ivysaur</td>\n",
       "      <td>60</td>\n",
       "      <td>62</td>\n",
       "      <td>63</td>\n",
       "      <td>80</td>\n",
       "      <td>80</td>\n",
       "      <td>60</td>\n",
       "    </tr>\n",
       "    <tr>\n",
       "      <th>2</th>\n",
       "      <td>Venusaur</td>\n",
       "      <td>80</td>\n",
       "      <td>82</td>\n",
       "      <td>83</td>\n",
       "      <td>100</td>\n",
       "      <td>100</td>\n",
       "      <td>80</td>\n",
       "    </tr>\n",
       "    <tr>\n",
       "      <th>3</th>\n",
       "      <td>Mega Venusaur</td>\n",
       "      <td>80</td>\n",
       "      <td>100</td>\n",
       "      <td>123</td>\n",
       "      <td>122</td>\n",
       "      <td>120</td>\n",
       "      <td>80</td>\n",
       "    </tr>\n",
       "    <tr>\n",
       "      <th>4</th>\n",
       "      <td>Charmander</td>\n",
       "      <td>39</td>\n",
       "      <td>52</td>\n",
       "      <td>43</td>\n",
       "      <td>60</td>\n",
       "      <td>50</td>\n",
       "      <td>65</td>\n",
       "    </tr>\n",
       "  </tbody>\n",
       "</table>\n",
       "</div>"
      ],
      "text/plain": [
       "            Name  HP  Attack  Defense  Special Attack  Special Defense  Speed\n",
       "0      Bulbasaur  45      49       49              65               65     45\n",
       "1        Ivysaur  60      62       63              80               80     60\n",
       "2       Venusaur  80      82       83             100              100     80\n",
       "3  Mega Venusaur  80     100      123             122              120     80\n",
       "4     Charmander  39      52       43              60               50     65"
      ]
     },
     "metadata": {},
     "output_type": "display_data"
    },
    {
     "name": "stdout",
     "output_type": "stream",
     "text": [
      "==================== 데이터프레임 info를 출력합니다. ====================\n",
      "<class 'pandas.core.frame.DataFrame'>\n",
      "RangeIndex: 773 entries, 0 to 772\n",
      "Data columns (total 7 columns):\n",
      " #   Column           Non-Null Count  Dtype \n",
      "---  ------           --------------  ----- \n",
      " 0   Name             773 non-null    object\n",
      " 1   HP               773 non-null    int64 \n",
      " 2   Attack           773 non-null    int64 \n",
      " 3   Defense          773 non-null    int64 \n",
      " 4   Special Attack   773 non-null    int64 \n",
      " 5   Special Defense  773 non-null    int64 \n",
      " 6   Speed            773 non-null    int64 \n",
      "dtypes: int64(6), object(1)\n",
      "memory usage: 42.4+ KB\n"
     ]
    },
    {
     "data": {
      "text/plain": [
       "None"
      ]
     },
     "metadata": {},
     "output_type": "display_data"
    },
    {
     "name": "stdout",
     "output_type": "stream",
     "text": [
      "==================== 데이터프레임 describe를 출력합니다. ====================\n"
     ]
    },
    {
     "data": {
      "text/html": [
       "<div>\n",
       "<style scoped>\n",
       "    .dataframe tbody tr th:only-of-type {\n",
       "        vertical-align: middle;\n",
       "    }\n",
       "\n",
       "    .dataframe tbody tr th {\n",
       "        vertical-align: top;\n",
       "    }\n",
       "\n",
       "    .dataframe thead th {\n",
       "        text-align: right;\n",
       "    }\n",
       "</style>\n",
       "<table border=\"1\" class=\"dataframe\">\n",
       "  <thead>\n",
       "    <tr style=\"text-align: right;\">\n",
       "      <th></th>\n",
       "      <th>HP</th>\n",
       "      <th>Attack</th>\n",
       "      <th>Defense</th>\n",
       "      <th>Special Attack</th>\n",
       "      <th>Special Defense</th>\n",
       "      <th>Speed</th>\n",
       "    </tr>\n",
       "  </thead>\n",
       "  <tbody>\n",
       "    <tr>\n",
       "      <th>count</th>\n",
       "      <td>773.000000</td>\n",
       "      <td>773.000000</td>\n",
       "      <td>773.000000</td>\n",
       "      <td>773.000000</td>\n",
       "      <td>773.000000</td>\n",
       "      <td>773.000000</td>\n",
       "    </tr>\n",
       "    <tr>\n",
       "      <th>mean</th>\n",
       "      <td>68.931436</td>\n",
       "      <td>77.318241</td>\n",
       "      <td>72.552393</td>\n",
       "      <td>71.182406</td>\n",
       "      <td>70.626132</td>\n",
       "      <td>67.596378</td>\n",
       "    </tr>\n",
       "    <tr>\n",
       "      <th>std</th>\n",
       "      <td>25.754605</td>\n",
       "      <td>31.176825</td>\n",
       "      <td>30.114400</td>\n",
       "      <td>31.236588</td>\n",
       "      <td>27.222670</td>\n",
       "      <td>28.511657</td>\n",
       "    </tr>\n",
       "    <tr>\n",
       "      <th>min</th>\n",
       "      <td>1.000000</td>\n",
       "      <td>5.000000</td>\n",
       "      <td>5.000000</td>\n",
       "      <td>10.000000</td>\n",
       "      <td>20.000000</td>\n",
       "      <td>5.000000</td>\n",
       "    </tr>\n",
       "    <tr>\n",
       "      <th>25%</th>\n",
       "      <td>50.000000</td>\n",
       "      <td>55.000000</td>\n",
       "      <td>50.000000</td>\n",
       "      <td>47.000000</td>\n",
       "      <td>50.000000</td>\n",
       "      <td>45.000000</td>\n",
       "    </tr>\n",
       "    <tr>\n",
       "      <th>50%</th>\n",
       "      <td>65.000000</td>\n",
       "      <td>75.000000</td>\n",
       "      <td>70.000000</td>\n",
       "      <td>65.000000</td>\n",
       "      <td>66.000000</td>\n",
       "      <td>65.000000</td>\n",
       "    </tr>\n",
       "    <tr>\n",
       "      <th>75%</th>\n",
       "      <td>80.000000</td>\n",
       "      <td>95.000000</td>\n",
       "      <td>90.000000</td>\n",
       "      <td>91.000000</td>\n",
       "      <td>86.000000</td>\n",
       "      <td>90.000000</td>\n",
       "    </tr>\n",
       "    <tr>\n",
       "      <th>max</th>\n",
       "      <td>255.000000</td>\n",
       "      <td>190.000000</td>\n",
       "      <td>230.000000</td>\n",
       "      <td>194.000000</td>\n",
       "      <td>230.000000</td>\n",
       "      <td>180.000000</td>\n",
       "    </tr>\n",
       "  </tbody>\n",
       "</table>\n",
       "</div>"
      ],
      "text/plain": [
       "               HP      Attack     Defense  Special Attack  Special Defense  \\\n",
       "count  773.000000  773.000000  773.000000      773.000000       773.000000   \n",
       "mean    68.931436   77.318241   72.552393       71.182406        70.626132   \n",
       "std     25.754605   31.176825   30.114400       31.236588        27.222670   \n",
       "min      1.000000    5.000000    5.000000       10.000000        20.000000   \n",
       "25%     50.000000   55.000000   50.000000       47.000000        50.000000   \n",
       "50%     65.000000   75.000000   70.000000       65.000000        66.000000   \n",
       "75%     80.000000   95.000000   90.000000       91.000000        86.000000   \n",
       "max    255.000000  190.000000  230.000000      194.000000       230.000000   \n",
       "\n",
       "            Speed  \n",
       "count  773.000000  \n",
       "mean    67.596378  \n",
       "std     28.511657  \n",
       "min      5.000000  \n",
       "25%     45.000000  \n",
       "50%     65.000000  \n",
       "75%     90.000000  \n",
       "max    180.000000  "
      ]
     },
     "metadata": {},
     "output_type": "display_data"
    }
   ],
   "source": [
    "tmp_class = prep_class(df=tmp_df,\n",
    "                       id_col='Name')"
   ]
  },
  {
   "cell_type": "markdown",
   "metadata": {
    "id": "uMuwUBVCAy2W"
   },
   "source": [
    "<img src=\"./참고이미지/Q1/Q1_1.png\" width=\"100%\">"
   ]
  },
  {
   "cell_type": "markdown",
   "metadata": {
    "id": "Nluv9NaeAy2X"
   },
   "source": [
    "<b>코드 Cell</b>\n",
    "- [Q1] 객체의 속성을 확인합니다.\n",
    "- 속성이 제대로 설정되었는지 확인하기 위한 코드셀입니다.\n",
    "- 동일한 결과가 나타나는지 확인해주시면 됩니다."
   ]
  },
  {
   "cell_type": "code",
   "execution_count": 14,
   "metadata": {
    "id": "UNhvjSr3Ay2X"
   },
   "outputs": [
    {
     "name": "stdout",
     "output_type": "stream",
     "text": [
      "==================== 클래스의 df 속성 정보를 출력합니다. ====================\n"
     ]
    },
    {
     "data": {
      "text/html": [
       "<div>\n",
       "<style scoped>\n",
       "    .dataframe tbody tr th:only-of-type {\n",
       "        vertical-align: middle;\n",
       "    }\n",
       "\n",
       "    .dataframe tbody tr th {\n",
       "        vertical-align: top;\n",
       "    }\n",
       "\n",
       "    .dataframe thead th {\n",
       "        text-align: right;\n",
       "    }\n",
       "</style>\n",
       "<table border=\"1\" class=\"dataframe\">\n",
       "  <thead>\n",
       "    <tr style=\"text-align: right;\">\n",
       "      <th></th>\n",
       "      <th>Name</th>\n",
       "      <th>HP</th>\n",
       "      <th>Attack</th>\n",
       "      <th>Defense</th>\n",
       "      <th>Special Attack</th>\n",
       "      <th>Special Defense</th>\n",
       "      <th>Speed</th>\n",
       "    </tr>\n",
       "  </thead>\n",
       "  <tbody>\n",
       "    <tr>\n",
       "      <th>0</th>\n",
       "      <td>Bulbasaur</td>\n",
       "      <td>45</td>\n",
       "      <td>49</td>\n",
       "      <td>49</td>\n",
       "      <td>65</td>\n",
       "      <td>65</td>\n",
       "      <td>45</td>\n",
       "    </tr>\n",
       "    <tr>\n",
       "      <th>1</th>\n",
       "      <td>Ivysaur</td>\n",
       "      <td>60</td>\n",
       "      <td>62</td>\n",
       "      <td>63</td>\n",
       "      <td>80</td>\n",
       "      <td>80</td>\n",
       "      <td>60</td>\n",
       "    </tr>\n",
       "    <tr>\n",
       "      <th>2</th>\n",
       "      <td>Venusaur</td>\n",
       "      <td>80</td>\n",
       "      <td>82</td>\n",
       "      <td>83</td>\n",
       "      <td>100</td>\n",
       "      <td>100</td>\n",
       "      <td>80</td>\n",
       "    </tr>\n",
       "    <tr>\n",
       "      <th>3</th>\n",
       "      <td>Mega Venusaur</td>\n",
       "      <td>80</td>\n",
       "      <td>100</td>\n",
       "      <td>123</td>\n",
       "      <td>122</td>\n",
       "      <td>120</td>\n",
       "      <td>80</td>\n",
       "    </tr>\n",
       "    <tr>\n",
       "      <th>4</th>\n",
       "      <td>Charmander</td>\n",
       "      <td>39</td>\n",
       "      <td>52</td>\n",
       "      <td>43</td>\n",
       "      <td>60</td>\n",
       "      <td>50</td>\n",
       "      <td>65</td>\n",
       "    </tr>\n",
       "    <tr>\n",
       "      <th>...</th>\n",
       "      <td>...</td>\n",
       "      <td>...</td>\n",
       "      <td>...</td>\n",
       "      <td>...</td>\n",
       "      <td>...</td>\n",
       "      <td>...</td>\n",
       "      <td>...</td>\n",
       "    </tr>\n",
       "    <tr>\n",
       "      <th>768</th>\n",
       "      <td>Noibat</td>\n",
       "      <td>40</td>\n",
       "      <td>30</td>\n",
       "      <td>35</td>\n",
       "      <td>45</td>\n",
       "      <td>40</td>\n",
       "      <td>55</td>\n",
       "    </tr>\n",
       "    <tr>\n",
       "      <th>769</th>\n",
       "      <td>Noivern</td>\n",
       "      <td>85</td>\n",
       "      <td>70</td>\n",
       "      <td>80</td>\n",
       "      <td>97</td>\n",
       "      <td>80</td>\n",
       "      <td>123</td>\n",
       "    </tr>\n",
       "    <tr>\n",
       "      <th>770</th>\n",
       "      <td>Xerneas</td>\n",
       "      <td>126</td>\n",
       "      <td>131</td>\n",
       "      <td>95</td>\n",
       "      <td>131</td>\n",
       "      <td>98</td>\n",
       "      <td>99</td>\n",
       "    </tr>\n",
       "    <tr>\n",
       "      <th>771</th>\n",
       "      <td>Yveltal</td>\n",
       "      <td>126</td>\n",
       "      <td>131</td>\n",
       "      <td>95</td>\n",
       "      <td>131</td>\n",
       "      <td>98</td>\n",
       "      <td>99</td>\n",
       "    </tr>\n",
       "    <tr>\n",
       "      <th>772</th>\n",
       "      <td>Zygarde</td>\n",
       "      <td>108</td>\n",
       "      <td>100</td>\n",
       "      <td>121</td>\n",
       "      <td>81</td>\n",
       "      <td>95</td>\n",
       "      <td>95</td>\n",
       "    </tr>\n",
       "  </tbody>\n",
       "</table>\n",
       "<p>773 rows × 7 columns</p>\n",
       "</div>"
      ],
      "text/plain": [
       "              Name   HP  Attack  Defense  Special Attack  Special Defense  \\\n",
       "0        Bulbasaur   45      49       49              65               65   \n",
       "1          Ivysaur   60      62       63              80               80   \n",
       "2         Venusaur   80      82       83             100              100   \n",
       "3    Mega Venusaur   80     100      123             122              120   \n",
       "4       Charmander   39      52       43              60               50   \n",
       "..             ...  ...     ...      ...             ...              ...   \n",
       "768         Noibat   40      30       35              45               40   \n",
       "769        Noivern   85      70       80              97               80   \n",
       "770        Xerneas  126     131       95             131               98   \n",
       "771        Yveltal  126     131       95             131               98   \n",
       "772        Zygarde  108     100      121              81               95   \n",
       "\n",
       "     Speed  \n",
       "0       45  \n",
       "1       60  \n",
       "2       80  \n",
       "3       80  \n",
       "4       65  \n",
       "..     ...  \n",
       "768     55  \n",
       "769    123  \n",
       "770     99  \n",
       "771     99  \n",
       "772     95  \n",
       "\n",
       "[773 rows x 7 columns]"
      ]
     },
     "metadata": {},
     "output_type": "display_data"
    },
    {
     "name": "stdout",
     "output_type": "stream",
     "text": [
      "==================== 클래스의 id_col 속성 정보를 출력합니다. ====================\n",
      "Name\n"
     ]
    }
   ],
   "source": [
    "print(\"=\" * 20, \"클래스의 df 속성 정보를 출력합니다.\", \"=\" * 20)\n",
    "display(tmp_class.df)\n",
    "print(\"=\" * 20, \"클래스의 id_col 속성 정보를 출력합니다.\", \"=\" * 20)\n",
    "print(tmp_class.id_col)"
   ]
  },
  {
   "cell_type": "markdown",
   "metadata": {
    "id": "WJdiFKCkAy2X"
   },
   "source": [
    "<img src=\"./참고이미지/Q1/Q1_2.png\" width=\"100%\">"
   ]
  },
  {
   "cell_type": "markdown",
   "metadata": {
    "id": "FwzOpg9fAy2X"
   },
   "source": [
    "## Q2. 데이터 변형 메서드 구현"
   ]
  },
  {
   "cell_type": "markdown",
   "metadata": {
    "id": "xZQYEqNSAy2X"
   },
   "source": [
    "<b>설명</b>\n",
    "- [Q1~Q2 클래스 설계 문제] - Q2 메서드를 실행합니다.\n",
    "\n",
    "- 정렬 순서도 지켜주셔야 하며, 정렬 과정은 메서드 내에서 구현되어야 합니다.\n",
    "- 정렬은 Name 컬럼 기준으로 오름차순으로 정렬합니다."
   ]
  },
  {
   "cell_type": "code",
   "execution_count": 54,
   "metadata": {
    "id": "zrBzXoPlAy2X"
   },
   "outputs": [
    {
     "name": "stdout",
     "output_type": "stream",
     "text": [
      "==================== 변환 이전의 데이터프레임 형태입니다. ====================\n"
     ]
    },
    {
     "data": {
      "text/plain": [
       "(773, 7)"
      ]
     },
     "metadata": {},
     "output_type": "display_data"
    },
    {
     "data": {
      "text/html": [
       "<div>\n",
       "<style scoped>\n",
       "    .dataframe tbody tr th:only-of-type {\n",
       "        vertical-align: middle;\n",
       "    }\n",
       "\n",
       "    .dataframe tbody tr th {\n",
       "        vertical-align: top;\n",
       "    }\n",
       "\n",
       "    .dataframe thead th {\n",
       "        text-align: right;\n",
       "    }\n",
       "</style>\n",
       "<table border=\"1\" class=\"dataframe\">\n",
       "  <thead>\n",
       "    <tr style=\"text-align: right;\">\n",
       "      <th></th>\n",
       "      <th>Name</th>\n",
       "      <th>HP</th>\n",
       "      <th>Attack</th>\n",
       "      <th>Defense</th>\n",
       "      <th>Special Attack</th>\n",
       "      <th>Special Defense</th>\n",
       "      <th>Speed</th>\n",
       "    </tr>\n",
       "  </thead>\n",
       "  <tbody>\n",
       "    <tr>\n",
       "      <th>0</th>\n",
       "      <td>Bulbasaur</td>\n",
       "      <td>45</td>\n",
       "      <td>49</td>\n",
       "      <td>49</td>\n",
       "      <td>65</td>\n",
       "      <td>65</td>\n",
       "      <td>45</td>\n",
       "    </tr>\n",
       "    <tr>\n",
       "      <th>1</th>\n",
       "      <td>Ivysaur</td>\n",
       "      <td>60</td>\n",
       "      <td>62</td>\n",
       "      <td>63</td>\n",
       "      <td>80</td>\n",
       "      <td>80</td>\n",
       "      <td>60</td>\n",
       "    </tr>\n",
       "    <tr>\n",
       "      <th>2</th>\n",
       "      <td>Venusaur</td>\n",
       "      <td>80</td>\n",
       "      <td>82</td>\n",
       "      <td>83</td>\n",
       "      <td>100</td>\n",
       "      <td>100</td>\n",
       "      <td>80</td>\n",
       "    </tr>\n",
       "    <tr>\n",
       "      <th>3</th>\n",
       "      <td>Mega Venusaur</td>\n",
       "      <td>80</td>\n",
       "      <td>100</td>\n",
       "      <td>123</td>\n",
       "      <td>122</td>\n",
       "      <td>120</td>\n",
       "      <td>80</td>\n",
       "    </tr>\n",
       "    <tr>\n",
       "      <th>4</th>\n",
       "      <td>Charmander</td>\n",
       "      <td>39</td>\n",
       "      <td>52</td>\n",
       "      <td>43</td>\n",
       "      <td>60</td>\n",
       "      <td>50</td>\n",
       "      <td>65</td>\n",
       "    </tr>\n",
       "  </tbody>\n",
       "</table>\n",
       "</div>"
      ],
      "text/plain": [
       "            Name  HP  Attack  Defense  Special Attack  Special Defense  Speed\n",
       "0      Bulbasaur  45      49       49              65               65     45\n",
       "1        Ivysaur  60      62       63              80               80     60\n",
       "2       Venusaur  80      82       83             100              100     80\n",
       "3  Mega Venusaur  80     100      123             122              120     80\n",
       "4     Charmander  39      52       43              60               50     65"
      ]
     },
     "metadata": {},
     "output_type": "display_data"
    },
    {
     "name": "stdout",
     "output_type": "stream",
     "text": [
      "==================== 변환 이후의 데이터프레임 형태입니다. ====================\n"
     ]
    },
    {
     "data": {
      "text/plain": [
       "(4638, 3)"
      ]
     },
     "metadata": {},
     "output_type": "display_data"
    },
    {
     "data": {
      "text/html": [
       "<div>\n",
       "<style scoped>\n",
       "    .dataframe tbody tr th:only-of-type {\n",
       "        vertical-align: middle;\n",
       "    }\n",
       "\n",
       "    .dataframe tbody tr th {\n",
       "        vertical-align: top;\n",
       "    }\n",
       "\n",
       "    .dataframe thead th {\n",
       "        text-align: right;\n",
       "    }\n",
       "</style>\n",
       "<table border=\"1\" class=\"dataframe\">\n",
       "  <thead>\n",
       "    <tr style=\"text-align: right;\">\n",
       "      <th></th>\n",
       "      <th>Name</th>\n",
       "      <th>ability</th>\n",
       "      <th>score</th>\n",
       "    </tr>\n",
       "  </thead>\n",
       "  <tbody>\n",
       "    <tr>\n",
       "      <th>3583</th>\n",
       "      <td>Abomasnow</td>\n",
       "      <td>Special Defense</td>\n",
       "      <td>85</td>\n",
       "    </tr>\n",
       "    <tr>\n",
       "      <th>2037</th>\n",
       "      <td>Abomasnow</td>\n",
       "      <td>Defense</td>\n",
       "      <td>75</td>\n",
       "    </tr>\n",
       "    <tr>\n",
       "      <th>1264</th>\n",
       "      <td>Abomasnow</td>\n",
       "      <td>Attack</td>\n",
       "      <td>92</td>\n",
       "    </tr>\n",
       "    <tr>\n",
       "      <th>491</th>\n",
       "      <td>Abomasnow</td>\n",
       "      <td>HP</td>\n",
       "      <td>90</td>\n",
       "    </tr>\n",
       "    <tr>\n",
       "      <th>4356</th>\n",
       "      <td>Abomasnow</td>\n",
       "      <td>Speed</td>\n",
       "      <td>60</td>\n",
       "    </tr>\n",
       "  </tbody>\n",
       "</table>\n",
       "</div>"
      ],
      "text/plain": [
       "           Name          ability  score\n",
       "3583  Abomasnow  Special Defense     85\n",
       "2037  Abomasnow          Defense     75\n",
       "1264  Abomasnow           Attack     92\n",
       "491   Abomasnow               HP     90\n",
       "4356  Abomasnow            Speed     60"
      ]
     },
     "metadata": {},
     "output_type": "display_data"
    }
   ],
   "source": [
    "# 반드시, 해당 셀에는 메서드 실행과 속성 출력 이외에는 어떠한 코드도 작성되지 않아야 합니다.\n",
    "# 메서드 실행, 속성 출력 두 가지 코드만 입력 부탁드립니다.\n",
    "# 셀 출력 결과를 얻기 위해, 별도의 초드를 추가하는 경우 오답으로 처리될 수 있습니다.\n",
    "\n",
    "tmp_class.transform_melt(var_name = 'ability',\n",
    "                         value_name = 'score',\n",
    "                         value_col_list=['HP', 'Attack', 'Defense',\n",
    "                                       'Special Attack', 'Special Defense', 'Speed'])"
   ]
  },
  {
   "cell_type": "markdown",
   "metadata": {
    "id": "CU961_rxAy2X"
   },
   "source": [
    "<img src=\"./참고이미지/Q2/Q2_1.png\" width=\"100%\">"
   ]
  },
  {
   "cell_type": "markdown",
   "metadata": {
    "id": "sOUCuEpNAy2X"
   },
   "source": [
    "<b>코드 Cell</b>\n",
    "- 속성 확인 결과입니다.\n",
    "- 동일한 결과를 출력할 수 있어야 합니다."
   ]
  },
  {
   "cell_type": "code",
   "execution_count": 55,
   "metadata": {
    "id": "ajl_ERgWAy2X"
   },
   "outputs": [
    {
     "data": {
      "text/html": [
       "<div>\n",
       "<style scoped>\n",
       "    .dataframe tbody tr th:only-of-type {\n",
       "        vertical-align: middle;\n",
       "    }\n",
       "\n",
       "    .dataframe tbody tr th {\n",
       "        vertical-align: top;\n",
       "    }\n",
       "\n",
       "    .dataframe thead th {\n",
       "        text-align: right;\n",
       "    }\n",
       "</style>\n",
       "<table border=\"1\" class=\"dataframe\">\n",
       "  <thead>\n",
       "    <tr style=\"text-align: right;\">\n",
       "      <th></th>\n",
       "      <th>Name</th>\n",
       "      <th>ability</th>\n",
       "      <th>score</th>\n",
       "    </tr>\n",
       "  </thead>\n",
       "  <tbody>\n",
       "    <tr>\n",
       "      <th>3583</th>\n",
       "      <td>Abomasnow</td>\n",
       "      <td>Special Defense</td>\n",
       "      <td>85</td>\n",
       "    </tr>\n",
       "    <tr>\n",
       "      <th>2037</th>\n",
       "      <td>Abomasnow</td>\n",
       "      <td>Defense</td>\n",
       "      <td>75</td>\n",
       "    </tr>\n",
       "    <tr>\n",
       "      <th>1264</th>\n",
       "      <td>Abomasnow</td>\n",
       "      <td>Attack</td>\n",
       "      <td>92</td>\n",
       "    </tr>\n",
       "    <tr>\n",
       "      <th>491</th>\n",
       "      <td>Abomasnow</td>\n",
       "      <td>HP</td>\n",
       "      <td>90</td>\n",
       "    </tr>\n",
       "    <tr>\n",
       "      <th>4356</th>\n",
       "      <td>Abomasnow</td>\n",
       "      <td>Speed</td>\n",
       "      <td>60</td>\n",
       "    </tr>\n",
       "    <tr>\n",
       "      <th>...</th>\n",
       "      <td>...</td>\n",
       "      <td>...</td>\n",
       "      <td>...</td>\n",
       "    </tr>\n",
       "    <tr>\n",
       "      <th>3091</th>\n",
       "      <td>Zygarde</td>\n",
       "      <td>Special Attack</td>\n",
       "      <td>81</td>\n",
       "    </tr>\n",
       "    <tr>\n",
       "      <th>1545</th>\n",
       "      <td>Zygarde</td>\n",
       "      <td>Attack</td>\n",
       "      <td>100</td>\n",
       "    </tr>\n",
       "    <tr>\n",
       "      <th>772</th>\n",
       "      <td>Zygarde</td>\n",
       "      <td>HP</td>\n",
       "      <td>108</td>\n",
       "    </tr>\n",
       "    <tr>\n",
       "      <th>3864</th>\n",
       "      <td>Zygarde</td>\n",
       "      <td>Special Defense</td>\n",
       "      <td>95</td>\n",
       "    </tr>\n",
       "    <tr>\n",
       "      <th>4637</th>\n",
       "      <td>Zygarde</td>\n",
       "      <td>Speed</td>\n",
       "      <td>95</td>\n",
       "    </tr>\n",
       "  </tbody>\n",
       "</table>\n",
       "<p>4638 rows × 3 columns</p>\n",
       "</div>"
      ],
      "text/plain": [
       "           Name          ability  score\n",
       "3583  Abomasnow  Special Defense     85\n",
       "2037  Abomasnow          Defense     75\n",
       "1264  Abomasnow           Attack     92\n",
       "491   Abomasnow               HP     90\n",
       "4356  Abomasnow            Speed     60\n",
       "...         ...              ...    ...\n",
       "3091    Zygarde   Special Attack     81\n",
       "1545    Zygarde           Attack    100\n",
       "772     Zygarde               HP    108\n",
       "3864    Zygarde  Special Defense     95\n",
       "4637    Zygarde            Speed     95\n",
       "\n",
       "[4638 rows x 3 columns]"
      ]
     },
     "execution_count": 55,
     "metadata": {},
     "output_type": "execute_result"
    }
   ],
   "source": [
    "tmp_class.melt_df"
   ]
  },
  {
   "cell_type": "markdown",
   "metadata": {
    "id": "chBRKi6KAy2Y"
   },
   "source": [
    "<img src=\"./참고이미지/Q2/Q2_2.png\" width=\"100%\">"
   ]
  },
  {
   "cell_type": "markdown",
   "metadata": {
    "id": "EpBIE9MNAy2Y"
   },
   "source": [
    "# Q3. 함수 선언 - 요구된 명령어에 맞게 동작하는 함수를 설계해주세요"
   ]
  },
  {
   "cell_type": "markdown",
   "metadata": {
    "id": "VVb9DEzHAy2Y"
   },
   "source": [
    "<b>1. 문제설명) 명령어에 맞게 동작을 수행하는 사용자 정의 함수를 선언해주세요</b>\n",
    "- Boxplot 시각화 : 입력된 컬럼들에 대하여 boxplot 시각화를 수행합니다.\n",
    "- 상관관계 시각화 : 입력된 컬럼들에 대하여 상관관계 시각화를 수행합니다.\n",
    "- 정지 : \"동작을 정지합니다.\"를 출력한 이후 동작을 종료합니다.\n",
    "- 위에 해당하지 않는 경우 : \"존재하지 않는 명령어입니다. 다시 실행합니다.\"를 출력 후, 다시 명령어 입력 동작을 수행합니다."
   ]
  },
  {
   "cell_type": "markdown",
   "metadata": {
    "id": "YhuKzyFoAy2Y"
   },
   "source": [
    "<b>2. 명령어 입력</b>\n",
    "- 명령어 입력은 input 함수를 통해 이루어졌습니다."
   ]
  },
  {
   "cell_type": "markdown",
   "metadata": {
    "id": "eYGSqrDjjdYr"
   },
   "source": [
    "<b>3. 셀 출력 순서</b>\n",
    "- 아래의 사용자 정의 함수 출력은 아래 명령어 순서에 따라 이루어졌습니다.  \n",
    "    - \"Boxplot 시각화\" 입력  \n",
    "    - \"상관관계 시각화\" 입력  \n",
    "    - \"존재하지 않는 명령어(=어떤 문장이든 상관없습니다.)\" 입력  \n",
    "    - \"정지\" 입력 후, 동작 정지  "
   ]
  },
  {
   "cell_type": "markdown",
   "metadata": {
    "id": "9Po5xBQAjdYr"
   },
   "source": [
    "<b>4. 조건</b>\n",
    "- \"정지\" 명령어를 입력하기 전에는 함수 동작이 종료되지 않아야 합니다."
   ]
  },
  {
   "cell_type": "markdown",
   "metadata": {
    "id": "PxW1gCw2Ay2Y"
   },
   "source": [
    "<b>코드 Cell</b>\n",
    "- 데이터를 새롭게 불러오기 위한 코드셀입니다."
   ]
  },
  {
   "cell_type": "code",
   "execution_count": 56,
   "metadata": {
    "id": "b80fPczeAy2Y"
   },
   "outputs": [
    {
     "data": {
      "text/html": [
       "<div>\n",
       "<style scoped>\n",
       "    .dataframe tbody tr th:only-of-type {\n",
       "        vertical-align: middle;\n",
       "    }\n",
       "\n",
       "    .dataframe tbody tr th {\n",
       "        vertical-align: top;\n",
       "    }\n",
       "\n",
       "    .dataframe thead th {\n",
       "        text-align: right;\n",
       "    }\n",
       "</style>\n",
       "<table border=\"1\" class=\"dataframe\">\n",
       "  <thead>\n",
       "    <tr style=\"text-align: right;\">\n",
       "      <th></th>\n",
       "      <th>Name</th>\n",
       "      <th>HP</th>\n",
       "      <th>Attack</th>\n",
       "      <th>Defense</th>\n",
       "      <th>Special Attack</th>\n",
       "      <th>Special Defense</th>\n",
       "      <th>Speed</th>\n",
       "    </tr>\n",
       "  </thead>\n",
       "  <tbody>\n",
       "    <tr>\n",
       "      <th>0</th>\n",
       "      <td>Bulbasaur</td>\n",
       "      <td>45</td>\n",
       "      <td>49</td>\n",
       "      <td>49</td>\n",
       "      <td>65</td>\n",
       "      <td>65</td>\n",
       "      <td>45</td>\n",
       "    </tr>\n",
       "    <tr>\n",
       "      <th>1</th>\n",
       "      <td>Ivysaur</td>\n",
       "      <td>60</td>\n",
       "      <td>62</td>\n",
       "      <td>63</td>\n",
       "      <td>80</td>\n",
       "      <td>80</td>\n",
       "      <td>60</td>\n",
       "    </tr>\n",
       "    <tr>\n",
       "      <th>2</th>\n",
       "      <td>Venusaur</td>\n",
       "      <td>80</td>\n",
       "      <td>82</td>\n",
       "      <td>83</td>\n",
       "      <td>100</td>\n",
       "      <td>100</td>\n",
       "      <td>80</td>\n",
       "    </tr>\n",
       "    <tr>\n",
       "      <th>3</th>\n",
       "      <td>Mega Venusaur</td>\n",
       "      <td>80</td>\n",
       "      <td>100</td>\n",
       "      <td>123</td>\n",
       "      <td>122</td>\n",
       "      <td>120</td>\n",
       "      <td>80</td>\n",
       "    </tr>\n",
       "    <tr>\n",
       "      <th>4</th>\n",
       "      <td>Charmander</td>\n",
       "      <td>39</td>\n",
       "      <td>52</td>\n",
       "      <td>43</td>\n",
       "      <td>60</td>\n",
       "      <td>50</td>\n",
       "      <td>65</td>\n",
       "    </tr>\n",
       "  </tbody>\n",
       "</table>\n",
       "</div>"
      ],
      "text/plain": [
       "            Name  HP  Attack  Defense  Special Attack  Special Defense  Speed\n",
       "0      Bulbasaur  45      49       49              65               65     45\n",
       "1        Ivysaur  60      62       63              80               80     60\n",
       "2       Venusaur  80      82       83             100              100     80\n",
       "3  Mega Venusaur  80     100      123             122              120     80\n",
       "4     Charmander  39      52       43              60               50     65"
      ]
     },
     "metadata": {},
     "output_type": "display_data"
    },
    {
     "data": {
      "text/plain": [
       "Name\n",
       "Charmeleon    1\n",
       "Zygarde       1\n",
       "Bulbasaur     1\n",
       "Ivysaur       1\n",
       "Venusaur      1\n",
       "Name: count, dtype: int64"
      ]
     },
     "metadata": {},
     "output_type": "display_data"
    },
    {
     "data": {
      "text/plain": [
       "Name\n",
       "Wartortle         1\n",
       "Blastoise         1\n",
       "Mega Blastoise    1\n",
       "Caterpie          1\n",
       "Metapod           1\n",
       "Name: count, dtype: int64"
      ]
     },
     "metadata": {},
     "output_type": "display_data"
    },
    {
     "name": "stdout",
     "output_type": "stream",
     "text": [
      "<class 'pandas.core.frame.DataFrame'>\n",
      "RangeIndex: 773 entries, 0 to 772\n",
      "Data columns (total 7 columns):\n",
      " #   Column           Non-Null Count  Dtype \n",
      "---  ------           --------------  ----- \n",
      " 0   Name             773 non-null    object\n",
      " 1   HP               773 non-null    int64 \n",
      " 2   Attack           773 non-null    int64 \n",
      " 3   Defense          773 non-null    int64 \n",
      " 4   Special Attack   773 non-null    int64 \n",
      " 5   Special Defense  773 non-null    int64 \n",
      " 6   Speed            773 non-null    int64 \n",
      "dtypes: int64(6), object(1)\n",
      "memory usage: 42.4+ KB\n"
     ]
    },
    {
     "data": {
      "text/plain": [
       "None"
      ]
     },
     "metadata": {},
     "output_type": "display_data"
    }
   ],
   "source": [
    "import pandas as pd\n",
    "\n",
    "tmp_df = pd.read_csv('./data_과제/pokemon_prep.csv')\n",
    "display(tmp_df.head())\n",
    "\n",
    "display(tmp_df['Name'].value_counts().sort_values(ascending=False).head()) # 겹치는 데이터가 있는지 확인하는 과정입니다.\n",
    "display(tmp_df['Name'].value_counts().sort_values(ascending=True).head()) # 겹치는 데이터가 있는지 확인하는 과정2입니다.\n",
    "\n",
    "display(tmp_df.info())"
   ]
  },
  {
   "cell_type": "markdown",
   "metadata": {
    "id": "TnX6piisAy2Y"
   },
   "source": [
    "<img src=\"./참고이미지/Q3/Q3_1.png\" width=\"60%\">"
   ]
  },
  {
   "cell_type": "markdown",
   "metadata": {
    "id": "56fwzzhdAy2Z"
   },
   "source": [
    "<코드 Cell>\n",
    "- 함수 정의를 수행하는 코드셀입니다.\n",
    "- 조건에 맞게 코드를 작성해주세요."
   ]
  },
  {
   "cell_type": "code",
   "execution_count": 91,
   "metadata": {
    "id": "C3zwdpzmAy2Z"
   },
   "outputs": [],
   "source": [
    "import seaborn as sns\n",
    "import matplotlib.pyplot as plt\n",
    "\n",
    "def visualize_func(df, numeric_col_list):\n",
    "    # 함수 기본 실행 상태\n",
    "    print(\"=\" * 35, \"경우의 수 : 함수 기본 실행 상태\", \"=\" * 35)\n",
    "    print(\"데이터프레임 데이터입니다.\")\n",
    "    display(df.head())\n",
    "    print(\"컬럼 목록입니다.\")\n",
    "    print(numeric_col_list)\n",
    "    print(\"명령어를 입력해주세요. 명령어 [Boxplot 시각화, 상관관계 시각화, 정지]\")\n",
    "\n",
    "    while True:\n",
    "        command = input(\"명령어를 입력해주세요: \")\n",
    "        \n",
    "        # 각 컬럼별로 박스플롯 생성\n",
    "        if command == \"Boxplot 시각화\":\n",
    "            print(\"=\" * 35, \"경우의 수 : Boxplot 시각화 입력\", \"=\" * 35)\n",
    "            print(\"동작을 계속 수행합니다.\")\n",
    "            for col in numeric_col_list:\n",
    "                plt.figure(figsize=(10, 3))\n",
    "                sns.boxplot(data=df, x=col)\n",
    "                plt.title(col)\n",
    "                plt.show()\n",
    "\n",
    "            print(\"Boxplot 시각화를 완료했습니다.\")\n",
    "            print(\"명령어를 입력해주세요. 명령어 [Boxplot 시각화, 상관관계 시각화, 정지]\")\n",
    "        \n",
    "        # 상관관계 히트맵 생성\n",
    "        elif command == \"상관관계 시각화\":\n",
    "            print(\"=\" * 35, \"경우의 수 : 상관관계 시각화 입력\", \"=\" * 35)\n",
    "            correlation_matrix = df[numeric_col_list].corr()\n",
    "            sns.heatmap(correlation_matrix, annot=True, cmap='magma')\n",
    "            plt.show()\n",
    "            print(\"상관관계 시각화각화를 완료했습니다.\")\n",
    "            print(\"명령어를 입력해주세요. 명령어 [Boxplot 시각화, 상관관계 시각화, 정지]\")\n",
    "            \n",
    "        elif command == \"정지\":\n",
    "            print(\"=\" * 35, \"경우의 수 : 정지 입력\", \"=\" * 35)\n",
    "            print(\"동작을 정지합니다.\")\n",
    "            break\n",
    "            \n",
    "        else:\n",
    "            print(\"=\" * 35, \"경우의 수 : 존재하지 않는 명령어 입력\", \"=\" * 35)\n",
    "            print(\"존재하지 않는 명령어입니다. 다시 실행합니다.\")\n",
    "            print(\"명령어를 입력해주세요. 명령어 [Boxplot 시각화, 상관관계 시각화, 정지]\")\n"
   ]
  },
  {
   "cell_type": "markdown",
   "metadata": {
    "id": "MorguJUIAy2Z"
   },
   "source": [
    "<b>코드 실행 Cell</b>\n",
    "1. 코드 Cell\n",
    "    - 함수를 실행하는 코드셀입니다."
   ]
  },
  {
   "cell_type": "markdown",
   "metadata": {
    "id": "TjU0thVsjdYt"
   },
   "source": [
    "2. 조건\n",
    "    - 반드시, 해당 코드셀에서는 함수 실행만 이루어져야 합니다.\n",
    "    - 아래와 동일한 입력인자에 대해서, 동일한 출력이 이루어져야 합니다.\n",
    "    - 출력 결과를 만족시키기 위해 추가 코드를 작성할 경우 오답으로 처리될 수 있습니다.\n",
    "    - 명령어 입력은 input 함수를 통해 수행합니다."
   ]
  },
  {
   "cell_type": "code",
   "execution_count": 92,
   "metadata": {
    "id": "mj5zzfNoAy2Z"
   },
   "outputs": [
    {
     "name": "stdout",
     "output_type": "stream",
     "text": [
      "=================================== 경우의 수 : 함수 기본 실행 상태 ===================================\n",
      "데이터프레임 데이터입니다.\n"
     ]
    },
    {
     "data": {
      "text/html": [
       "<div>\n",
       "<style scoped>\n",
       "    .dataframe tbody tr th:only-of-type {\n",
       "        vertical-align: middle;\n",
       "    }\n",
       "\n",
       "    .dataframe tbody tr th {\n",
       "        vertical-align: top;\n",
       "    }\n",
       "\n",
       "    .dataframe thead th {\n",
       "        text-align: right;\n",
       "    }\n",
       "</style>\n",
       "<table border=\"1\" class=\"dataframe\">\n",
       "  <thead>\n",
       "    <tr style=\"text-align: right;\">\n",
       "      <th></th>\n",
       "      <th>Name</th>\n",
       "      <th>HP</th>\n",
       "      <th>Attack</th>\n",
       "      <th>Defense</th>\n",
       "      <th>Special Attack</th>\n",
       "      <th>Special Defense</th>\n",
       "      <th>Speed</th>\n",
       "    </tr>\n",
       "  </thead>\n",
       "  <tbody>\n",
       "    <tr>\n",
       "      <th>0</th>\n",
       "      <td>Bulbasaur</td>\n",
       "      <td>45</td>\n",
       "      <td>49</td>\n",
       "      <td>49</td>\n",
       "      <td>65</td>\n",
       "      <td>65</td>\n",
       "      <td>45</td>\n",
       "    </tr>\n",
       "    <tr>\n",
       "      <th>1</th>\n",
       "      <td>Ivysaur</td>\n",
       "      <td>60</td>\n",
       "      <td>62</td>\n",
       "      <td>63</td>\n",
       "      <td>80</td>\n",
       "      <td>80</td>\n",
       "      <td>60</td>\n",
       "    </tr>\n",
       "    <tr>\n",
       "      <th>2</th>\n",
       "      <td>Venusaur</td>\n",
       "      <td>80</td>\n",
       "      <td>82</td>\n",
       "      <td>83</td>\n",
       "      <td>100</td>\n",
       "      <td>100</td>\n",
       "      <td>80</td>\n",
       "    </tr>\n",
       "    <tr>\n",
       "      <th>3</th>\n",
       "      <td>Mega Venusaur</td>\n",
       "      <td>80</td>\n",
       "      <td>100</td>\n",
       "      <td>123</td>\n",
       "      <td>122</td>\n",
       "      <td>120</td>\n",
       "      <td>80</td>\n",
       "    </tr>\n",
       "    <tr>\n",
       "      <th>4</th>\n",
       "      <td>Charmander</td>\n",
       "      <td>39</td>\n",
       "      <td>52</td>\n",
       "      <td>43</td>\n",
       "      <td>60</td>\n",
       "      <td>50</td>\n",
       "      <td>65</td>\n",
       "    </tr>\n",
       "  </tbody>\n",
       "</table>\n",
       "</div>"
      ],
      "text/plain": [
       "            Name  HP  Attack  Defense  Special Attack  Special Defense  Speed\n",
       "0      Bulbasaur  45      49       49              65               65     45\n",
       "1        Ivysaur  60      62       63              80               80     60\n",
       "2       Venusaur  80      82       83             100              100     80\n",
       "3  Mega Venusaur  80     100      123             122              120     80\n",
       "4     Charmander  39      52       43              60               50     65"
      ]
     },
     "metadata": {},
     "output_type": "display_data"
    },
    {
     "name": "stdout",
     "output_type": "stream",
     "text": [
      "컬럼 목록입니다.\n",
      "['HP', 'Attack', 'Defense', 'Special Attack', 'Special Defense', 'Speed']\n",
      "명령어를 입력해주세요. 명령어 [Boxplot 시각화, 상관관계 시각화, 정지]\n",
      "=================================== 경우의 수 : Boxplot 시각화 입력 ===================================\n",
      "동작을 계속 수행합니다.\n"
     ]
    },
    {
     "data": {
      "image/png": "[encoded data removed]",
      "text/plain": [
       "<Figure size 1000x300 with 1 Axes>"
      ]
     },
     "metadata": {},
     "output_type": "display_data"
    },
    {
     "data": {
      "image/png": "[encoded data removed]",
      "text/plain": [
       "<Figure size 1000x300 with 1 Axes>"
      ]
     },
     "metadata": {},
     "output_type": "display_data"
    },
    {
     "data": {
      "image/png": "[encoded data removed]",
      "text/plain": [
       "<Figure size 1000x300 with 1 Axes>"
      ]
     },
     "metadata": {},
     "output_type": "display_data"
    },
    {
     "data": {
      "image/png": "[encoded data removed]",
      "text/plain": [
       "<Figure size 1000x300 with 1 Axes>"
      ]
     },
     "metadata": {},
     "output_type": "display_data"
    },
    {
     "data": {
      "image/png": "[encoded data removed]",
      "text/plain": [
       "<Figure size 1000x300 with 1 Axes>"
      ]
     },
     "metadata": {},
     "output_type": "display_data"
    },
    {
     "data": {
      "image/png": "[encoded data removed]",
      "text/plain": [
       "<Figure size 1000x300 with 1 Axes>"
      ]
     },
     "metadata": {},
     "output_type": "display_data"
    },
    {
     "name": "stdout",
     "output_type": "stream",
     "text": [
      "Boxplot 시각화를 완료했습니다.\n",
      "명령어를 입력해주세요. 명령어 [Boxplot 시각화, 상관관계 시각화, 정지]\n",
      "=================================== 경우의 수 : 상관관계 시각화 입력 ===================================\n"
     ]
    },
    {
     "data": {
      "image/png": "[encoded data removed]",
      "text/plain": [
       "<Figure size 640x480 with 2 Axes>"
      ]
     },
     "metadata": {},
     "output_type": "display_data"
    },
    {
     "name": "stdout",
     "output_type": "stream",
     "text": [
      "상관관계 시각화각화를 완료했습니다.\n",
      "명령어를 입력해주세요. 명령어 [Boxplot 시각화, 상관관계 시각화, 정지]\n",
      "=================================== 경우의 수 : 존재하지 않는 명령어 입력 ===================================\n",
      "존재하지 않는 명령어입니다. 다시 실행합니다.\n",
      "명령어를 입력해주세요. 명령어 [Boxplot 시각화, 상관관계 시각화, 정지]\n",
      "=================================== 경우의 수 : 정지 입력 ===================================\n",
      "동작을 정지합니다.\n"
     ]
    }
   ],
   "source": [
    "visualize_func(df=tmp_df,\n",
    "               numeric_col_list = ['HP', 'Attack', 'Defense', 'Special Attack', 'Special Defense', 'Speed'])"
   ]
  },
  {
   "cell_type": "markdown",
   "metadata": {
    "id": "Sw0De26nAy2Z"
   },
   "source": [
    "<img src=\"./참고이미지/Q3/Q3_2.png\" width=\"50%\">"
   ]
  },
  {
   "cell_type": "markdown",
   "metadata": {
    "id": "_BhsRnNKAy2Z"
   },
   "source": [
    "<img src=\"./참고이미지/Q3/Q3_3.png\" width=\"55%\">"
   ]
  },
  {
   "cell_type": "markdown",
   "metadata": {
    "id": "eIjfEzCrAy2Z"
   },
   "source": [
    "<img src=\"./참고이미지/Q3/Q3_4.png\" width=\"55%\">"
   ]
  },
  {
   "cell_type": "markdown",
   "metadata": {
    "id": "UUksOi4fAy2d"
   },
   "source": [
    "<img src=\"./참고이미지/Q3/Q3_5.png\" width=\"55%\">"
   ]
  },
  {
   "cell_type": "markdown",
   "metadata": {
    "id": "1vXit2iZAy2d"
   },
   "source": [
    "# Q4. 데이터 전처리 - Pandas 데이터 전처리"
   ]
  },
  {
   "cell_type": "markdown",
   "metadata": {
    "id": "OxLmJOwuAy2d"
   },
   "source": [
    "<img src=\"./참고이미지/ERD_이미지.png\" width=\"50%\">\n",
    "\n",
    "URL : https://www.mysqltutorial.org/getting-started-with-mysql/mysql-sample-database/"
   ]
  },
  {
   "cell_type": "markdown",
   "metadata": {
    "id": "QNNsG3oeAy2d"
   },
   "source": [
    "<b>1. 데이터</b>\n",
    "- employees.csv\n",
    "- customers.csv"
   ]
  },
  {
   "cell_type": "markdown",
   "metadata": {
    "id": "B73QivKLjdY6"
   },
   "source": [
    "<b>2. 설명</b>\n",
    "- employees 데이터에는 reportsTo 컬럼이 존재합니다.\n",
    "- reportTo에 적혀있는 employeeNumber를 가진 직원을 직속 상사, report를 하는 직원을 직속 부하로 취급합니다.\n",
    "- 한 명의 상사가 여러 명의 부하가 있는 경우가 존재할 수 있습니다.\n",
    "- 가장 상급자의 경우, 직속 상사가 없습니다.\n",
    "- 자세한 세부 과정은 내용은 아래 전처리 과정들과 출력 결과를 참고 바랍니다."
   ]
  },
  {
   "cell_type": "markdown",
   "metadata": {
    "id": "ju_9M-_qjdY6"
   },
   "source": [
    "<b>3. 최종 결과</b>    \n",
    "- 최종적으로는, 직원별로 직속 부하들이 관리하는 고객들의 평균 creditLimit을 구합니다."
   ]
  },
  {
   "cell_type": "markdown",
   "metadata": {
    "id": "CjFrLHsmAy2d"
   },
   "source": [
    "<b>코드 Cell</b>\n",
    "- 데이터 확인 및 읽기용 코드셀입니다.\n",
    "- 데이터 읽기에 활용하시거나, 참고용으로만 활용하시면 됩니다."
   ]
  },
  {
   "cell_type": "code",
   "execution_count": 80,
   "metadata": {
    "id": "QBw2o4LoAy2e"
   },
   "outputs": [
    {
     "name": "stdout",
     "output_type": "stream",
     "text": [
      "========== employees.csv 정보입니다. ==========\n"
     ]
    },
    {
     "data": {
      "text/plain": [
       "(23, 8)"
      ]
     },
     "metadata": {},
     "output_type": "display_data"
    },
    {
     "data": {
      "text/html": [
       "<div>\n",
       "<style scoped>\n",
       "    .dataframe tbody tr th:only-of-type {\n",
       "        vertical-align: middle;\n",
       "    }\n",
       "\n",
       "    .dataframe tbody tr th {\n",
       "        vertical-align: top;\n",
       "    }\n",
       "\n",
       "    .dataframe thead th {\n",
       "        text-align: right;\n",
       "    }\n",
       "</style>\n",
       "<table border=\"1\" class=\"dataframe\">\n",
       "  <thead>\n",
       "    <tr style=\"text-align: right;\">\n",
       "      <th></th>\n",
       "      <th>employeeNumber</th>\n",
       "      <th>lastName</th>\n",
       "      <th>firstName</th>\n",
       "      <th>extension</th>\n",
       "      <th>email</th>\n",
       "      <th>officeCode</th>\n",
       "      <th>reportsTo</th>\n",
       "      <th>jobTitle</th>\n",
       "    </tr>\n",
       "  </thead>\n",
       "  <tbody>\n",
       "    <tr>\n",
       "      <th>0</th>\n",
       "      <td>1002</td>\n",
       "      <td>Murphy</td>\n",
       "      <td>Diane</td>\n",
       "      <td>x5800</td>\n",
       "      <td>dmurphy@classicmodelcars.com</td>\n",
       "      <td>1</td>\n",
       "      <td>NaN</td>\n",
       "      <td>President</td>\n",
       "    </tr>\n",
       "    <tr>\n",
       "      <th>1</th>\n",
       "      <td>1056</td>\n",
       "      <td>Patterson</td>\n",
       "      <td>Mary</td>\n",
       "      <td>x4611</td>\n",
       "      <td>mpatterso@classicmodelcars.com</td>\n",
       "      <td>1</td>\n",
       "      <td>1002.0</td>\n",
       "      <td>VP Sales</td>\n",
       "    </tr>\n",
       "    <tr>\n",
       "      <th>2</th>\n",
       "      <td>1076</td>\n",
       "      <td>Firrelli</td>\n",
       "      <td>Jeff</td>\n",
       "      <td>x9273</td>\n",
       "      <td>jfirrelli@classicmodelcars.com</td>\n",
       "      <td>1</td>\n",
       "      <td>1002.0</td>\n",
       "      <td>VP Marketing</td>\n",
       "    </tr>\n",
       "    <tr>\n",
       "      <th>3</th>\n",
       "      <td>1088</td>\n",
       "      <td>Patterson</td>\n",
       "      <td>William</td>\n",
       "      <td>x4871</td>\n",
       "      <td>wpatterson@classicmodelcars.com</td>\n",
       "      <td>6</td>\n",
       "      <td>1056.0</td>\n",
       "      <td>Sales Manager (APAC)</td>\n",
       "    </tr>\n",
       "    <tr>\n",
       "      <th>4</th>\n",
       "      <td>1102</td>\n",
       "      <td>Bondur</td>\n",
       "      <td>Gerard</td>\n",
       "      <td>x5408</td>\n",
       "      <td>gbondur@classicmodelcars.com</td>\n",
       "      <td>4</td>\n",
       "      <td>1056.0</td>\n",
       "      <td>Sale Manager (EMEA)</td>\n",
       "    </tr>\n",
       "  </tbody>\n",
       "</table>\n",
       "</div>"
      ],
      "text/plain": [
       "   employeeNumber   lastName firstName extension  \\\n",
       "0            1002     Murphy     Diane     x5800   \n",
       "1            1056  Patterson      Mary     x4611   \n",
       "2            1076   Firrelli      Jeff     x9273   \n",
       "3            1088  Patterson   William     x4871   \n",
       "4            1102     Bondur    Gerard     x5408   \n",
       "\n",
       "                             email  officeCode  reportsTo  \\\n",
       "0     dmurphy@classicmodelcars.com           1        NaN   \n",
       "1   mpatterso@classicmodelcars.com           1     1002.0   \n",
       "2   jfirrelli@classicmodelcars.com           1     1002.0   \n",
       "3  wpatterson@classicmodelcars.com           6     1056.0   \n",
       "4     gbondur@classicmodelcars.com           4     1056.0   \n",
       "\n",
       "               jobTitle  \n",
       "0             President  \n",
       "1              VP Sales  \n",
       "2          VP Marketing  \n",
       "3  Sales Manager (APAC)  \n",
       "4   Sale Manager (EMEA)  "
      ]
     },
     "metadata": {},
     "output_type": "display_data"
    },
    {
     "name": "stdout",
     "output_type": "stream",
     "text": [
      "========== customers.csv 정보입니다. ==========\n"
     ]
    },
    {
     "data": {
      "text/plain": [
       "(122, 13)"
      ]
     },
     "metadata": {},
     "output_type": "display_data"
    },
    {
     "data": {
      "text/html": [
       "<div>\n",
       "<style scoped>\n",
       "    .dataframe tbody tr th:only-of-type {\n",
       "        vertical-align: middle;\n",
       "    }\n",
       "\n",
       "    .dataframe tbody tr th {\n",
       "        vertical-align: top;\n",
       "    }\n",
       "\n",
       "    .dataframe thead th {\n",
       "        text-align: right;\n",
       "    }\n",
       "</style>\n",
       "<table border=\"1\" class=\"dataframe\">\n",
       "  <thead>\n",
       "    <tr style=\"text-align: right;\">\n",
       "      <th></th>\n",
       "      <th>customerNumber</th>\n",
       "      <th>customerName</th>\n",
       "      <th>contactLastName</th>\n",
       "      <th>contactFirstName</th>\n",
       "      <th>phone</th>\n",
       "      <th>addressLine1</th>\n",
       "      <th>addressLine2</th>\n",
       "      <th>city</th>\n",
       "      <th>state</th>\n",
       "      <th>postalCode</th>\n",
       "      <th>country</th>\n",
       "      <th>salesRepEmployeeNumber</th>\n",
       "      <th>creditLimit</th>\n",
       "    </tr>\n",
       "  </thead>\n",
       "  <tbody>\n",
       "    <tr>\n",
       "      <th>0</th>\n",
       "      <td>103</td>\n",
       "      <td>Atelier graphique</td>\n",
       "      <td>Schmitt</td>\n",
       "      <td>Carine</td>\n",
       "      <td>40.32.2555</td>\n",
       "      <td>54, rue Royale</td>\n",
       "      <td>NaN</td>\n",
       "      <td>Nantes</td>\n",
       "      <td>NaN</td>\n",
       "      <td>44000</td>\n",
       "      <td>France</td>\n",
       "      <td>1370.0</td>\n",
       "      <td>21000.0</td>\n",
       "    </tr>\n",
       "    <tr>\n",
       "      <th>1</th>\n",
       "      <td>112</td>\n",
       "      <td>Signal Gift Stores</td>\n",
       "      <td>King</td>\n",
       "      <td>Jean</td>\n",
       "      <td>7025551838</td>\n",
       "      <td>8489 Strong St.</td>\n",
       "      <td>NaN</td>\n",
       "      <td>Las Vegas</td>\n",
       "      <td>NV</td>\n",
       "      <td>83030</td>\n",
       "      <td>USA</td>\n",
       "      <td>1166.0</td>\n",
       "      <td>71800.0</td>\n",
       "    </tr>\n",
       "    <tr>\n",
       "      <th>2</th>\n",
       "      <td>114</td>\n",
       "      <td>Australian Collectors, Co.</td>\n",
       "      <td>Ferguson</td>\n",
       "      <td>Peter</td>\n",
       "      <td>03 9520 4555</td>\n",
       "      <td>636 St Kilda Road</td>\n",
       "      <td>Level 3</td>\n",
       "      <td>Melbourne</td>\n",
       "      <td>Victoria</td>\n",
       "      <td>3004</td>\n",
       "      <td>Australia</td>\n",
       "      <td>1611.0</td>\n",
       "      <td>117300.0</td>\n",
       "    </tr>\n",
       "    <tr>\n",
       "      <th>3</th>\n",
       "      <td>119</td>\n",
       "      <td>La Rochelle Gifts</td>\n",
       "      <td>Labrune</td>\n",
       "      <td>Janine</td>\n",
       "      <td>40.67.8555</td>\n",
       "      <td>67, rue des Cinquante Otages</td>\n",
       "      <td>NaN</td>\n",
       "      <td>Nantes</td>\n",
       "      <td>NaN</td>\n",
       "      <td>44000</td>\n",
       "      <td>France</td>\n",
       "      <td>1370.0</td>\n",
       "      <td>118200.0</td>\n",
       "    </tr>\n",
       "    <tr>\n",
       "      <th>4</th>\n",
       "      <td>121</td>\n",
       "      <td>Baane Mini Imports</td>\n",
       "      <td>Bergulfsen</td>\n",
       "      <td>Jonas</td>\n",
       "      <td>07-98 9555</td>\n",
       "      <td>Erling Skakkes gate 78</td>\n",
       "      <td>NaN</td>\n",
       "      <td>Stavern</td>\n",
       "      <td>NaN</td>\n",
       "      <td>4110</td>\n",
       "      <td>Norway</td>\n",
       "      <td>1504.0</td>\n",
       "      <td>81700.0</td>\n",
       "    </tr>\n",
       "  </tbody>\n",
       "</table>\n",
       "</div>"
      ],
      "text/plain": [
       "   customerNumber                customerName contactLastName  \\\n",
       "0             103           Atelier graphique         Schmitt   \n",
       "1             112          Signal Gift Stores            King   \n",
       "2             114  Australian Collectors, Co.        Ferguson   \n",
       "3             119           La Rochelle Gifts         Labrune   \n",
       "4             121          Baane Mini Imports      Bergulfsen   \n",
       "\n",
       "  contactFirstName         phone                  addressLine1 addressLine2  \\\n",
       "0          Carine     40.32.2555                54, rue Royale          NaN   \n",
       "1             Jean    7025551838               8489 Strong St.          NaN   \n",
       "2            Peter  03 9520 4555             636 St Kilda Road      Level 3   \n",
       "3          Janine     40.67.8555  67, rue des Cinquante Otages          NaN   \n",
       "4           Jonas     07-98 9555        Erling Skakkes gate 78          NaN   \n",
       "\n",
       "        city     state postalCode    country  salesRepEmployeeNumber  \\\n",
       "0     Nantes       NaN      44000     France                  1370.0   \n",
       "1  Las Vegas        NV      83030        USA                  1166.0   \n",
       "2  Melbourne  Victoria       3004  Australia                  1611.0   \n",
       "3     Nantes       NaN      44000     France                  1370.0   \n",
       "4    Stavern       NaN       4110     Norway                  1504.0   \n",
       "\n",
       "   creditLimit  \n",
       "0      21000.0  \n",
       "1      71800.0  \n",
       "2     117300.0  \n",
       "3     118200.0  \n",
       "4      81700.0  "
      ]
     },
     "metadata": {},
     "output_type": "display_data"
    }
   ],
   "source": [
    "import pandas as pd\n",
    "employees_df = pd.read_csv('./data_과제/sampledatabase/employees.csv')\n",
    "customeres_df = pd.read_csv('./data_과제/sampledatabase/customers.csv')\n",
    "\n",
    "print('='*10, 'employees.csv 정보입니다.', '='*10)\n",
    "display(employees_df.shape)\n",
    "display(employees_df.head())\n",
    "\n",
    "print('='*10, 'customers.csv 정보입니다.', '='*10)\n",
    "display(customeres_df.shape)\n",
    "display(customeres_df.head())"
   ]
  },
  {
   "cell_type": "markdown",
   "metadata": {
    "id": "UbRNApbaAy2e"
   },
   "source": [
    "<img src=\"./참고이미지/Q4/Q4_1.png\" width=\"70%\">"
   ]
  },
  {
   "cell_type": "markdown",
   "metadata": {
    "id": "W8bquGPAAy2e"
   },
   "source": [
    "<b>코드 Cell</b>\n",
    "- employees 데이터에 대한 전처리 과정입니다.\n",
    "- 직속 상사의 LastName, 직속 상사의 직급, 직속 부하의 LastName, 직속 부하의 직급, 직속부하의 직원번호 데이터를 정리합니다.\n",
    "- 데이터를 적절히 분할하고 결합하는 과정이 필요할 수 있습니다.\n",
    "- 셀 출력에서는 데이터를 간편하게 보기 위해, 컬럼 이름 변경, 컬럼 순서 변경 등의 작업을 수행했습니다."
   ]
  },
  {
   "cell_type": "code",
   "execution_count": 83,
   "metadata": {},
   "outputs": [
    {
     "name": "stdout",
     "output_type": "stream",
     "text": [
      "==================== 컬럼을 정리하는 중간 과정입니다. ====================\n"
     ]
    },
    {
     "data": {
      "text/plain": [
       "(23, 7)"
      ]
     },
     "metadata": {},
     "output_type": "display_data"
    },
    {
     "data": {
      "text/html": [
       "<div>\n",
       "<style scoped>\n",
       "    .dataframe tbody tr th:only-of-type {\n",
       "        vertical-align: middle;\n",
       "    }\n",
       "\n",
       "    .dataframe tbody tr th {\n",
       "        vertical-align: top;\n",
       "    }\n",
       "\n",
       "    .dataframe thead th {\n",
       "        text-align: right;\n",
       "    }\n",
       "</style>\n",
       "<table border=\"1\" class=\"dataframe\">\n",
       "  <thead>\n",
       "    <tr style=\"text-align: right;\">\n",
       "      <th></th>\n",
       "      <th>Reporter_LastName</th>\n",
       "      <th>Reporter_JobTitle</th>\n",
       "      <th>Reporter_EmpNumber</th>\n",
       "      <th>reportsTo</th>\n",
       "      <th>Boss_EmpNumber</th>\n",
       "      <th>BossLastName</th>\n",
       "      <th>Boss_JobTitle</th>\n",
       "    </tr>\n",
       "  </thead>\n",
       "  <tbody>\n",
       "    <tr>\n",
       "      <th>0</th>\n",
       "      <td>Murphy</td>\n",
       "      <td>President</td>\n",
       "      <td>1002</td>\n",
       "      <td>NaN</td>\n",
       "      <td>NaN</td>\n",
       "      <td>NaN</td>\n",
       "      <td>NaN</td>\n",
       "    </tr>\n",
       "    <tr>\n",
       "      <th>1</th>\n",
       "      <td>Patterson</td>\n",
       "      <td>VP Sales</td>\n",
       "      <td>1056</td>\n",
       "      <td>1002.0</td>\n",
       "      <td>1002.0</td>\n",
       "      <td>Murphy</td>\n",
       "      <td>President</td>\n",
       "    </tr>\n",
       "    <tr>\n",
       "      <th>2</th>\n",
       "      <td>Firrelli</td>\n",
       "      <td>VP Marketing</td>\n",
       "      <td>1076</td>\n",
       "      <td>1002.0</td>\n",
       "      <td>1002.0</td>\n",
       "      <td>Murphy</td>\n",
       "      <td>President</td>\n",
       "    </tr>\n",
       "    <tr>\n",
       "      <th>3</th>\n",
       "      <td>Patterson</td>\n",
       "      <td>Sales Manager (APAC)</td>\n",
       "      <td>1088</td>\n",
       "      <td>1056.0</td>\n",
       "      <td>1056.0</td>\n",
       "      <td>Patterson</td>\n",
       "      <td>VP Sales</td>\n",
       "    </tr>\n",
       "    <tr>\n",
       "      <th>4</th>\n",
       "      <td>Bondur</td>\n",
       "      <td>Sale Manager (EMEA)</td>\n",
       "      <td>1102</td>\n",
       "      <td>1056.0</td>\n",
       "      <td>1056.0</td>\n",
       "      <td>Patterson</td>\n",
       "      <td>VP Sales</td>\n",
       "    </tr>\n",
       "  </tbody>\n",
       "</table>\n",
       "</div>"
      ],
      "text/plain": [
       "  Reporter_LastName     Reporter_JobTitle  Reporter_EmpNumber  reportsTo  \\\n",
       "0            Murphy             President                1002        NaN   \n",
       "1         Patterson              VP Sales                1056     1002.0   \n",
       "2          Firrelli          VP Marketing                1076     1002.0   \n",
       "3         Patterson  Sales Manager (APAC)                1088     1056.0   \n",
       "4            Bondur   Sale Manager (EMEA)                1102     1056.0   \n",
       "\n",
       "   Boss_EmpNumber BossLastName Boss_JobTitle  \n",
       "0             NaN          NaN           NaN  \n",
       "1          1002.0       Murphy     President  \n",
       "2          1002.0       Murphy     President  \n",
       "3          1056.0    Patterson      VP Sales  \n",
       "4          1056.0    Patterson      VP Sales  "
      ]
     },
     "metadata": {},
     "output_type": "display_data"
    },
    {
     "name": "stdout",
     "output_type": "stream",
     "text": [
      "Index(['Reporter_LastName', 'Reporter_JobTitle', 'Reporter_EmpNumber',\n",
      "       'reportsTo', 'Boss_EmpNumber', 'BossLastName', 'Boss_JobTitle'],\n",
      "      dtype='object') \n",
      "\n",
      "==================== 직속 상사, 직속 부하에 대한 정리 결과입니다. ====================\n"
     ]
    },
    {
     "data": {
      "text/plain": [
       "(22, 5)"
      ]
     },
     "metadata": {},
     "output_type": "display_data"
    },
    {
     "data": {
      "text/html": [
       "<div>\n",
       "<style scoped>\n",
       "    .dataframe tbody tr th:only-of-type {\n",
       "        vertical-align: middle;\n",
       "    }\n",
       "\n",
       "    .dataframe tbody tr th {\n",
       "        vertical-align: top;\n",
       "    }\n",
       "\n",
       "    .dataframe thead th {\n",
       "        text-align: right;\n",
       "    }\n",
       "</style>\n",
       "<table border=\"1\" class=\"dataframe\">\n",
       "  <thead>\n",
       "    <tr style=\"text-align: right;\">\n",
       "      <th></th>\n",
       "      <th>BossLastName</th>\n",
       "      <th>Boss_JobTitle</th>\n",
       "      <th>Reporter_LastName</th>\n",
       "      <th>Reporter_JobTitle</th>\n",
       "      <th>Reporter_EmpNumber</th>\n",
       "    </tr>\n",
       "  </thead>\n",
       "  <tbody>\n",
       "    <tr>\n",
       "      <th>1</th>\n",
       "      <td>Murphy</td>\n",
       "      <td>President</td>\n",
       "      <td>Patterson</td>\n",
       "      <td>VP Sales</td>\n",
       "      <td>1056</td>\n",
       "    </tr>\n",
       "    <tr>\n",
       "      <th>2</th>\n",
       "      <td>Murphy</td>\n",
       "      <td>President</td>\n",
       "      <td>Firrelli</td>\n",
       "      <td>VP Marketing</td>\n",
       "      <td>1076</td>\n",
       "    </tr>\n",
       "    <tr>\n",
       "      <th>3</th>\n",
       "      <td>Patterson</td>\n",
       "      <td>VP Sales</td>\n",
       "      <td>Patterson</td>\n",
       "      <td>Sales Manager (APAC)</td>\n",
       "      <td>1088</td>\n",
       "    </tr>\n",
       "    <tr>\n",
       "      <th>4</th>\n",
       "      <td>Patterson</td>\n",
       "      <td>VP Sales</td>\n",
       "      <td>Bondur</td>\n",
       "      <td>Sale Manager (EMEA)</td>\n",
       "      <td>1102</td>\n",
       "    </tr>\n",
       "    <tr>\n",
       "      <th>5</th>\n",
       "      <td>Patterson</td>\n",
       "      <td>VP Sales</td>\n",
       "      <td>Bow</td>\n",
       "      <td>Sales Manager (NA)</td>\n",
       "      <td>1143</td>\n",
       "    </tr>\n",
       "  </tbody>\n",
       "</table>\n",
       "</div>"
      ],
      "text/plain": [
       "  BossLastName Boss_JobTitle Reporter_LastName     Reporter_JobTitle  \\\n",
       "1       Murphy     President         Patterson              VP Sales   \n",
       "2       Murphy     President          Firrelli          VP Marketing   \n",
       "3    Patterson      VP Sales         Patterson  Sales Manager (APAC)   \n",
       "4    Patterson      VP Sales            Bondur   Sale Manager (EMEA)   \n",
       "5    Patterson      VP Sales               Bow    Sales Manager (NA)   \n",
       "\n",
       "   Reporter_EmpNumber  \n",
       "1                1056  \n",
       "2                1076  \n",
       "3                1088  \n",
       "4                1102  \n",
       "5                1143  "
      ]
     },
     "metadata": {},
     "output_type": "display_data"
    }
   ],
   "source": [
    "# 1. 직급 계층 정의\n",
    "job_hierarchy = {\n",
    "    'President': 1,\n",
    "    'VP Sales': 2, 'VP Marketing': 2,\n",
    "    'Sales Manager (APAC)': 3, 'Sale Manager (EMEA)': 3, 'Sales Manager (NA)': 3,\n",
    "    'Sales Rep': 4\n",
    "}\n",
    "\n",
    "# 2. 직급별 정렬\n",
    "employees_sorted = employees_df.copy()\n",
    "employees_sorted['job_hierarchy'] = employees_sorted['jobTitle'].map(job_hierarchy)\n",
    "employees_sorted = employees_sorted.sort_values(['job_hierarchy'])\n",
    "\n",
    "# 3. merge를 이용한 효율적인 상사-부하 매칭\n",
    "reporter_df = employees_sorted[['lastName', 'jobTitle', 'employeeNumber','reportsTo']]\n",
    "boss_df = employees_sorted[['employeeNumber', 'lastName', 'jobTitle']]\n",
    "\n",
    "hierarchy_df = reporter_df.merge(boss_df, left_on='reportsTo', right_on='employeeNumber', how='left')\n",
    "\n",
    "\n",
    "hierarchy_df.columns = ['Reporter_LastName', 'Reporter_JobTitle', 'Reporter_EmpNumber', 'reportsTo', 'Boss_EmpNumber', 'BossLastName', 'Boss_JobTitle']\n",
    "\n",
    "print(\"=\"*20, '컬럼을 정리하는 중간 과정입니다.', \"=\"*20)\n",
    "display(hierarchy_df.shape)\n",
    "display(hierarchy_df.head())\n",
    "print(hierarchy_df.columns,\"\\n\")\n",
    "print(\"=\"*20, '직속 상사, 직속 부하에 대한 정리 결과입니다.', \"=\"*20)\n",
    "\n",
    "hierarchy_new_df=hierarchy_df[['BossLastName', 'Boss_JobTitle', 'Reporter_LastName', 'Reporter_JobTitle', 'Reporter_EmpNumber']].iloc[1:]\n",
    "display(hierarchy_new_df.shape)\n",
    "display(hierarchy_new_df.head())\n"
   ]
  },
  {
   "cell_type": "markdown",
   "metadata": {
    "id": "UU6DlsmgAy2e"
   },
   "source": [
    "<img src=\"./참고이미지/Q4/Q4_2.png\" width=\"45%\">"
   ]
  },
  {
   "cell_type": "markdown",
   "metadata": {
    "id": "EcR5LeaMAy2e"
   },
   "source": [
    "<b>코드 Cell</b>\n",
    "- 위에서 정리한 데이터 정보와 customer.csv 정보를 결합합니다.\n",
    "- salesRepEmployeeNumber에 적혀있는 직원번호가 해당 고객을 관리하는 직원의 직원번호입니다."
   ]
  },
  {
   "cell_type": "code",
   "execution_count": 84,
   "metadata": {
    "id": "hk89ByySAy2e"
   },
   "outputs": [
    {
     "name": "stdout",
     "output_type": "stream",
     "text": [
      "==================== 전처리 데이터와 customers_df 데이터를 결합합니다. ====================\n",
      "Index(['BossLastName', 'Boss_JobTitle', 'Reporter_LastName',\n",
      "       'Reporter_JobTitle', 'Reporter_EmpNumber', 'customerNumber',\n",
      "       'customerName', 'contactLastName', 'contactFirstName', 'phone',\n",
      "       'addressLine1', 'addressLine2', 'city', 'state', 'postalCode',\n",
      "       'country', 'salesRepEmployeeNumber', 'creditLimit'],\n",
      "      dtype='object')\n"
     ]
    },
    {
     "data": {
      "text/plain": [
       "(107, 18)"
      ]
     },
     "metadata": {},
     "output_type": "display_data"
    },
    {
     "data": {
      "text/html": [
       "<div>\n",
       "<style scoped>\n",
       "    .dataframe tbody tr th:only-of-type {\n",
       "        vertical-align: middle;\n",
       "    }\n",
       "\n",
       "    .dataframe tbody tr th {\n",
       "        vertical-align: top;\n",
       "    }\n",
       "\n",
       "    .dataframe thead th {\n",
       "        text-align: right;\n",
       "    }\n",
       "</style>\n",
       "<table border=\"1\" class=\"dataframe\">\n",
       "  <thead>\n",
       "    <tr style=\"text-align: right;\">\n",
       "      <th></th>\n",
       "      <th>BossLastName</th>\n",
       "      <th>Boss_JobTitle</th>\n",
       "      <th>Reporter_LastName</th>\n",
       "      <th>Reporter_JobTitle</th>\n",
       "      <th>Reporter_EmpNumber</th>\n",
       "      <th>customerNumber</th>\n",
       "      <th>customerName</th>\n",
       "      <th>contactLastName</th>\n",
       "      <th>contactFirstName</th>\n",
       "      <th>phone</th>\n",
       "      <th>addressLine1</th>\n",
       "      <th>addressLine2</th>\n",
       "      <th>city</th>\n",
       "      <th>state</th>\n",
       "      <th>postalCode</th>\n",
       "      <th>country</th>\n",
       "      <th>salesRepEmployeeNumber</th>\n",
       "      <th>creditLimit</th>\n",
       "    </tr>\n",
       "  </thead>\n",
       "  <tbody>\n",
       "    <tr>\n",
       "      <th>0</th>\n",
       "      <td>Murphy</td>\n",
       "      <td>President</td>\n",
       "      <td>Patterson</td>\n",
       "      <td>VP Sales</td>\n",
       "      <td>1056</td>\n",
       "      <td>NaN</td>\n",
       "      <td>NaN</td>\n",
       "      <td>NaN</td>\n",
       "      <td>NaN</td>\n",
       "      <td>NaN</td>\n",
       "      <td>NaN</td>\n",
       "      <td>NaN</td>\n",
       "      <td>NaN</td>\n",
       "      <td>NaN</td>\n",
       "      <td>NaN</td>\n",
       "      <td>NaN</td>\n",
       "      <td>NaN</td>\n",
       "      <td>NaN</td>\n",
       "    </tr>\n",
       "    <tr>\n",
       "      <th>1</th>\n",
       "      <td>Murphy</td>\n",
       "      <td>President</td>\n",
       "      <td>Firrelli</td>\n",
       "      <td>VP Marketing</td>\n",
       "      <td>1076</td>\n",
       "      <td>NaN</td>\n",
       "      <td>NaN</td>\n",
       "      <td>NaN</td>\n",
       "      <td>NaN</td>\n",
       "      <td>NaN</td>\n",
       "      <td>NaN</td>\n",
       "      <td>NaN</td>\n",
       "      <td>NaN</td>\n",
       "      <td>NaN</td>\n",
       "      <td>NaN</td>\n",
       "      <td>NaN</td>\n",
       "      <td>NaN</td>\n",
       "      <td>NaN</td>\n",
       "    </tr>\n",
       "    <tr>\n",
       "      <th>2</th>\n",
       "      <td>Patterson</td>\n",
       "      <td>VP Sales</td>\n",
       "      <td>Patterson</td>\n",
       "      <td>Sales Manager (APAC)</td>\n",
       "      <td>1088</td>\n",
       "      <td>NaN</td>\n",
       "      <td>NaN</td>\n",
       "      <td>NaN</td>\n",
       "      <td>NaN</td>\n",
       "      <td>NaN</td>\n",
       "      <td>NaN</td>\n",
       "      <td>NaN</td>\n",
       "      <td>NaN</td>\n",
       "      <td>NaN</td>\n",
       "      <td>NaN</td>\n",
       "      <td>NaN</td>\n",
       "      <td>NaN</td>\n",
       "      <td>NaN</td>\n",
       "    </tr>\n",
       "    <tr>\n",
       "      <th>3</th>\n",
       "      <td>Patterson</td>\n",
       "      <td>VP Sales</td>\n",
       "      <td>Bondur</td>\n",
       "      <td>Sale Manager (EMEA)</td>\n",
       "      <td>1102</td>\n",
       "      <td>NaN</td>\n",
       "      <td>NaN</td>\n",
       "      <td>NaN</td>\n",
       "      <td>NaN</td>\n",
       "      <td>NaN</td>\n",
       "      <td>NaN</td>\n",
       "      <td>NaN</td>\n",
       "      <td>NaN</td>\n",
       "      <td>NaN</td>\n",
       "      <td>NaN</td>\n",
       "      <td>NaN</td>\n",
       "      <td>NaN</td>\n",
       "      <td>NaN</td>\n",
       "    </tr>\n",
       "    <tr>\n",
       "      <th>4</th>\n",
       "      <td>Patterson</td>\n",
       "      <td>VP Sales</td>\n",
       "      <td>Bow</td>\n",
       "      <td>Sales Manager (NA)</td>\n",
       "      <td>1143</td>\n",
       "      <td>NaN</td>\n",
       "      <td>NaN</td>\n",
       "      <td>NaN</td>\n",
       "      <td>NaN</td>\n",
       "      <td>NaN</td>\n",
       "      <td>NaN</td>\n",
       "      <td>NaN</td>\n",
       "      <td>NaN</td>\n",
       "      <td>NaN</td>\n",
       "      <td>NaN</td>\n",
       "      <td>NaN</td>\n",
       "      <td>NaN</td>\n",
       "      <td>NaN</td>\n",
       "    </tr>\n",
       "    <tr>\n",
       "      <th>5</th>\n",
       "      <td>Bow</td>\n",
       "      <td>Sales Manager (NA)</td>\n",
       "      <td>Jennings</td>\n",
       "      <td>Sales Rep</td>\n",
       "      <td>1165</td>\n",
       "      <td>124.0</td>\n",
       "      <td>Mini Gifts Distributors Ltd.</td>\n",
       "      <td>Nelson</td>\n",
       "      <td>Susan</td>\n",
       "      <td>4155551450</td>\n",
       "      <td>5677 Strong St.</td>\n",
       "      <td>NaN</td>\n",
       "      <td>San Rafael</td>\n",
       "      <td>CA</td>\n",
       "      <td>97562</td>\n",
       "      <td>USA</td>\n",
       "      <td>1165.0</td>\n",
       "      <td>210500.0</td>\n",
       "    </tr>\n",
       "    <tr>\n",
       "      <th>6</th>\n",
       "      <td>Bow</td>\n",
       "      <td>Sales Manager (NA)</td>\n",
       "      <td>Jennings</td>\n",
       "      <td>Sales Rep</td>\n",
       "      <td>1165</td>\n",
       "      <td>129.0</td>\n",
       "      <td>Mini Wheels Co.</td>\n",
       "      <td>Murphy</td>\n",
       "      <td>Julie</td>\n",
       "      <td>6505555787</td>\n",
       "      <td>5557 North Pendale Street</td>\n",
       "      <td>NaN</td>\n",
       "      <td>San Francisco</td>\n",
       "      <td>CA</td>\n",
       "      <td>94217</td>\n",
       "      <td>USA</td>\n",
       "      <td>1165.0</td>\n",
       "      <td>64600.0</td>\n",
       "    </tr>\n",
       "    <tr>\n",
       "      <th>7</th>\n",
       "      <td>Bow</td>\n",
       "      <td>Sales Manager (NA)</td>\n",
       "      <td>Jennings</td>\n",
       "      <td>Sales Rep</td>\n",
       "      <td>1165</td>\n",
       "      <td>161.0</td>\n",
       "      <td>Technics Stores Inc.</td>\n",
       "      <td>Hashimoto</td>\n",
       "      <td>Juri</td>\n",
       "      <td>6505556809</td>\n",
       "      <td>9408 Furth Circle</td>\n",
       "      <td>NaN</td>\n",
       "      <td>Burlingame</td>\n",
       "      <td>CA</td>\n",
       "      <td>94217</td>\n",
       "      <td>USA</td>\n",
       "      <td>1165.0</td>\n",
       "      <td>84600.0</td>\n",
       "    </tr>\n",
       "    <tr>\n",
       "      <th>8</th>\n",
       "      <td>Bow</td>\n",
       "      <td>Sales Manager (NA)</td>\n",
       "      <td>Jennings</td>\n",
       "      <td>Sales Rep</td>\n",
       "      <td>1165</td>\n",
       "      <td>321.0</td>\n",
       "      <td>Corporate Gift Ideas Co.</td>\n",
       "      <td>Brown</td>\n",
       "      <td>Julie</td>\n",
       "      <td>6505551386</td>\n",
       "      <td>7734 Strong St.</td>\n",
       "      <td>NaN</td>\n",
       "      <td>San Francisco</td>\n",
       "      <td>CA</td>\n",
       "      <td>94217</td>\n",
       "      <td>USA</td>\n",
       "      <td>1165.0</td>\n",
       "      <td>105000.0</td>\n",
       "    </tr>\n",
       "    <tr>\n",
       "      <th>9</th>\n",
       "      <td>Bow</td>\n",
       "      <td>Sales Manager (NA)</td>\n",
       "      <td>Jennings</td>\n",
       "      <td>Sales Rep</td>\n",
       "      <td>1165</td>\n",
       "      <td>450.0</td>\n",
       "      <td>The Sharp Gifts Warehouse</td>\n",
       "      <td>Frick</td>\n",
       "      <td>Sue</td>\n",
       "      <td>4085553659</td>\n",
       "      <td>3086 Ingle Ln.</td>\n",
       "      <td>NaN</td>\n",
       "      <td>San Jose</td>\n",
       "      <td>CA</td>\n",
       "      <td>94217</td>\n",
       "      <td>USA</td>\n",
       "      <td>1165.0</td>\n",
       "      <td>77600.0</td>\n",
       "    </tr>\n",
       "  </tbody>\n",
       "</table>\n",
       "</div>"
      ],
      "text/plain": [
       "  BossLastName       Boss_JobTitle Reporter_LastName     Reporter_JobTitle  \\\n",
       "0       Murphy           President         Patterson              VP Sales   \n",
       "1       Murphy           President          Firrelli          VP Marketing   \n",
       "2    Patterson            VP Sales         Patterson  Sales Manager (APAC)   \n",
       "3    Patterson            VP Sales            Bondur   Sale Manager (EMEA)   \n",
       "4    Patterson            VP Sales               Bow    Sales Manager (NA)   \n",
       "5          Bow  Sales Manager (NA)          Jennings             Sales Rep   \n",
       "6          Bow  Sales Manager (NA)          Jennings             Sales Rep   \n",
       "7          Bow  Sales Manager (NA)          Jennings             Sales Rep   \n",
       "8          Bow  Sales Manager (NA)          Jennings             Sales Rep   \n",
       "9          Bow  Sales Manager (NA)          Jennings             Sales Rep   \n",
       "\n",
       "   Reporter_EmpNumber  customerNumber                  customerName  \\\n",
       "0                1056             NaN                           NaN   \n",
       "1                1076             NaN                           NaN   \n",
       "2                1088             NaN                           NaN   \n",
       "3                1102             NaN                           NaN   \n",
       "4                1143             NaN                           NaN   \n",
       "5                1165           124.0  Mini Gifts Distributors Ltd.   \n",
       "6                1165           129.0               Mini Wheels Co.   \n",
       "7                1165           161.0          Technics Stores Inc.   \n",
       "8                1165           321.0      Corporate Gift Ideas Co.   \n",
       "9                1165           450.0     The Sharp Gifts Warehouse   \n",
       "\n",
       "  contactLastName contactFirstName       phone               addressLine1  \\\n",
       "0             NaN              NaN         NaN                        NaN   \n",
       "1             NaN              NaN         NaN                        NaN   \n",
       "2             NaN              NaN         NaN                        NaN   \n",
       "3             NaN              NaN         NaN                        NaN   \n",
       "4             NaN              NaN         NaN                        NaN   \n",
       "5          Nelson            Susan  4155551450            5677 Strong St.   \n",
       "6          Murphy            Julie  6505555787  5557 North Pendale Street   \n",
       "7       Hashimoto             Juri  6505556809          9408 Furth Circle   \n",
       "8           Brown            Julie  6505551386            7734 Strong St.   \n",
       "9           Frick              Sue  4085553659             3086 Ingle Ln.   \n",
       "\n",
       "  addressLine2           city state postalCode country  \\\n",
       "0          NaN            NaN   NaN        NaN     NaN   \n",
       "1          NaN            NaN   NaN        NaN     NaN   \n",
       "2          NaN            NaN   NaN        NaN     NaN   \n",
       "3          NaN            NaN   NaN        NaN     NaN   \n",
       "4          NaN            NaN   NaN        NaN     NaN   \n",
       "5          NaN     San Rafael    CA      97562     USA   \n",
       "6          NaN  San Francisco    CA      94217     USA   \n",
       "7          NaN     Burlingame    CA      94217     USA   \n",
       "8          NaN  San Francisco    CA      94217     USA   \n",
       "9          NaN       San Jose    CA      94217     USA   \n",
       "\n",
       "   salesRepEmployeeNumber  creditLimit  \n",
       "0                     NaN          NaN  \n",
       "1                     NaN          NaN  \n",
       "2                     NaN          NaN  \n",
       "3                     NaN          NaN  \n",
       "4                     NaN          NaN  \n",
       "5                  1165.0     210500.0  \n",
       "6                  1165.0      64600.0  \n",
       "7                  1165.0      84600.0  \n",
       "8                  1165.0     105000.0  \n",
       "9                  1165.0      77600.0  "
      ]
     },
     "metadata": {},
     "output_type": "display_data"
    },
    {
     "name": "stdout",
     "output_type": "stream",
     "text": [
      "==================== 필요한 컬럼 정보만 남겨 데이터를 정리합니다. ====================\n"
     ]
    },
    {
     "data": {
      "text/plain": [
       "(107, 8)"
      ]
     },
     "metadata": {},
     "output_type": "display_data"
    },
    {
     "data": {
      "text/html": [
       "<div>\n",
       "<style scoped>\n",
       "    .dataframe tbody tr th:only-of-type {\n",
       "        vertical-align: middle;\n",
       "    }\n",
       "\n",
       "    .dataframe tbody tr th {\n",
       "        vertical-align: top;\n",
       "    }\n",
       "\n",
       "    .dataframe thead th {\n",
       "        text-align: right;\n",
       "    }\n",
       "</style>\n",
       "<table border=\"1\" class=\"dataframe\">\n",
       "  <thead>\n",
       "    <tr style=\"text-align: right;\">\n",
       "      <th></th>\n",
       "      <th>BossLastName</th>\n",
       "      <th>Boss_JobTitle</th>\n",
       "      <th>Reporter_LastName</th>\n",
       "      <th>Reporter_JobTitle</th>\n",
       "      <th>Reporter_EmpNumber</th>\n",
       "      <th>salesRepEmployeeNumber</th>\n",
       "      <th>customerName</th>\n",
       "      <th>creditLimit</th>\n",
       "    </tr>\n",
       "  </thead>\n",
       "  <tbody>\n",
       "    <tr>\n",
       "      <th>0</th>\n",
       "      <td>Murphy</td>\n",
       "      <td>President</td>\n",
       "      <td>Patterson</td>\n",
       "      <td>VP Sales</td>\n",
       "      <td>1056</td>\n",
       "      <td>NaN</td>\n",
       "      <td>NaN</td>\n",
       "      <td>NaN</td>\n",
       "    </tr>\n",
       "    <tr>\n",
       "      <th>1</th>\n",
       "      <td>Murphy</td>\n",
       "      <td>President</td>\n",
       "      <td>Firrelli</td>\n",
       "      <td>VP Marketing</td>\n",
       "      <td>1076</td>\n",
       "      <td>NaN</td>\n",
       "      <td>NaN</td>\n",
       "      <td>NaN</td>\n",
       "    </tr>\n",
       "    <tr>\n",
       "      <th>2</th>\n",
       "      <td>Patterson</td>\n",
       "      <td>VP Sales</td>\n",
       "      <td>Patterson</td>\n",
       "      <td>Sales Manager (APAC)</td>\n",
       "      <td>1088</td>\n",
       "      <td>NaN</td>\n",
       "      <td>NaN</td>\n",
       "      <td>NaN</td>\n",
       "    </tr>\n",
       "    <tr>\n",
       "      <th>3</th>\n",
       "      <td>Patterson</td>\n",
       "      <td>VP Sales</td>\n",
       "      <td>Bondur</td>\n",
       "      <td>Sale Manager (EMEA)</td>\n",
       "      <td>1102</td>\n",
       "      <td>NaN</td>\n",
       "      <td>NaN</td>\n",
       "      <td>NaN</td>\n",
       "    </tr>\n",
       "    <tr>\n",
       "      <th>4</th>\n",
       "      <td>Patterson</td>\n",
       "      <td>VP Sales</td>\n",
       "      <td>Bow</td>\n",
       "      <td>Sales Manager (NA)</td>\n",
       "      <td>1143</td>\n",
       "      <td>NaN</td>\n",
       "      <td>NaN</td>\n",
       "      <td>NaN</td>\n",
       "    </tr>\n",
       "    <tr>\n",
       "      <th>5</th>\n",
       "      <td>Bow</td>\n",
       "      <td>Sales Manager (NA)</td>\n",
       "      <td>Jennings</td>\n",
       "      <td>Sales Rep</td>\n",
       "      <td>1165</td>\n",
       "      <td>1165.0</td>\n",
       "      <td>Mini Gifts Distributors Ltd.</td>\n",
       "      <td>210500.0</td>\n",
       "    </tr>\n",
       "    <tr>\n",
       "      <th>6</th>\n",
       "      <td>Bow</td>\n",
       "      <td>Sales Manager (NA)</td>\n",
       "      <td>Jennings</td>\n",
       "      <td>Sales Rep</td>\n",
       "      <td>1165</td>\n",
       "      <td>1165.0</td>\n",
       "      <td>Mini Wheels Co.</td>\n",
       "      <td>64600.0</td>\n",
       "    </tr>\n",
       "    <tr>\n",
       "      <th>7</th>\n",
       "      <td>Bow</td>\n",
       "      <td>Sales Manager (NA)</td>\n",
       "      <td>Jennings</td>\n",
       "      <td>Sales Rep</td>\n",
       "      <td>1165</td>\n",
       "      <td>1165.0</td>\n",
       "      <td>Technics Stores Inc.</td>\n",
       "      <td>84600.0</td>\n",
       "    </tr>\n",
       "    <tr>\n",
       "      <th>8</th>\n",
       "      <td>Bow</td>\n",
       "      <td>Sales Manager (NA)</td>\n",
       "      <td>Jennings</td>\n",
       "      <td>Sales Rep</td>\n",
       "      <td>1165</td>\n",
       "      <td>1165.0</td>\n",
       "      <td>Corporate Gift Ideas Co.</td>\n",
       "      <td>105000.0</td>\n",
       "    </tr>\n",
       "    <tr>\n",
       "      <th>9</th>\n",
       "      <td>Bow</td>\n",
       "      <td>Sales Manager (NA)</td>\n",
       "      <td>Jennings</td>\n",
       "      <td>Sales Rep</td>\n",
       "      <td>1165</td>\n",
       "      <td>1165.0</td>\n",
       "      <td>The Sharp Gifts Warehouse</td>\n",
       "      <td>77600.0</td>\n",
       "    </tr>\n",
       "    <tr>\n",
       "      <th>10</th>\n",
       "      <td>Bow</td>\n",
       "      <td>Sales Manager (NA)</td>\n",
       "      <td>Jennings</td>\n",
       "      <td>Sales Rep</td>\n",
       "      <td>1165</td>\n",
       "      <td>1165.0</td>\n",
       "      <td>Signal Collectibles Ltd.</td>\n",
       "      <td>60300.0</td>\n",
       "    </tr>\n",
       "    <tr>\n",
       "      <th>11</th>\n",
       "      <td>Bow</td>\n",
       "      <td>Sales Manager (NA)</td>\n",
       "      <td>Thompson</td>\n",
       "      <td>Sales Rep</td>\n",
       "      <td>1166</td>\n",
       "      <td>1166.0</td>\n",
       "      <td>Signal Gift Stores</td>\n",
       "      <td>71800.0</td>\n",
       "    </tr>\n",
       "    <tr>\n",
       "      <th>12</th>\n",
       "      <td>Bow</td>\n",
       "      <td>Sales Manager (NA)</td>\n",
       "      <td>Thompson</td>\n",
       "      <td>Sales Rep</td>\n",
       "      <td>1166</td>\n",
       "      <td>1166.0</td>\n",
       "      <td>Toys4GrownUps.com</td>\n",
       "      <td>90700.0</td>\n",
       "    </tr>\n",
       "    <tr>\n",
       "      <th>13</th>\n",
       "      <td>Bow</td>\n",
       "      <td>Sales Manager (NA)</td>\n",
       "      <td>Thompson</td>\n",
       "      <td>Sales Rep</td>\n",
       "      <td>1166</td>\n",
       "      <td>1166.0</td>\n",
       "      <td>Boards &amp; Toys Co.</td>\n",
       "      <td>11000.0</td>\n",
       "    </tr>\n",
       "    <tr>\n",
       "      <th>14</th>\n",
       "      <td>Bow</td>\n",
       "      <td>Sales Manager (NA)</td>\n",
       "      <td>Thompson</td>\n",
       "      <td>Sales Rep</td>\n",
       "      <td>1166</td>\n",
       "      <td>1166.0</td>\n",
       "      <td>Collectable Mini Designs Co.</td>\n",
       "      <td>105000.0</td>\n",
       "    </tr>\n",
       "    <tr>\n",
       "      <th>15</th>\n",
       "      <td>Bow</td>\n",
       "      <td>Sales Manager (NA)</td>\n",
       "      <td>Thompson</td>\n",
       "      <td>Sales Rep</td>\n",
       "      <td>1166</td>\n",
       "      <td>1166.0</td>\n",
       "      <td>Men 'R' US Retailers, Ltd.</td>\n",
       "      <td>57700.0</td>\n",
       "    </tr>\n",
       "    <tr>\n",
       "      <th>16</th>\n",
       "      <td>Bow</td>\n",
       "      <td>Sales Manager (NA)</td>\n",
       "      <td>Thompson</td>\n",
       "      <td>Sales Rep</td>\n",
       "      <td>1166</td>\n",
       "      <td>1166.0</td>\n",
       "      <td>West Coast Collectables Co.</td>\n",
       "      <td>55400.0</td>\n",
       "    </tr>\n",
       "    <tr>\n",
       "      <th>17</th>\n",
       "      <td>Bow</td>\n",
       "      <td>Sales Manager (NA)</td>\n",
       "      <td>Firrelli</td>\n",
       "      <td>Sales Rep</td>\n",
       "      <td>1188</td>\n",
       "      <td>1188.0</td>\n",
       "      <td>Cambridge Collectables Co.</td>\n",
       "      <td>43400.0</td>\n",
       "    </tr>\n",
       "    <tr>\n",
       "      <th>18</th>\n",
       "      <td>Bow</td>\n",
       "      <td>Sales Manager (NA)</td>\n",
       "      <td>Firrelli</td>\n",
       "      <td>Sales Rep</td>\n",
       "      <td>1188</td>\n",
       "      <td>1188.0</td>\n",
       "      <td>Online Mini Collectables</td>\n",
       "      <td>68700.0</td>\n",
       "    </tr>\n",
       "    <tr>\n",
       "      <th>19</th>\n",
       "      <td>Bow</td>\n",
       "      <td>Sales Manager (NA)</td>\n",
       "      <td>Firrelli</td>\n",
       "      <td>Sales Rep</td>\n",
       "      <td>1188</td>\n",
       "      <td>1188.0</td>\n",
       "      <td>Mini Creations Ltd.</td>\n",
       "      <td>94500.0</td>\n",
       "    </tr>\n",
       "  </tbody>\n",
       "</table>\n",
       "</div>"
      ],
      "text/plain": [
       "   BossLastName       Boss_JobTitle Reporter_LastName     Reporter_JobTitle  \\\n",
       "0        Murphy           President         Patterson              VP Sales   \n",
       "1        Murphy           President          Firrelli          VP Marketing   \n",
       "2     Patterson            VP Sales         Patterson  Sales Manager (APAC)   \n",
       "3     Patterson            VP Sales            Bondur   Sale Manager (EMEA)   \n",
       "4     Patterson            VP Sales               Bow    Sales Manager (NA)   \n",
       "5           Bow  Sales Manager (NA)          Jennings             Sales Rep   \n",
       "6           Bow  Sales Manager (NA)          Jennings             Sales Rep   \n",
       "7           Bow  Sales Manager (NA)          Jennings             Sales Rep   \n",
       "8           Bow  Sales Manager (NA)          Jennings             Sales Rep   \n",
       "9           Bow  Sales Manager (NA)          Jennings             Sales Rep   \n",
       "10          Bow  Sales Manager (NA)          Jennings             Sales Rep   \n",
       "11          Bow  Sales Manager (NA)          Thompson             Sales Rep   \n",
       "12          Bow  Sales Manager (NA)          Thompson             Sales Rep   \n",
       "13          Bow  Sales Manager (NA)          Thompson             Sales Rep   \n",
       "14          Bow  Sales Manager (NA)          Thompson             Sales Rep   \n",
       "15          Bow  Sales Manager (NA)          Thompson             Sales Rep   \n",
       "16          Bow  Sales Manager (NA)          Thompson             Sales Rep   \n",
       "17          Bow  Sales Manager (NA)          Firrelli             Sales Rep   \n",
       "18          Bow  Sales Manager (NA)          Firrelli             Sales Rep   \n",
       "19          Bow  Sales Manager (NA)          Firrelli             Sales Rep   \n",
       "\n",
       "    Reporter_EmpNumber  salesRepEmployeeNumber                  customerName  \\\n",
       "0                 1056                     NaN                           NaN   \n",
       "1                 1076                     NaN                           NaN   \n",
       "2                 1088                     NaN                           NaN   \n",
       "3                 1102                     NaN                           NaN   \n",
       "4                 1143                     NaN                           NaN   \n",
       "5                 1165                  1165.0  Mini Gifts Distributors Ltd.   \n",
       "6                 1165                  1165.0               Mini Wheels Co.   \n",
       "7                 1165                  1165.0          Technics Stores Inc.   \n",
       "8                 1165                  1165.0      Corporate Gift Ideas Co.   \n",
       "9                 1165                  1165.0     The Sharp Gifts Warehouse   \n",
       "10                1165                  1165.0      Signal Collectibles Ltd.   \n",
       "11                1166                  1166.0            Signal Gift Stores   \n",
       "12                1166                  1166.0             Toys4GrownUps.com   \n",
       "13                1166                  1166.0             Boards & Toys Co.   \n",
       "14                1166                  1166.0  Collectable Mini Designs Co.   \n",
       "15                1166                  1166.0    Men 'R' US Retailers, Ltd.   \n",
       "16                1166                  1166.0   West Coast Collectables Co.   \n",
       "17                1188                  1188.0    Cambridge Collectables Co.   \n",
       "18                1188                  1188.0      Online Mini Collectables   \n",
       "19                1188                  1188.0           Mini Creations Ltd.   \n",
       "\n",
       "    creditLimit  \n",
       "0           NaN  \n",
       "1           NaN  \n",
       "2           NaN  \n",
       "3           NaN  \n",
       "4           NaN  \n",
       "5      210500.0  \n",
       "6       64600.0  \n",
       "7       84600.0  \n",
       "8      105000.0  \n",
       "9       77600.0  \n",
       "10      60300.0  \n",
       "11      71800.0  \n",
       "12      90700.0  \n",
       "13      11000.0  \n",
       "14     105000.0  \n",
       "15      57700.0  \n",
       "16      55400.0  \n",
       "17      43400.0  \n",
       "18      68700.0  \n",
       "19      94500.0  "
      ]
     },
     "metadata": {},
     "output_type": "display_data"
    }
   ],
   "source": [
    "# 데이터 결합\n",
    "merged_df = hierarchy_new_df.merge(customeres_df, left_on='Reporter_EmpNumber', right_on='salesRepEmployeeNumber', how='left')\n",
    "\n",
    "print(\"=\"*20, '전처리 데이터와 customers_df 데이터를 결합합니다.', \"=\"*20)\n",
    "print(merged_df.columns)\n",
    "display(merged_df.shape)\n",
    "display(merged_df.head(10))\n",
    "\n",
    "# 데이터 정제\n",
    "merged_new_df = merged_df[['BossLastName', 'Boss_JobTitle', 'Reporter_LastName',\n",
    "    'Reporter_JobTitle', 'Reporter_EmpNumber', 'salesRepEmployeeNumber', 'customerName', 'creditLimit']\n",
    "]\n",
    "print(\"=\"*20, '필요한 컬럼 정보만 남겨 데이터를 정리합니다.', \"=\"*20)\n",
    "display(merged_new_df.shape)\n",
    "display(merged_new_df.head(20))"
   ]
  },
  {
   "cell_type": "markdown",
   "metadata": {
    "id": "Su7IAft1Ay2e"
   },
   "source": [
    "<img src=\"./참고이미지/Q4/Q4_3.png\" width=\"100%\">"
   ]
  },
  {
   "cell_type": "markdown",
   "metadata": {
    "id": "Bp7YZMpIAy2e"
   },
   "source": [
    "<b>코드 Cell</b>\n",
    "- 최종 결과입니다.\n",
    "- 직속 부하가 관리하는 고객들의 creditLimit의 평균값을 계산합니다.\n",
    "- 집계한 creditLimit 정보를 기준으로 내림차순 정렬을 수행한 뒤에, 순위를 매깁니다."
   ]
  },
  {
   "cell_type": "code",
   "execution_count": 86,
   "metadata": {
    "id": "jQzgg7YkAy2f"
   },
   "outputs": [
    {
     "data": {
      "text/html": [
       "<div>\n",
       "<style scoped>\n",
       "    .dataframe tbody tr th:only-of-type {\n",
       "        vertical-align: middle;\n",
       "    }\n",
       "\n",
       "    .dataframe tbody tr th {\n",
       "        vertical-align: top;\n",
       "    }\n",
       "\n",
       "    .dataframe thead th {\n",
       "        text-align: right;\n",
       "    }\n",
       "</style>\n",
       "<table border=\"1\" class=\"dataframe\">\n",
       "  <thead>\n",
       "    <tr style=\"text-align: right;\">\n",
       "      <th></th>\n",
       "      <th>RANK</th>\n",
       "      <th>BossLastName</th>\n",
       "      <th>Boss_JobTitle</th>\n",
       "      <th>creditLimit</th>\n",
       "    </tr>\n",
       "  </thead>\n",
       "  <tbody>\n",
       "    <tr>\n",
       "      <th>0</th>\n",
       "      <td>1</td>\n",
       "      <td>Patterson</td>\n",
       "      <td>Sales Manager (APAC)</td>\n",
       "      <td>89070.000000</td>\n",
       "    </tr>\n",
       "    <tr>\n",
       "      <th>1</th>\n",
       "      <td>2</td>\n",
       "      <td>Bondur</td>\n",
       "      <td>Sale Manager (EMEA)</td>\n",
       "      <td>84867.391304</td>\n",
       "    </tr>\n",
       "    <tr>\n",
       "      <th>2</th>\n",
       "      <td>3</td>\n",
       "      <td>Patterson</td>\n",
       "      <td>VP Sales</td>\n",
       "      <td>83900.000000</td>\n",
       "    </tr>\n",
       "    <tr>\n",
       "      <th>3</th>\n",
       "      <td>4</td>\n",
       "      <td>Bow</td>\n",
       "      <td>Sales Manager (NA)</td>\n",
       "      <td>77956.410256</td>\n",
       "    </tr>\n",
       "  </tbody>\n",
       "</table>\n",
       "</div>"
      ],
      "text/plain": [
       "   RANK BossLastName         Boss_JobTitle   creditLimit\n",
       "0     1    Patterson  Sales Manager (APAC)  89070.000000\n",
       "1     2       Bondur   Sale Manager (EMEA)  84867.391304\n",
       "2     3    Patterson              VP Sales  83900.000000\n",
       "3     4          Bow    Sales Manager (NA)  77956.410256"
      ]
     },
     "metadata": {},
     "output_type": "display_data"
    }
   ],
   "source": [
    "boss_credit_avg = merged_new_df.groupby(['BossLastName', 'Boss_JobTitle'])['creditLimit'].mean().dropna().reset_index()\n",
    "boss_credit_avg['RANK'] = boss_credit_avg['creditLimit'].rank(ascending=False).astype(int)\n",
    "\n",
    "result = boss_credit_avg.dropna().sort_values('RANK').reset_index(drop=True)\n",
    "result = result[['RANK', 'BossLastName', 'Boss_JobTitle', 'creditLimit']]\n",
    "display(result)\n"
   ]
  },
  {
   "cell_type": "markdown",
   "metadata": {
    "id": "2nW3un44Ay2f"
   },
   "source": [
    "<img src=\"./참고이미지/Q4/Q4_4.png\" width=\"40%\">"
   ]
  },
  {
   "cell_type": "markdown",
   "metadata": {
    "id": "yaX5ReIZAy2f"
   },
   "source": [
    "# Q5. 데이터 전처리 - Python MySQL"
   ]
  },
  {
   "cell_type": "markdown",
   "metadata": {
    "id": "sxmJ59caAy2f"
   },
   "source": [
    "<b>주의사항</b>\n",
    "- 반드시, 하나의 쿼리문을 통해 동일한 결과를 도출해야 합니다.\n",
    "- 쿼리를 두 번에 나누어서 적용할 경우, 오답으로 처리될 수 있습니다."
   ]
  },
  {
   "cell_type": "code",
   "execution_count": 73,
   "metadata": {
    "id": "70AhexUdAy2f"
   },
   "outputs": [],
   "source": [
    "import mysql.connector\n",
    "\n",
    "# MySQL 데이터베이스 연결 설정\n",
    "conn = mysql.connector.connect(\n",
    "    host='localhost',\n",
    "    user='root', \n",
    "    password='bc4129', \n",
    "    database='classicmodels' \n",
    ")\n",
    "# if conn.is_connected():\n",
    "#     print('연결 성공')"
   ]
  },
  {
   "cell_type": "code",
   "execution_count": null,
   "metadata": {
    "id": "y4T5D0bHAy2f"
   },
   "outputs": [
    {
     "data": {
      "text/html": [
       "<div>\n",
       "<style scoped>\n",
       "    .dataframe tbody tr th:only-of-type {\n",
       "        vertical-align: middle;\n",
       "    }\n",
       "\n",
       "    .dataframe tbody tr th {\n",
       "        vertical-align: top;\n",
       "    }\n",
       "\n",
       "    .dataframe thead th {\n",
       "        text-align: right;\n",
       "    }\n",
       "</style>\n",
       "<table border=\"1\" class=\"dataframe\">\n",
       "  <thead>\n",
       "    <tr style=\"text-align: right;\">\n",
       "      <th></th>\n",
       "      <th>RANK</th>\n",
       "      <th>BossLastName</th>\n",
       "      <th>Boss_jobTitle</th>\n",
       "      <th>creditLimit</th>\n",
       "    </tr>\n",
       "  </thead>\n",
       "  <tbody>\n",
       "    <tr>\n",
       "      <th>0</th>\n",
       "      <td>1</td>\n",
       "      <td>Patterson</td>\n",
       "      <td>Sales Manager (APAC)</td>\n",
       "      <td>89070.000000</td>\n",
       "    </tr>\n",
       "    <tr>\n",
       "      <th>1</th>\n",
       "      <td>2</td>\n",
       "      <td>Bondur</td>\n",
       "      <td>Sale Manager (EMEA)</td>\n",
       "      <td>84867.391304</td>\n",
       "    </tr>\n",
       "    <tr>\n",
       "      <th>2</th>\n",
       "      <td>3</td>\n",
       "      <td>Patterson</td>\n",
       "      <td>VP Sales</td>\n",
       "      <td>83900.000000</td>\n",
       "    </tr>\n",
       "    <tr>\n",
       "      <th>3</th>\n",
       "      <td>4</td>\n",
       "      <td>Bow</td>\n",
       "      <td>Sales Manager (NA)</td>\n",
       "      <td>77956.410256</td>\n",
       "    </tr>\n",
       "  </tbody>\n",
       "</table>\n",
       "</div>"
      ],
      "text/plain": [
       "   RANK BossLastName         Boss_jobTitle   creditLimit\n",
       "0     1    Patterson  Sales Manager (APAC)  89070.000000\n",
       "1     2       Bondur   Sale Manager (EMEA)  84867.391304\n",
       "2     3    Patterson              VP Sales  83900.000000\n",
       "3     4          Bow    Sales Manager (NA)  77956.410256"
      ]
     },
     "execution_count": 77,
     "metadata": {},
     "output_type": "execute_result"
    }
   ],
   "source": [
    "# 반드시, 해당 셀에서는 하나의 쿼리문 입력과 pd.read_sql() 이외에는 어떠한 코드도 입력되어서는 안됩니다.\n",
    "# 다른 코드를 추가하여 결과를 도출할 경우 오답으로 처리됩니다.\n",
    "\n",
    "query = \"\"\"\n",
    "WITH job_hierarchy AS (\n",
    "    SELECT 'President' as jobTitle, 1 as job_hierarchy\n",
    "    UNION ALL\n",
    "    SELECT 'VP Sales', 2\n",
    "    UNION ALL\n",
    "    SELECT 'VP Marketing', 2\n",
    "    UNION ALL\n",
    "    SELECT 'Sales Manager (APAC)', 3\n",
    "    UNION ALL\n",
    "    SELECT 'Sales Manager (EMEA)', 3\n",
    "    UNION ALL\n",
    "    SELECT 'Sales Manager (NA)', 3\n",
    "    UNION ALL\n",
    "    SELECT 'Sales Rep', 4\n",
    "),\n",
    "\n",
    "employees_sorted AS (\n",
    "    SELECT \n",
    "        e.lastName,\n",
    "        e.jobTitle,\n",
    "        e.employeeNumber,\n",
    "        e.reportsTo,\n",
    "        jh.job_hierarchy\n",
    "    FROM employees e\n",
    "    LEFT JOIN job_hierarchy jh ON e.jobTitle = jh.jobTitle\n",
    "),\n",
    "\n",
    "hierarchy_df AS (\n",
    "    \n",
    "    SELECT \n",
    "        reporter.lastName AS Reporter_LastName,\n",
    "        reporter.jobTitle AS Reporter_JobTitle,\n",
    "        reporter.employeeNumber AS Reporter_EmpNumber,\n",
    "        reporter.reportsTo,\n",
    "        boss.employeeNumber AS Boss_EmpNumber,\n",
    "        boss.lastName AS BossLastName,\n",
    "        boss.jobTitle AS Boss_jobTitle\n",
    "    FROM employees_sorted reporter\n",
    "    LEFT JOIN employees_sorted boss \n",
    "        ON reporter.reportsTo = boss.employeeNumber\n",
    "),\n",
    "\n",
    "merged_with_customers AS (\n",
    "   \n",
    "    SELECT \n",
    "        hr.BossLastName,\n",
    "        hr.Boss_jobTitle,\n",
    "        hr.Reporter_LastName,\n",
    "        hr.Reporter_JobTitle,\n",
    "        hr.Reporter_EmpNumber,\n",
    "        c.salesRepEmployeeNumber,\n",
    "        c.customerName,\n",
    "        c.creditLimit\n",
    "    FROM hierarchy_df hr\n",
    "    LEFT JOIN customers c \n",
    "        ON hr.Reporter_EmpNumber = c.salesRepEmployeeNumber\n",
    "),\n",
    "\n",
    "boss_credit AS (\n",
    "   \n",
    "    SELECT \n",
    "        BossLastName,\n",
    "        Boss_jobTitle,\n",
    "        AVG(creditLimit) AS average_creditLimit\n",
    "    FROM merged_with_customers\n",
    "    WHERE creditLimit IS NOT NULL\n",
    "    GROUP BY BossLastName, Boss_jobTitle\n",
    "),\n",
    "\n",
    "ranked_bosses AS (\n",
    "  \n",
    "    SELECT \n",
    "        BossLastName,\n",
    "        Boss_jobTitle,\n",
    "        average_creditLimit,\n",
    "        RANK() OVER (ORDER BY average_creditLimit DESC) AS credit_rank\n",
    "    FROM boss_credit\n",
    "    WHERE average_creditLimit IS NOT NULL\n",
    ")\n",
    "\n",
    "SELECT \n",
    "    credit_rank AS 'RANK',\n",
    "    BossLastName,\n",
    "    Boss_jobTitle,\n",
    "    average_creditLimit AS creditLimit\n",
    "FROM ranked_bosses\n",
    "ORDER BY credit_rank\n",
    "; \"\"\"\n",
    "\n",
    "pd.read_sql(query, conn)"
   ]
  },
  {
   "cell_type": "markdown",
   "metadata": {
    "id": "Pn1Cae-6Ay2f"
   },
   "source": [
    "<img src=\"./참고이미지/Q5/Q5_1.png\" width=\"80%\">"
   ]
  },
  {
   "cell_type": "markdown",
   "metadata": {
    "id": "H-ipkmnLAy2g"
   },
   "source": [
    "# Q6. 데이터 전처리2 - Pandas 데이터 전처리"
   ]
  },
  {
   "cell_type": "markdown",
   "metadata": {
    "id": "4oQWV2BZAy2g"
   },
   "source": [
    "<b>1. 데이터</b>\n",
    "- orders.csv / orderdetails.csv / customers.csv\n",
    "\n",
    "<b>2. 최종 결과</b>\n",
    "- 고객별로 가장 큰 주문금액, 가장 작은 주문 금액, 이들의 차이에 대한 데이터를 구합니다.  \n",
    "- 이들을 각격 차이를 기준으로 내림차순하고 20위까지 등수를 매깁니다.  \n",
    "- 데이터 중에서 customer의 country는 USA, orders의 stauts는 Shipped로 필터링을 합니다.  \n",
    "\n",
    "<b>※ 참고</b>\n",
    "- 자세한 세부 과정은 내용은 아래 전처리 과정들과 출력 결과를 참고 바랍니다."
   ]
  },
  {
   "cell_type": "markdown",
   "metadata": {
    "id": "OTkqqujnAy2g"
   },
   "source": [
    "<b>코드 Cell 설명</b>\n",
    "- 데이터 확인 및 읽기용 코드셀입니다.\n",
    "- 데이터 읽기에 활용하시거나, 참고용으로만 활용하시면 됩니다."
   ]
  },
  {
   "cell_type": "code",
   "execution_count": 1,
   "metadata": {
    "id": "yfXMkzSNAy2g"
   },
   "outputs": [
    {
     "name": "stdout",
     "output_type": "stream",
     "text": [
      "========== customers_df 정보 ==========\n",
      "(122, 13)\n"
     ]
    },
    {
     "data": {
      "text/html": [
       "<div>\n",
       "<style scoped>\n",
       "    .dataframe tbody tr th:only-of-type {\n",
       "        vertical-align: middle;\n",
       "    }\n",
       "\n",
       "    .dataframe tbody tr th {\n",
       "        vertical-align: top;\n",
       "    }\n",
       "\n",
       "    .dataframe thead th {\n",
       "        text-align: right;\n",
       "    }\n",
       "</style>\n",
       "<table border=\"1\" class=\"dataframe\">\n",
       "  <thead>\n",
       "    <tr style=\"text-align: right;\">\n",
       "      <th></th>\n",
       "      <th>customerNumber</th>\n",
       "      <th>customerName</th>\n",
       "      <th>contactLastName</th>\n",
       "      <th>contactFirstName</th>\n",
       "      <th>phone</th>\n",
       "      <th>addressLine1</th>\n",
       "      <th>addressLine2</th>\n",
       "      <th>city</th>\n",
       "      <th>state</th>\n",
       "      <th>postalCode</th>\n",
       "      <th>country</th>\n",
       "      <th>salesRepEmployeeNumber</th>\n",
       "      <th>creditLimit</th>\n",
       "    </tr>\n",
       "  </thead>\n",
       "  <tbody>\n",
       "    <tr>\n",
       "      <th>0</th>\n",
       "      <td>103</td>\n",
       "      <td>Atelier graphique</td>\n",
       "      <td>Schmitt</td>\n",
       "      <td>Carine</td>\n",
       "      <td>40.32.2555</td>\n",
       "      <td>54, rue Royale</td>\n",
       "      <td>NaN</td>\n",
       "      <td>Nantes</td>\n",
       "      <td>NaN</td>\n",
       "      <td>44000</td>\n",
       "      <td>France</td>\n",
       "      <td>1370.0</td>\n",
       "      <td>21000.0</td>\n",
       "    </tr>\n",
       "    <tr>\n",
       "      <th>1</th>\n",
       "      <td>112</td>\n",
       "      <td>Signal Gift Stores</td>\n",
       "      <td>King</td>\n",
       "      <td>Jean</td>\n",
       "      <td>7025551838</td>\n",
       "      <td>8489 Strong St.</td>\n",
       "      <td>NaN</td>\n",
       "      <td>Las Vegas</td>\n",
       "      <td>NV</td>\n",
       "      <td>83030</td>\n",
       "      <td>USA</td>\n",
       "      <td>1166.0</td>\n",
       "      <td>71800.0</td>\n",
       "    </tr>\n",
       "    <tr>\n",
       "      <th>2</th>\n",
       "      <td>114</td>\n",
       "      <td>Australian Collectors, Co.</td>\n",
       "      <td>Ferguson</td>\n",
       "      <td>Peter</td>\n",
       "      <td>03 9520 4555</td>\n",
       "      <td>636 St Kilda Road</td>\n",
       "      <td>Level 3</td>\n",
       "      <td>Melbourne</td>\n",
       "      <td>Victoria</td>\n",
       "      <td>3004</td>\n",
       "      <td>Australia</td>\n",
       "      <td>1611.0</td>\n",
       "      <td>117300.0</td>\n",
       "    </tr>\n",
       "    <tr>\n",
       "      <th>3</th>\n",
       "      <td>119</td>\n",
       "      <td>La Rochelle Gifts</td>\n",
       "      <td>Labrune</td>\n",
       "      <td>Janine</td>\n",
       "      <td>40.67.8555</td>\n",
       "      <td>67, rue des Cinquante Otages</td>\n",
       "      <td>NaN</td>\n",
       "      <td>Nantes</td>\n",
       "      <td>NaN</td>\n",
       "      <td>44000</td>\n",
       "      <td>France</td>\n",
       "      <td>1370.0</td>\n",
       "      <td>118200.0</td>\n",
       "    </tr>\n",
       "    <tr>\n",
       "      <th>4</th>\n",
       "      <td>121</td>\n",
       "      <td>Baane Mini Imports</td>\n",
       "      <td>Bergulfsen</td>\n",
       "      <td>Jonas</td>\n",
       "      <td>07-98 9555</td>\n",
       "      <td>Erling Skakkes gate 78</td>\n",
       "      <td>NaN</td>\n",
       "      <td>Stavern</td>\n",
       "      <td>NaN</td>\n",
       "      <td>4110</td>\n",
       "      <td>Norway</td>\n",
       "      <td>1504.0</td>\n",
       "      <td>81700.0</td>\n",
       "    </tr>\n",
       "  </tbody>\n",
       "</table>\n",
       "</div>"
      ],
      "text/plain": [
       "   customerNumber                customerName contactLastName  \\\n",
       "0             103           Atelier graphique         Schmitt   \n",
       "1             112          Signal Gift Stores            King   \n",
       "2             114  Australian Collectors, Co.        Ferguson   \n",
       "3             119           La Rochelle Gifts         Labrune   \n",
       "4             121          Baane Mini Imports      Bergulfsen   \n",
       "\n",
       "  contactFirstName         phone                  addressLine1 addressLine2  \\\n",
       "0          Carine     40.32.2555                54, rue Royale          NaN   \n",
       "1             Jean    7025551838               8489 Strong St.          NaN   \n",
       "2            Peter  03 9520 4555             636 St Kilda Road      Level 3   \n",
       "3          Janine     40.67.8555  67, rue des Cinquante Otages          NaN   \n",
       "4           Jonas     07-98 9555        Erling Skakkes gate 78          NaN   \n",
       "\n",
       "        city     state postalCode    country  salesRepEmployeeNumber  \\\n",
       "0     Nantes       NaN      44000     France                  1370.0   \n",
       "1  Las Vegas        NV      83030        USA                  1166.0   \n",
       "2  Melbourne  Victoria       3004  Australia                  1611.0   \n",
       "3     Nantes       NaN      44000     France                  1370.0   \n",
       "4    Stavern       NaN       4110     Norway                  1504.0   \n",
       "\n",
       "   creditLimit  \n",
       "0      21000.0  \n",
       "1      71800.0  \n",
       "2     117300.0  \n",
       "3     118200.0  \n",
       "4      81700.0  "
      ]
     },
     "metadata": {},
     "output_type": "display_data"
    },
    {
     "name": "stdout",
     "output_type": "stream",
     "text": [
      "========== orders_df 정보 ==========\n",
      "(326, 7)\n"
     ]
    },
    {
     "data": {
      "text/html": [
       "<div>\n",
       "<style scoped>\n",
       "    .dataframe tbody tr th:only-of-type {\n",
       "        vertical-align: middle;\n",
       "    }\n",
       "\n",
       "    .dataframe tbody tr th {\n",
       "        vertical-align: top;\n",
       "    }\n",
       "\n",
       "    .dataframe thead th {\n",
       "        text-align: right;\n",
       "    }\n",
       "</style>\n",
       "<table border=\"1\" class=\"dataframe\">\n",
       "  <thead>\n",
       "    <tr style=\"text-align: right;\">\n",
       "      <th></th>\n",
       "      <th>orderNumber</th>\n",
       "      <th>orderDate</th>\n",
       "      <th>requiredDate</th>\n",
       "      <th>shippedDate</th>\n",
       "      <th>status</th>\n",
       "      <th>comments</th>\n",
       "      <th>customerNumber</th>\n",
       "    </tr>\n",
       "  </thead>\n",
       "  <tbody>\n",
       "    <tr>\n",
       "      <th>23</th>\n",
       "      <td>10123</td>\n",
       "      <td>2003-05-20</td>\n",
       "      <td>2003-05-29</td>\n",
       "      <td>2003-05-22</td>\n",
       "      <td>Shipped</td>\n",
       "      <td>NaN</td>\n",
       "      <td>103</td>\n",
       "    </tr>\n",
       "    <tr>\n",
       "      <th>245</th>\n",
       "      <td>10345</td>\n",
       "      <td>2004-11-25</td>\n",
       "      <td>2004-12-01</td>\n",
       "      <td>2004-11-26</td>\n",
       "      <td>Shipped</td>\n",
       "      <td>NaN</td>\n",
       "      <td>103</td>\n",
       "    </tr>\n",
       "    <tr>\n",
       "      <th>198</th>\n",
       "      <td>10298</td>\n",
       "      <td>2004-09-27</td>\n",
       "      <td>2004-10-05</td>\n",
       "      <td>2004-10-01</td>\n",
       "      <td>Shipped</td>\n",
       "      <td>NaN</td>\n",
       "      <td>103</td>\n",
       "    </tr>\n",
       "    <tr>\n",
       "      <th>24</th>\n",
       "      <td>10124</td>\n",
       "      <td>2003-05-21</td>\n",
       "      <td>2003-05-29</td>\n",
       "      <td>2003-05-25</td>\n",
       "      <td>Shipped</td>\n",
       "      <td>Customer very concerned about the exact color ...</td>\n",
       "      <td>112</td>\n",
       "    </tr>\n",
       "    <tr>\n",
       "      <th>246</th>\n",
       "      <td>10346</td>\n",
       "      <td>2004-11-29</td>\n",
       "      <td>2004-12-05</td>\n",
       "      <td>2004-11-30</td>\n",
       "      <td>Shipped</td>\n",
       "      <td>NaN</td>\n",
       "      <td>112</td>\n",
       "    </tr>\n",
       "  </tbody>\n",
       "</table>\n",
       "</div>"
      ],
      "text/plain": [
       "     orderNumber   orderDate requiredDate shippedDate   status  \\\n",
       "23         10123  2003-05-20   2003-05-29  2003-05-22  Shipped   \n",
       "245        10345  2004-11-25   2004-12-01  2004-11-26  Shipped   \n",
       "198        10298  2004-09-27   2004-10-05  2004-10-01  Shipped   \n",
       "24         10124  2003-05-21   2003-05-29  2003-05-25  Shipped   \n",
       "246        10346  2004-11-29   2004-12-05  2004-11-30  Shipped   \n",
       "\n",
       "                                              comments  customerNumber  \n",
       "23                                                 NaN             103  \n",
       "245                                                NaN             103  \n",
       "198                                                NaN             103  \n",
       "24   Customer very concerned about the exact color ...             112  \n",
       "246                                                NaN             112  "
      ]
     },
     "metadata": {},
     "output_type": "display_data"
    },
    {
     "name": "stdout",
     "output_type": "stream",
     "text": [
      "========== order_details_df 정보 ==========\n",
      "(2996, 5)\n"
     ]
    },
    {
     "data": {
      "text/html": [
       "<div>\n",
       "<style scoped>\n",
       "    .dataframe tbody tr th:only-of-type {\n",
       "        vertical-align: middle;\n",
       "    }\n",
       "\n",
       "    .dataframe tbody tr th {\n",
       "        vertical-align: top;\n",
       "    }\n",
       "\n",
       "    .dataframe thead th {\n",
       "        text-align: right;\n",
       "    }\n",
       "</style>\n",
       "<table border=\"1\" class=\"dataframe\">\n",
       "  <thead>\n",
       "    <tr style=\"text-align: right;\">\n",
       "      <th></th>\n",
       "      <th>orderNumber</th>\n",
       "      <th>productCode</th>\n",
       "      <th>quantityOrdered</th>\n",
       "      <th>priceEach</th>\n",
       "      <th>orderLineNumber</th>\n",
       "    </tr>\n",
       "  </thead>\n",
       "  <tbody>\n",
       "    <tr>\n",
       "      <th>0</th>\n",
       "      <td>10100</td>\n",
       "      <td>S18_1749</td>\n",
       "      <td>30</td>\n",
       "      <td>136.00</td>\n",
       "      <td>3</td>\n",
       "    </tr>\n",
       "    <tr>\n",
       "      <th>1</th>\n",
       "      <td>10100</td>\n",
       "      <td>S18_2248</td>\n",
       "      <td>50</td>\n",
       "      <td>55.09</td>\n",
       "      <td>2</td>\n",
       "    </tr>\n",
       "    <tr>\n",
       "      <th>2</th>\n",
       "      <td>10100</td>\n",
       "      <td>S18_4409</td>\n",
       "      <td>22</td>\n",
       "      <td>75.46</td>\n",
       "      <td>4</td>\n",
       "    </tr>\n",
       "    <tr>\n",
       "      <th>3</th>\n",
       "      <td>10100</td>\n",
       "      <td>S24_3969</td>\n",
       "      <td>49</td>\n",
       "      <td>35.29</td>\n",
       "      <td>1</td>\n",
       "    </tr>\n",
       "    <tr>\n",
       "      <th>4</th>\n",
       "      <td>10101</td>\n",
       "      <td>S18_2325</td>\n",
       "      <td>25</td>\n",
       "      <td>108.06</td>\n",
       "      <td>4</td>\n",
       "    </tr>\n",
       "  </tbody>\n",
       "</table>\n",
       "</div>"
      ],
      "text/plain": [
       "   orderNumber productCode  quantityOrdered  priceEach  orderLineNumber\n",
       "0        10100    S18_1749               30     136.00                3\n",
       "1        10100    S18_2248               50      55.09                2\n",
       "2        10100    S18_4409               22      75.46                4\n",
       "3        10100    S24_3969               49      35.29                1\n",
       "4        10101    S18_2325               25     108.06                4"
      ]
     },
     "metadata": {},
     "output_type": "display_data"
    }
   ],
   "source": [
    "import pandas as pd\n",
    "customers_df = pd.read_csv('./data_과제/sampledatabase/customers.csv')\n",
    "orders_df = pd.read_csv('./data_과제/sampledatabase/orders.csv')\n",
    "order_details_df = pd.read_csv('./data_과제/sampledatabase/orderdetails.csv')\n",
    "\n",
    "print('========== customers_df 정보 ==========')\n",
    "print(customers_df.shape)\n",
    "display(customers_df.head())\n",
    "\n",
    "print('========== orders_df 정보 ==========')\n",
    "print(orders_df.shape)\n",
    "display(orders_df.sort_values(by='customerNumber', ascending=True).head())\n",
    "\n",
    "print('========== order_details_df 정보 ==========')\n",
    "print(order_details_df.shape)\n",
    "display(order_details_df.head())"
   ]
  },
  {
   "cell_type": "markdown",
   "metadata": {
    "id": "PdVNStt8Ay2g"
   },
   "source": [
    "<img src=\"./참고이미지/Q6/Q6_1.png\" width=\"80%\">"
   ]
  },
  {
   "cell_type": "markdown",
   "metadata": {
    "id": "aEwyik3wAy2g"
   },
   "source": [
    "<b>코드 Cell 설명</b>\n",
    "- orderdetails 데이터에서 total_order_value 컬럼을 추가 및 집계를 수행합니다.\n",
    "    - total_order_value = quantityOrdered * priceEach로 계산합니다.\n",
    "    - total_order_values는 총 주문금액을 의미합니다.\n",
    "    - 집계 연산을 수행하여 orderNumber별로 total_order_value 합계를 계산합니다."
   ]
  },
  {
   "cell_type": "code",
   "execution_count": 2,
   "metadata": {
    "id": "RjyNpTS4Ay2h"
   },
   "outputs": [
    {
     "name": "stdout",
     "output_type": "stream",
     "text": [
      "(2996, 4)\n"
     ]
    },
    {
     "data": {
      "text/html": [
       "<div>\n",
       "<style scoped>\n",
       "    .dataframe tbody tr th:only-of-type {\n",
       "        vertical-align: middle;\n",
       "    }\n",
       "\n",
       "    .dataframe tbody tr th {\n",
       "        vertical-align: top;\n",
       "    }\n",
       "\n",
       "    .dataframe thead th {\n",
       "        text-align: right;\n",
       "    }\n",
       "</style>\n",
       "<table border=\"1\" class=\"dataframe\">\n",
       "  <thead>\n",
       "    <tr style=\"text-align: right;\">\n",
       "      <th></th>\n",
       "      <th>orderNumber</th>\n",
       "      <th>quantityOrdered</th>\n",
       "      <th>priceEach</th>\n",
       "      <th>total_order_value</th>\n",
       "    </tr>\n",
       "  </thead>\n",
       "  <tbody>\n",
       "    <tr>\n",
       "      <th>0</th>\n",
       "      <td>10100</td>\n",
       "      <td>30</td>\n",
       "      <td>136.00</td>\n",
       "      <td>4080.00</td>\n",
       "    </tr>\n",
       "    <tr>\n",
       "      <th>1</th>\n",
       "      <td>10100</td>\n",
       "      <td>50</td>\n",
       "      <td>55.09</td>\n",
       "      <td>2754.50</td>\n",
       "    </tr>\n",
       "    <tr>\n",
       "      <th>2</th>\n",
       "      <td>10100</td>\n",
       "      <td>22</td>\n",
       "      <td>75.46</td>\n",
       "      <td>1660.12</td>\n",
       "    </tr>\n",
       "    <tr>\n",
       "      <th>3</th>\n",
       "      <td>10100</td>\n",
       "      <td>49</td>\n",
       "      <td>35.29</td>\n",
       "      <td>1729.21</td>\n",
       "    </tr>\n",
       "    <tr>\n",
       "      <th>4</th>\n",
       "      <td>10101</td>\n",
       "      <td>25</td>\n",
       "      <td>108.06</td>\n",
       "      <td>2701.50</td>\n",
       "    </tr>\n",
       "  </tbody>\n",
       "</table>\n",
       "</div>"
      ],
      "text/plain": [
       "   orderNumber  quantityOrdered  priceEach  total_order_value\n",
       "0        10100               30     136.00            4080.00\n",
       "1        10100               50      55.09            2754.50\n",
       "2        10100               22      75.46            1660.12\n",
       "3        10100               49      35.29            1729.21\n",
       "4        10101               25     108.06            2701.50"
      ]
     },
     "metadata": {},
     "output_type": "display_data"
    },
    {
     "name": "stdout",
     "output_type": "stream",
     "text": [
      "(326, 2)\n"
     ]
    },
    {
     "data": {
      "text/html": [
       "<div>\n",
       "<style scoped>\n",
       "    .dataframe tbody tr th:only-of-type {\n",
       "        vertical-align: middle;\n",
       "    }\n",
       "\n",
       "    .dataframe tbody tr th {\n",
       "        vertical-align: top;\n",
       "    }\n",
       "\n",
       "    .dataframe thead th {\n",
       "        text-align: right;\n",
       "    }\n",
       "</style>\n",
       "<table border=\"1\" class=\"dataframe\">\n",
       "  <thead>\n",
       "    <tr style=\"text-align: right;\">\n",
       "      <th></th>\n",
       "      <th>orderNumber</th>\n",
       "      <th>total_order_value</th>\n",
       "    </tr>\n",
       "  </thead>\n",
       "  <tbody>\n",
       "    <tr>\n",
       "      <th>0</th>\n",
       "      <td>10100</td>\n",
       "      <td>10223.83</td>\n",
       "    </tr>\n",
       "    <tr>\n",
       "      <th>1</th>\n",
       "      <td>10101</td>\n",
       "      <td>10549.01</td>\n",
       "    </tr>\n",
       "    <tr>\n",
       "      <th>2</th>\n",
       "      <td>10102</td>\n",
       "      <td>5494.78</td>\n",
       "    </tr>\n",
       "    <tr>\n",
       "      <th>3</th>\n",
       "      <td>10103</td>\n",
       "      <td>50218.95</td>\n",
       "    </tr>\n",
       "    <tr>\n",
       "      <th>4</th>\n",
       "      <td>10104</td>\n",
       "      <td>40206.20</td>\n",
       "    </tr>\n",
       "  </tbody>\n",
       "</table>\n",
       "</div>"
      ],
      "text/plain": [
       "   orderNumber  total_order_value\n",
       "0        10100           10223.83\n",
       "1        10101           10549.01\n",
       "2        10102            5494.78\n",
       "3        10103           50218.95\n",
       "4        10104           40206.20"
      ]
     },
     "metadata": {},
     "output_type": "display_data"
    }
   ],
   "source": [
    "order_details_df['total_order_value'] = order_details_df['quantityOrdered']*order_details_df['priceEach']\n",
    "total_order_df = order_details_df[['orderNumber', 'quantityOrdered', 'priceEach', 'total_order_value']]\n",
    "print(total_order_df.shape)\n",
    "display(total_order_df.head())\n",
    "\n",
    "total_order_new_df = total_order_df.groupby('orderNumber')['total_order_value'].sum().reset_index()\n",
    "print(total_order_new_df.shape)\n",
    "display(total_order_new_df.head())"
   ]
  },
  {
   "cell_type": "markdown",
   "metadata": {
    "id": "49SsyFizAy2h"
   },
   "source": [
    "<img src=\"./참고이미지/Q6/Q6_2.png\" width=\"30%\">"
   ]
  },
  {
   "cell_type": "markdown",
   "metadata": {
    "id": "Y4KdbZKtAy2h"
   },
   "source": [
    "<b>코드 Cell 설명</b>\n",
    "- orders_df 데이터에서 status == 'Shipped'인 데이터만 남깁니다."
   ]
  },
  {
   "cell_type": "code",
   "execution_count": 3,
   "metadata": {
    "id": "E8YoiLLlAy2h"
   },
   "outputs": [
    {
     "data": {
      "text/html": [
       "<div>\n",
       "<style scoped>\n",
       "    .dataframe tbody tr th:only-of-type {\n",
       "        vertical-align: middle;\n",
       "    }\n",
       "\n",
       "    .dataframe tbody tr th {\n",
       "        vertical-align: top;\n",
       "    }\n",
       "\n",
       "    .dataframe thead th {\n",
       "        text-align: right;\n",
       "    }\n",
       "</style>\n",
       "<table border=\"1\" class=\"dataframe\">\n",
       "  <thead>\n",
       "    <tr style=\"text-align: right;\">\n",
       "      <th></th>\n",
       "      <th>customerNumber</th>\n",
       "      <th>orderNumber</th>\n",
       "      <th>orderDate</th>\n",
       "      <th>status</th>\n",
       "    </tr>\n",
       "  </thead>\n",
       "  <tbody>\n",
       "    <tr>\n",
       "      <th>245</th>\n",
       "      <td>103</td>\n",
       "      <td>10345</td>\n",
       "      <td>2004-11-25</td>\n",
       "      <td>Shipped</td>\n",
       "    </tr>\n",
       "    <tr>\n",
       "      <th>198</th>\n",
       "      <td>103</td>\n",
       "      <td>10298</td>\n",
       "      <td>2004-09-27</td>\n",
       "      <td>Shipped</td>\n",
       "    </tr>\n",
       "    <tr>\n",
       "      <th>23</th>\n",
       "      <td>103</td>\n",
       "      <td>10123</td>\n",
       "      <td>2003-05-20</td>\n",
       "      <td>Shipped</td>\n",
       "    </tr>\n",
       "    <tr>\n",
       "      <th>246</th>\n",
       "      <td>112</td>\n",
       "      <td>10346</td>\n",
       "      <td>2004-11-29</td>\n",
       "      <td>Shipped</td>\n",
       "    </tr>\n",
       "    <tr>\n",
       "      <th>178</th>\n",
       "      <td>112</td>\n",
       "      <td>10278</td>\n",
       "      <td>2004-08-06</td>\n",
       "      <td>Shipped</td>\n",
       "    </tr>\n",
       "    <tr>\n",
       "      <th>...</th>\n",
       "      <td>...</td>\n",
       "      <td>...</td>\n",
       "      <td>...</td>\n",
       "      <td>...</td>\n",
       "    </tr>\n",
       "    <tr>\n",
       "      <th>107</th>\n",
       "      <td>495</td>\n",
       "      <td>10207</td>\n",
       "      <td>2003-12-09</td>\n",
       "      <td>Shipped</td>\n",
       "    </tr>\n",
       "    <tr>\n",
       "      <th>143</th>\n",
       "      <td>495</td>\n",
       "      <td>10243</td>\n",
       "      <td>2004-04-26</td>\n",
       "      <td>Shipped</td>\n",
       "    </tr>\n",
       "    <tr>\n",
       "      <th>299</th>\n",
       "      <td>496</td>\n",
       "      <td>10399</td>\n",
       "      <td>2005-04-01</td>\n",
       "      <td>Shipped</td>\n",
       "    </tr>\n",
       "    <tr>\n",
       "      <th>260</th>\n",
       "      <td>496</td>\n",
       "      <td>10360</td>\n",
       "      <td>2004-12-16</td>\n",
       "      <td>Shipped</td>\n",
       "    </tr>\n",
       "    <tr>\n",
       "      <th>38</th>\n",
       "      <td>496</td>\n",
       "      <td>10138</td>\n",
       "      <td>2003-07-07</td>\n",
       "      <td>Shipped</td>\n",
       "    </tr>\n",
       "  </tbody>\n",
       "</table>\n",
       "<p>303 rows × 4 columns</p>\n",
       "</div>"
      ],
      "text/plain": [
       "     customerNumber  orderNumber   orderDate   status\n",
       "245             103        10345  2004-11-25  Shipped\n",
       "198             103        10298  2004-09-27  Shipped\n",
       "23              103        10123  2003-05-20  Shipped\n",
       "246             112        10346  2004-11-29  Shipped\n",
       "178             112        10278  2004-08-06  Shipped\n",
       "..              ...          ...         ...      ...\n",
       "107             495        10207  2003-12-09  Shipped\n",
       "143             495        10243  2004-04-26  Shipped\n",
       "299             496        10399  2005-04-01  Shipped\n",
       "260             496        10360  2004-12-16  Shipped\n",
       "38              496        10138  2003-07-07  Shipped\n",
       "\n",
       "[303 rows x 4 columns]"
      ]
     },
     "metadata": {},
     "output_type": "display_data"
    }
   ],
   "source": [
    "shiped_df = orders_df[orders_df['status'] == 'Shipped']\n",
    "shiped_df = shiped_df[['customerNumber', 'orderNumber', 'orderDate', 'status']].sort_values(by='customerNumber')\n",
    "display(shiped_df)"
   ]
  },
  {
   "cell_type": "markdown",
   "metadata": {
    "id": "WXwlVF6BAy2h"
   },
   "source": [
    "<img src=\"./참고이미지/Q6/Q6_3.png\" width=\"30%\">"
   ]
  },
  {
   "cell_type": "markdown",
   "metadata": {
    "id": "gfnaFWUdAy2h"
   },
   "source": [
    "<b>코드 Cell 설명</b>\n",
    "- 위에서 전처리한 데이터를 결합합니다.\n",
    "- status = 'Shipped'인 orderNumber에 대한 total_order_value를 확인할 수 있습니다."
   ]
  },
  {
   "cell_type": "code",
   "execution_count": 4,
   "metadata": {
    "id": "5NtXB2oIAy2h"
   },
   "outputs": [
    {
     "name": "stdout",
     "output_type": "stream",
     "text": [
      "(303, 5)\n"
     ]
    },
    {
     "data": {
      "text/html": [
       "<div>\n",
       "<style scoped>\n",
       "    .dataframe tbody tr th:only-of-type {\n",
       "        vertical-align: middle;\n",
       "    }\n",
       "\n",
       "    .dataframe tbody tr th {\n",
       "        vertical-align: top;\n",
       "    }\n",
       "\n",
       "    .dataframe thead th {\n",
       "        text-align: right;\n",
       "    }\n",
       "</style>\n",
       "<table border=\"1\" class=\"dataframe\">\n",
       "  <thead>\n",
       "    <tr style=\"text-align: right;\">\n",
       "      <th></th>\n",
       "      <th>customerNumber</th>\n",
       "      <th>orderNumber</th>\n",
       "      <th>orderDate</th>\n",
       "      <th>status</th>\n",
       "      <th>total_order_value</th>\n",
       "    </tr>\n",
       "  </thead>\n",
       "  <tbody>\n",
       "    <tr>\n",
       "      <th>0</th>\n",
       "      <td>103</td>\n",
       "      <td>10345</td>\n",
       "      <td>2004-11-25</td>\n",
       "      <td>Shipped</td>\n",
       "      <td>1676.14</td>\n",
       "    </tr>\n",
       "    <tr>\n",
       "      <th>1</th>\n",
       "      <td>103</td>\n",
       "      <td>10298</td>\n",
       "      <td>2004-09-27</td>\n",
       "      <td>Shipped</td>\n",
       "      <td>6066.78</td>\n",
       "    </tr>\n",
       "    <tr>\n",
       "      <th>2</th>\n",
       "      <td>103</td>\n",
       "      <td>10123</td>\n",
       "      <td>2003-05-20</td>\n",
       "      <td>Shipped</td>\n",
       "      <td>14571.44</td>\n",
       "    </tr>\n",
       "    <tr>\n",
       "      <th>3</th>\n",
       "      <td>112</td>\n",
       "      <td>10346</td>\n",
       "      <td>2004-11-29</td>\n",
       "      <td>Shipped</td>\n",
       "      <td>14191.12</td>\n",
       "    </tr>\n",
       "    <tr>\n",
       "      <th>4</th>\n",
       "      <td>112</td>\n",
       "      <td>10278</td>\n",
       "      <td>2004-08-06</td>\n",
       "      <td>Shipped</td>\n",
       "      <td>33347.88</td>\n",
       "    </tr>\n",
       "  </tbody>\n",
       "</table>\n",
       "</div>"
      ],
      "text/plain": [
       "   customerNumber  orderNumber   orderDate   status  total_order_value\n",
       "0             103        10345  2004-11-25  Shipped            1676.14\n",
       "1             103        10298  2004-09-27  Shipped            6066.78\n",
       "2             103        10123  2003-05-20  Shipped           14571.44\n",
       "3             112        10346  2004-11-29  Shipped           14191.12\n",
       "4             112        10278  2004-08-06  Shipped           33347.88"
      ]
     },
     "metadata": {},
     "output_type": "display_data"
    }
   ],
   "source": [
    "order_merged_df = shiped_df.merge(total_order_new_df, left_on='orderNumber', right_on='orderNumber', how='left')\n",
    "print(order_merged_df.shape)\n",
    "display(order_merged_df.head())"
   ]
  },
  {
   "cell_type": "markdown",
   "metadata": {
    "id": "Ht2YGVXMAy2h"
   },
   "source": [
    "<img src=\"./참고이미지/Q6/Q6_4.png\" width=\"40%\">"
   ]
  },
  {
   "cell_type": "markdown",
   "metadata": {
    "id": "DOtEAMbeAy2h"
   },
   "source": [
    "<b>Cell 설명</b>\n",
    "- customers에 대한 데이터입니다.\n",
    "- 전처리를 통하여 country가 USA인 customer만 남깁니다."
   ]
  },
  {
   "cell_type": "code",
   "execution_count": 11,
   "metadata": {
    "id": "l7_L8MAeAy2h"
   },
   "outputs": [
    {
     "name": "stdout",
     "output_type": "stream",
     "text": [
      "========== customers 데이터입니다. ==========\n",
      "(122, 2)\n"
     ]
    },
    {
     "data": {
      "text/html": [
       "<div>\n",
       "<style scoped>\n",
       "    .dataframe tbody tr th:only-of-type {\n",
       "        vertical-align: middle;\n",
       "    }\n",
       "\n",
       "    .dataframe tbody tr th {\n",
       "        vertical-align: top;\n",
       "    }\n",
       "\n",
       "    .dataframe thead th {\n",
       "        text-align: right;\n",
       "    }\n",
       "</style>\n",
       "<table border=\"1\" class=\"dataframe\">\n",
       "  <thead>\n",
       "    <tr style=\"text-align: right;\">\n",
       "      <th></th>\n",
       "      <th>customerNumber</th>\n",
       "      <th>country</th>\n",
       "    </tr>\n",
       "  </thead>\n",
       "  <tbody>\n",
       "    <tr>\n",
       "      <th>0</th>\n",
       "      <td>103</td>\n",
       "      <td>France</td>\n",
       "    </tr>\n",
       "    <tr>\n",
       "      <th>1</th>\n",
       "      <td>112</td>\n",
       "      <td>USA</td>\n",
       "    </tr>\n",
       "    <tr>\n",
       "      <th>2</th>\n",
       "      <td>114</td>\n",
       "      <td>Australia</td>\n",
       "    </tr>\n",
       "    <tr>\n",
       "      <th>3</th>\n",
       "      <td>119</td>\n",
       "      <td>France</td>\n",
       "    </tr>\n",
       "    <tr>\n",
       "      <th>4</th>\n",
       "      <td>121</td>\n",
       "      <td>Norway</td>\n",
       "    </tr>\n",
       "  </tbody>\n",
       "</table>\n",
       "</div>"
      ],
      "text/plain": [
       "   customerNumber    country\n",
       "0             103     France\n",
       "1             112        USA\n",
       "2             114  Australia\n",
       "3             119     France\n",
       "4             121     Norway"
      ]
     },
     "metadata": {},
     "output_type": "display_data"
    },
    {
     "name": "stdout",
     "output_type": "stream",
     "text": [
      "========== country에서 USA만 남긴 상태입니다. ==========\n",
      "(36, 2)\n"
     ]
    },
    {
     "data": {
      "text/html": [
       "<div>\n",
       "<style scoped>\n",
       "    .dataframe tbody tr th:only-of-type {\n",
       "        vertical-align: middle;\n",
       "    }\n",
       "\n",
       "    .dataframe tbody tr th {\n",
       "        vertical-align: top;\n",
       "    }\n",
       "\n",
       "    .dataframe thead th {\n",
       "        text-align: right;\n",
       "    }\n",
       "</style>\n",
       "<table border=\"1\" class=\"dataframe\">\n",
       "  <thead>\n",
       "    <tr style=\"text-align: right;\">\n",
       "      <th></th>\n",
       "      <th>customerNumber</th>\n",
       "      <th>country</th>\n",
       "    </tr>\n",
       "  </thead>\n",
       "  <tbody>\n",
       "    <tr>\n",
       "      <th>1</th>\n",
       "      <td>112</td>\n",
       "      <td>USA</td>\n",
       "    </tr>\n",
       "    <tr>\n",
       "      <th>5</th>\n",
       "      <td>124</td>\n",
       "      <td>USA</td>\n",
       "    </tr>\n",
       "    <tr>\n",
       "      <th>8</th>\n",
       "      <td>129</td>\n",
       "      <td>USA</td>\n",
       "    </tr>\n",
       "    <tr>\n",
       "      <th>9</th>\n",
       "      <td>131</td>\n",
       "      <td>USA</td>\n",
       "    </tr>\n",
       "    <tr>\n",
       "      <th>15</th>\n",
       "      <td>151</td>\n",
       "      <td>USA</td>\n",
       "    </tr>\n",
       "  </tbody>\n",
       "</table>\n",
       "</div>"
      ],
      "text/plain": [
       "    customerNumber country\n",
       "1              112     USA\n",
       "5              124     USA\n",
       "8              129     USA\n",
       "9              131     USA\n",
       "15             151     USA"
      ]
     },
     "metadata": {},
     "output_type": "display_data"
    }
   ],
   "source": [
    "customers_country_df = customers_df[['customerNumber', 'country']]\n",
    "print(\"=\"*10, 'customers 데이터입니다.', \"=\"*10)\n",
    "print(customers_country_df.shape)\n",
    "display(customers_country_df.head())\n",
    "\n",
    "customers_usa_df = customers_country_df.loc[customers_country_df['country'] == 'USA']\n",
    "print(\"=\"*10, 'country에서 USA만 남긴 상태입니다.', \"=\"*10)\n",
    "print(customers_usa_df.shape)\n",
    "display(customers_usa_df.head())"
   ]
  },
  {
   "cell_type": "markdown",
   "metadata": {
    "id": "eOderRoVAy2i"
   },
   "source": [
    "<img src=\"./참고이미지/Q6/Q6_5.png\" width=\"40%\">"
   ]
  },
  {
   "cell_type": "markdown",
   "metadata": {
    "id": "Qx02u6g9Ay2i"
   },
   "source": [
    "<b>Cell 설명</b>\n",
    "- 전처리 데이터들을 결합합니다.\n",
    "- 최종적으로, 주문상태는 'Shipped', customer의 country는 USA, 주문별 total_order_value 정보를 포함한 데이터가 만들어집니다."
   ]
  },
  {
   "cell_type": "code",
   "execution_count": 7,
   "metadata": {
    "id": "Bwowltv7Ay2i"
   },
   "outputs": [
    {
     "name": "stdout",
     "output_type": "stream",
     "text": [
      "(105, 6)\n"
     ]
    },
    {
     "data": {
      "text/html": [
       "<div>\n",
       "<style scoped>\n",
       "    .dataframe tbody tr th:only-of-type {\n",
       "        vertical-align: middle;\n",
       "    }\n",
       "\n",
       "    .dataframe tbody tr th {\n",
       "        vertical-align: top;\n",
       "    }\n",
       "\n",
       "    .dataframe thead th {\n",
       "        text-align: right;\n",
       "    }\n",
       "</style>\n",
       "<table border=\"1\" class=\"dataframe\">\n",
       "  <thead>\n",
       "    <tr style=\"text-align: right;\">\n",
       "      <th></th>\n",
       "      <th>customerNumber</th>\n",
       "      <th>orderNumber</th>\n",
       "      <th>orderDate</th>\n",
       "      <th>status</th>\n",
       "      <th>total_order_value</th>\n",
       "      <th>country</th>\n",
       "    </tr>\n",
       "  </thead>\n",
       "  <tbody>\n",
       "    <tr>\n",
       "      <th>0</th>\n",
       "      <td>112</td>\n",
       "      <td>10346</td>\n",
       "      <td>2004-11-29</td>\n",
       "      <td>Shipped</td>\n",
       "      <td>14191.12</td>\n",
       "      <td>USA</td>\n",
       "    </tr>\n",
       "    <tr>\n",
       "      <th>1</th>\n",
       "      <td>112</td>\n",
       "      <td>10278</td>\n",
       "      <td>2004-08-06</td>\n",
       "      <td>Shipped</td>\n",
       "      <td>33347.88</td>\n",
       "      <td>USA</td>\n",
       "    </tr>\n",
       "    <tr>\n",
       "      <th>2</th>\n",
       "      <td>112</td>\n",
       "      <td>10124</td>\n",
       "      <td>2003-05-21</td>\n",
       "      <td>Shipped</td>\n",
       "      <td>32641.98</td>\n",
       "      <td>USA</td>\n",
       "    </tr>\n",
       "    <tr>\n",
       "      <th>3</th>\n",
       "      <td>124</td>\n",
       "      <td>10229</td>\n",
       "      <td>2004-03-11</td>\n",
       "      <td>Shipped</td>\n",
       "      <td>43369.30</td>\n",
       "      <td>USA</td>\n",
       "    </tr>\n",
       "    <tr>\n",
       "      <th>4</th>\n",
       "      <td>124</td>\n",
       "      <td>10357</td>\n",
       "      <td>2004-12-10</td>\n",
       "      <td>Shipped</td>\n",
       "      <td>40676.26</td>\n",
       "      <td>USA</td>\n",
       "    </tr>\n",
       "  </tbody>\n",
       "</table>\n",
       "</div>"
      ],
      "text/plain": [
       "   customerNumber  orderNumber   orderDate   status  total_order_value country\n",
       "0             112        10346  2004-11-29  Shipped           14191.12     USA\n",
       "1             112        10278  2004-08-06  Shipped           33347.88     USA\n",
       "2             112        10124  2003-05-21  Shipped           32641.98     USA\n",
       "3             124        10229  2004-03-11  Shipped           43369.30     USA\n",
       "4             124        10357  2004-12-10  Shipped           40676.26     USA"
      ]
     },
     "metadata": {},
     "output_type": "display_data"
    }
   ],
   "source": [
    "customer_merged_df = order_merged_df.merge(customers_usa_df, left_on='customerNumber', right_on='customerNumber', how='left').dropna().reset_index(drop=True)\n",
    "print(customer_merged_df.shape)\n",
    "display(customer_merged_df.head())"
   ]
  },
  {
   "cell_type": "markdown",
   "metadata": {
    "id": "wvb7jOpKAy2i"
   },
   "source": [
    "<img src=\"./참고이미지/Q6/Q6_6.png\" width=\"45%\">"
   ]
  },
  {
   "cell_type": "markdown",
   "metadata": {
    "id": "6NTgN58hAy2i"
   },
   "source": [
    "<b>최종 결과</b>\n",
    "- customerNumber 별로 총주문금액의 최대, 최소, 최대값과 최소값의 차이를 나타냅니다.\n",
    "- 해당 결과를 최대값과 최소값의 차이를 기준으로 내림차순으로 정렬한 이후에, 순위를 부여합니다."
   ]
  },
  {
   "cell_type": "code",
   "execution_count": 10,
   "metadata": {
    "id": "Z7kFG4Y0Ay2i"
   },
   "outputs": [
    {
     "name": "stdout",
     "output_type": "stream",
     "text": [
      "(20, 5)\n"
     ]
    },
    {
     "data": {
      "text/html": [
       "<div>\n",
       "<style scoped>\n",
       "    .dataframe tbody tr th:only-of-type {\n",
       "        vertical-align: middle;\n",
       "    }\n",
       "\n",
       "    .dataframe tbody tr th {\n",
       "        vertical-align: top;\n",
       "    }\n",
       "\n",
       "    .dataframe thead th {\n",
       "        text-align: right;\n",
       "    }\n",
       "</style>\n",
       "<table border=\"1\" class=\"dataframe\">\n",
       "  <thead>\n",
       "    <tr style=\"text-align: right;\">\n",
       "      <th></th>\n",
       "      <th>RANK</th>\n",
       "      <th>customerNumber</th>\n",
       "      <th>order_value_max</th>\n",
       "      <th>order_value_min</th>\n",
       "      <th>order_value_diff</th>\n",
       "    </tr>\n",
       "  </thead>\n",
       "  <tbody>\n",
       "    <tr>\n",
       "      <th>0</th>\n",
       "      <td>1</td>\n",
       "      <td>495</td>\n",
       "      <td>59265.14</td>\n",
       "      <td>6276.60</td>\n",
       "      <td>52988.54</td>\n",
       "    </tr>\n",
       "    <tr>\n",
       "      <th>1</th>\n",
       "      <td>2</td>\n",
       "      <td>124</td>\n",
       "      <td>56052.56</td>\n",
       "      <td>4466.71</td>\n",
       "      <td>51585.85</td>\n",
       "    </tr>\n",
       "    <tr>\n",
       "      <th>2</th>\n",
       "      <td>3</td>\n",
       "      <td>161</td>\n",
       "      <td>50743.65</td>\n",
       "      <td>2434.25</td>\n",
       "      <td>48309.40</td>\n",
       "    </tr>\n",
       "    <tr>\n",
       "      <th>3</th>\n",
       "      <td>4</td>\n",
       "      <td>204</td>\n",
       "      <td>51152.86</td>\n",
       "      <td>4424.40</td>\n",
       "      <td>46728.46</td>\n",
       "    </tr>\n",
       "    <tr>\n",
       "      <th>4</th>\n",
       "      <td>5</td>\n",
       "      <td>205</td>\n",
       "      <td>50342.74</td>\n",
       "      <td>3879.96</td>\n",
       "      <td>46462.78</td>\n",
       "    </tr>\n",
       "    <tr>\n",
       "      <th>5</th>\n",
       "      <td>6</td>\n",
       "      <td>363</td>\n",
       "      <td>55425.77</td>\n",
       "      <td>10223.83</td>\n",
       "      <td>45201.94</td>\n",
       "    </tr>\n",
       "    <tr>\n",
       "      <th>6</th>\n",
       "      <td>7</td>\n",
       "      <td>320</td>\n",
       "      <td>52548.49</td>\n",
       "      <td>8307.28</td>\n",
       "      <td>44241.21</td>\n",
       "    </tr>\n",
       "    <tr>\n",
       "      <th>7</th>\n",
       "      <td>8</td>\n",
       "      <td>321</td>\n",
       "      <td>54682.68</td>\n",
       "      <td>14155.57</td>\n",
       "      <td>40527.11</td>\n",
       "    </tr>\n",
       "    <tr>\n",
       "      <th>8</th>\n",
       "      <td>9</td>\n",
       "      <td>486</td>\n",
       "      <td>45994.07</td>\n",
       "      <td>5899.38</td>\n",
       "      <td>40094.69</td>\n",
       "    </tr>\n",
       "    <tr>\n",
       "      <th>9</th>\n",
       "      <td>10</td>\n",
       "      <td>181</td>\n",
       "      <td>44400.50</td>\n",
       "      <td>5494.78</td>\n",
       "      <td>38905.72</td>\n",
       "    </tr>\n",
       "    <tr>\n",
       "      <th>10</th>\n",
       "      <td>11</td>\n",
       "      <td>151</td>\n",
       "      <td>58841.35</td>\n",
       "      <td>20314.44</td>\n",
       "      <td>38526.91</td>\n",
       "    </tr>\n",
       "    <tr>\n",
       "      <th>11</th>\n",
       "      <td>12</td>\n",
       "      <td>462</td>\n",
       "      <td>48355.87</td>\n",
       "      <td>9977.85</td>\n",
       "      <td>38378.02</td>\n",
       "    </tr>\n",
       "    <tr>\n",
       "      <th>12</th>\n",
       "      <td>13</td>\n",
       "      <td>239</td>\n",
       "      <td>56822.65</td>\n",
       "      <td>23552.59</td>\n",
       "      <td>33270.06</td>\n",
       "    </tr>\n",
       "    <tr>\n",
       "      <th>13</th>\n",
       "      <td>14</td>\n",
       "      <td>475</td>\n",
       "      <td>36070.47</td>\n",
       "      <td>7678.25</td>\n",
       "      <td>28392.22</td>\n",
       "    </tr>\n",
       "    <tr>\n",
       "      <th>14</th>\n",
       "      <td>15</td>\n",
       "      <td>131</td>\n",
       "      <td>50025.35</td>\n",
       "      <td>22292.62</td>\n",
       "      <td>27732.73</td>\n",
       "    </tr>\n",
       "    <tr>\n",
       "      <th>15</th>\n",
       "      <td>16</td>\n",
       "      <td>450</td>\n",
       "      <td>42798.08</td>\n",
       "      <td>16753.30</td>\n",
       "      <td>26044.78</td>\n",
       "    </tr>\n",
       "    <tr>\n",
       "      <th>16</th>\n",
       "      <td>17</td>\n",
       "      <td>456</td>\n",
       "      <td>27550.51</td>\n",
       "      <td>1679.92</td>\n",
       "      <td>25870.59</td>\n",
       "    </tr>\n",
       "    <tr>\n",
       "      <th>17</th>\n",
       "      <td>18</td>\n",
       "      <td>328</td>\n",
       "      <td>31102.85</td>\n",
       "      <td>7178.66</td>\n",
       "      <td>23924.19</td>\n",
       "    </tr>\n",
       "    <tr>\n",
       "      <th>18</th>\n",
       "      <td>19</td>\n",
       "      <td>379</td>\n",
       "      <td>32680.31</td>\n",
       "      <td>12530.51</td>\n",
       "      <td>20149.80</td>\n",
       "    </tr>\n",
       "    <tr>\n",
       "      <th>19</th>\n",
       "      <td>20</td>\n",
       "      <td>447</td>\n",
       "      <td>26304.13</td>\n",
       "      <td>6631.36</td>\n",
       "      <td>19672.77</td>\n",
       "    </tr>\n",
       "  </tbody>\n",
       "</table>\n",
       "</div>"
      ],
      "text/plain": [
       "    RANK  customerNumber  order_value_max  order_value_min  order_value_diff\n",
       "0      1             495         59265.14          6276.60          52988.54\n",
       "1      2             124         56052.56          4466.71          51585.85\n",
       "2      3             161         50743.65          2434.25          48309.40\n",
       "3      4             204         51152.86          4424.40          46728.46\n",
       "4      5             205         50342.74          3879.96          46462.78\n",
       "5      6             363         55425.77         10223.83          45201.94\n",
       "6      7             320         52548.49          8307.28          44241.21\n",
       "7      8             321         54682.68         14155.57          40527.11\n",
       "8      9             486         45994.07          5899.38          40094.69\n",
       "9     10             181         44400.50          5494.78          38905.72\n",
       "10    11             151         58841.35         20314.44          38526.91\n",
       "11    12             462         48355.87          9977.85          38378.02\n",
       "12    13             239         56822.65         23552.59          33270.06\n",
       "13    14             475         36070.47          7678.25          28392.22\n",
       "14    15             131         50025.35         22292.62          27732.73\n",
       "15    16             450         42798.08         16753.30          26044.78\n",
       "16    17             456         27550.51          1679.92          25870.59\n",
       "17    18             328         31102.85          7178.66          23924.19\n",
       "18    19             379         32680.31         12530.51          20149.80\n",
       "19    20             447         26304.13          6631.36          19672.77"
      ]
     },
     "metadata": {},
     "output_type": "display_data"
    }
   ],
   "source": [
    "customer_merged_new_df = customer_merged_df.groupby('customerNumber')['total_order_value'].agg([max, min]).reset_index()\n",
    "customer_merged_new_df['diff'] = customer_merged_new_df['max'] - customer_merged_new_df['min']\n",
    "customer_merged_new_df['RANK'] = customer_merged_new_df['diff'].rank(ascending=False).astype(int)\n",
    "\n",
    "customer_result = customer_merged_new_df.sort_values('RANK').reset_index(drop=True)\n",
    "customer_result = customer_result[['RANK', 'customerNumber', 'max', 'min', 'diff']].iloc[:20]\n",
    "customer_result.columns = ['RANK', 'customerNumber', 'order_value_max', 'order_value_min', 'order_value_diff']\n",
    "\n",
    "print(customer_result.shape)\n",
    "display(customer_result)"
   ]
  },
  {
   "cell_type": "markdown",
   "metadata": {
    "id": "Ajb_mfTaAy2i"
   },
   "source": [
    "<img src=\"./참고이미지/Q6/Q6_7.png\" width=\"40%\">"
   ]
  },
  {
   "cell_type": "markdown",
   "metadata": {
    "id": "6otA6ufvAy2i"
   },
   "source": [
    "# Q7. 데이터 전처리 - Python MySQL"
   ]
  },
  {
   "cell_type": "markdown",
   "metadata": {
    "id": "em1dJPrkAy2i"
   },
   "source": [
    "<b>참고 사항</b>\n",
    "- 반드시, 하나의 쿼리문을 통해 동일한 결과를 도출해야 합니다.\n",
    "- 쿼리를 두 번에 나누어서 적용할 경우, 오답으로 처리될 수 있습니다."
   ]
  },
  {
   "cell_type": "code",
   "execution_count": null,
   "metadata": {
    "id": "asqAC_20Ay2i"
   },
   "outputs": [],
   "source": [
    "import mysql.connector\n",
    "\n",
    "# MySQL 데이터베이스 연결 설정\n",
    "conn = mysql.connector.connect(\n",
    "    host='localhost',\n",
    "    user='root', \n",
    "    password='bc4129', \n",
    "    database='classicmodels' \n",
    ")"
   ]
  },
  {
   "cell_type": "markdown",
   "metadata": {
    "id": "JqLNwsSiAy2j"
   },
   "source": [
    "<b>쿼리문 작성 Cell</b>\n",
    "- 설명\n",
    "    - 쿼리문을 작성하여 결과를 출력해주세요.\n",
    "\n",
    "- 참고사항\n",
    "    - 해당 셀에서는 반드시 하나의 쿼리문만 작성되어야 하며 데이터 출력 결과를 위해 별도의 쿼리 혹은 코드가 추가된 경우 오답으로 처리될 수 있습니다."
   ]
  },
  {
   "cell_type": "code",
   "execution_count": 88,
   "metadata": {
    "id": "JgWZZ_LTAy2j"
   },
   "outputs": [
    {
     "data": {
      "text/html": [
       "<div>\n",
       "<style scoped>\n",
       "    .dataframe tbody tr th:only-of-type {\n",
       "        vertical-align: middle;\n",
       "    }\n",
       "\n",
       "    .dataframe tbody tr th {\n",
       "        vertical-align: top;\n",
       "    }\n",
       "\n",
       "    .dataframe thead th {\n",
       "        text-align: right;\n",
       "    }\n",
       "</style>\n",
       "<table border=\"1\" class=\"dataframe\">\n",
       "  <thead>\n",
       "    <tr style=\"text-align: right;\">\n",
       "      <th></th>\n",
       "      <th>RANK</th>\n",
       "      <th>customerNumber</th>\n",
       "      <th>order_value_max</th>\n",
       "      <th>order_value_min</th>\n",
       "      <th>order_value_diff</th>\n",
       "    </tr>\n",
       "  </thead>\n",
       "  <tbody>\n",
       "    <tr>\n",
       "      <th>0</th>\n",
       "      <td>1</td>\n",
       "      <td>495</td>\n",
       "      <td>59265.14</td>\n",
       "      <td>6276.60</td>\n",
       "      <td>52988.54</td>\n",
       "    </tr>\n",
       "    <tr>\n",
       "      <th>1</th>\n",
       "      <td>2</td>\n",
       "      <td>124</td>\n",
       "      <td>56052.56</td>\n",
       "      <td>4466.71</td>\n",
       "      <td>51585.85</td>\n",
       "    </tr>\n",
       "    <tr>\n",
       "      <th>2</th>\n",
       "      <td>3</td>\n",
       "      <td>161</td>\n",
       "      <td>50743.65</td>\n",
       "      <td>2434.25</td>\n",
       "      <td>48309.40</td>\n",
       "    </tr>\n",
       "    <tr>\n",
       "      <th>3</th>\n",
       "      <td>4</td>\n",
       "      <td>204</td>\n",
       "      <td>51152.86</td>\n",
       "      <td>4424.40</td>\n",
       "      <td>46728.46</td>\n",
       "    </tr>\n",
       "    <tr>\n",
       "      <th>4</th>\n",
       "      <td>5</td>\n",
       "      <td>205</td>\n",
       "      <td>50342.74</td>\n",
       "      <td>3879.96</td>\n",
       "      <td>46462.78</td>\n",
       "    </tr>\n",
       "    <tr>\n",
       "      <th>5</th>\n",
       "      <td>6</td>\n",
       "      <td>363</td>\n",
       "      <td>55425.77</td>\n",
       "      <td>10223.83</td>\n",
       "      <td>45201.94</td>\n",
       "    </tr>\n",
       "    <tr>\n",
       "      <th>6</th>\n",
       "      <td>7</td>\n",
       "      <td>320</td>\n",
       "      <td>52548.49</td>\n",
       "      <td>8307.28</td>\n",
       "      <td>44241.21</td>\n",
       "    </tr>\n",
       "    <tr>\n",
       "      <th>7</th>\n",
       "      <td>8</td>\n",
       "      <td>321</td>\n",
       "      <td>54682.68</td>\n",
       "      <td>14155.57</td>\n",
       "      <td>40527.11</td>\n",
       "    </tr>\n",
       "    <tr>\n",
       "      <th>8</th>\n",
       "      <td>9</td>\n",
       "      <td>486</td>\n",
       "      <td>45994.07</td>\n",
       "      <td>5899.38</td>\n",
       "      <td>40094.69</td>\n",
       "    </tr>\n",
       "    <tr>\n",
       "      <th>9</th>\n",
       "      <td>10</td>\n",
       "      <td>181</td>\n",
       "      <td>44400.50</td>\n",
       "      <td>5494.78</td>\n",
       "      <td>38905.72</td>\n",
       "    </tr>\n",
       "    <tr>\n",
       "      <th>10</th>\n",
       "      <td>11</td>\n",
       "      <td>151</td>\n",
       "      <td>58841.35</td>\n",
       "      <td>20314.44</td>\n",
       "      <td>38526.91</td>\n",
       "    </tr>\n",
       "    <tr>\n",
       "      <th>11</th>\n",
       "      <td>12</td>\n",
       "      <td>462</td>\n",
       "      <td>48355.87</td>\n",
       "      <td>9977.85</td>\n",
       "      <td>38378.02</td>\n",
       "    </tr>\n",
       "    <tr>\n",
       "      <th>12</th>\n",
       "      <td>13</td>\n",
       "      <td>239</td>\n",
       "      <td>56822.65</td>\n",
       "      <td>23552.59</td>\n",
       "      <td>33270.06</td>\n",
       "    </tr>\n",
       "    <tr>\n",
       "      <th>13</th>\n",
       "      <td>14</td>\n",
       "      <td>475</td>\n",
       "      <td>36070.47</td>\n",
       "      <td>7678.25</td>\n",
       "      <td>28392.22</td>\n",
       "    </tr>\n",
       "    <tr>\n",
       "      <th>14</th>\n",
       "      <td>15</td>\n",
       "      <td>131</td>\n",
       "      <td>50025.35</td>\n",
       "      <td>22292.62</td>\n",
       "      <td>27732.73</td>\n",
       "    </tr>\n",
       "    <tr>\n",
       "      <th>15</th>\n",
       "      <td>16</td>\n",
       "      <td>450</td>\n",
       "      <td>42798.08</td>\n",
       "      <td>16753.30</td>\n",
       "      <td>26044.78</td>\n",
       "    </tr>\n",
       "    <tr>\n",
       "      <th>16</th>\n",
       "      <td>17</td>\n",
       "      <td>456</td>\n",
       "      <td>27550.51</td>\n",
       "      <td>1679.92</td>\n",
       "      <td>25870.59</td>\n",
       "    </tr>\n",
       "    <tr>\n",
       "      <th>17</th>\n",
       "      <td>18</td>\n",
       "      <td>328</td>\n",
       "      <td>31102.85</td>\n",
       "      <td>7178.66</td>\n",
       "      <td>23924.19</td>\n",
       "    </tr>\n",
       "    <tr>\n",
       "      <th>18</th>\n",
       "      <td>19</td>\n",
       "      <td>379</td>\n",
       "      <td>32680.31</td>\n",
       "      <td>12530.51</td>\n",
       "      <td>20149.80</td>\n",
       "    </tr>\n",
       "    <tr>\n",
       "      <th>19</th>\n",
       "      <td>20</td>\n",
       "      <td>447</td>\n",
       "      <td>26304.13</td>\n",
       "      <td>6631.36</td>\n",
       "      <td>19672.77</td>\n",
       "    </tr>\n",
       "  </tbody>\n",
       "</table>\n",
       "</div>"
      ],
      "text/plain": [
       "    RANK  customerNumber  order_value_max  order_value_min  order_value_diff\n",
       "0      1             495         59265.14          6276.60          52988.54\n",
       "1      2             124         56052.56          4466.71          51585.85\n",
       "2      3             161         50743.65          2434.25          48309.40\n",
       "3      4             204         51152.86          4424.40          46728.46\n",
       "4      5             205         50342.74          3879.96          46462.78\n",
       "5      6             363         55425.77         10223.83          45201.94\n",
       "6      7             320         52548.49          8307.28          44241.21\n",
       "7      8             321         54682.68         14155.57          40527.11\n",
       "8      9             486         45994.07          5899.38          40094.69\n",
       "9     10             181         44400.50          5494.78          38905.72\n",
       "10    11             151         58841.35         20314.44          38526.91\n",
       "11    12             462         48355.87          9977.85          38378.02\n",
       "12    13             239         56822.65         23552.59          33270.06\n",
       "13    14             475         36070.47          7678.25          28392.22\n",
       "14    15             131         50025.35         22292.62          27732.73\n",
       "15    16             450         42798.08         16753.30          26044.78\n",
       "16    17             456         27550.51          1679.92          25870.59\n",
       "17    18             328         31102.85          7178.66          23924.19\n",
       "18    19             379         32680.31         12530.51          20149.80\n",
       "19    20             447         26304.13          6631.36          19672.77"
      ]
     },
     "execution_count": 88,
     "metadata": {},
     "output_type": "execute_result"
    }
   ],
   "source": [
    "query = \"\"\"\n",
    "WITH Total_order AS (\n",
    "    SELECT\n",
    "        orderNumber,\n",
    "        SUM(quantityOrdered * priceEach) AS total_order_value\n",
    "    FROM\n",
    "        orderdetails\n",
    "    GROUP BY\n",
    "        orderNumber\n",
    "),\n",
    "\n",
    "Shipped_df AS (\n",
    "    SELECT\n",
    "        customerNumber,\n",
    "        orderNumber,\n",
    "        orderDate,\n",
    "        status\n",
    "    FROM\n",
    "        orders\n",
    "    WHERE\n",
    "        status = 'Shipped'\n",
    "),\n",
    "\n",
    "Customers_USA AS (\n",
    "    SELECT\n",
    "        customerNumber,\n",
    "        country\n",
    "    FROM\n",
    "        customers\n",
    "    WHERE\n",
    "        country = 'USA'\n",
    "),\n",
    "\n",
    "Customer_merged AS (\n",
    "    SELECT\n",
    "        T1.customerNumber,\n",
    "        T2.total_order_value\n",
    "    FROM\n",
    "        Shipped_df AS T1\n",
    "    JOIN\n",
    "        Total_order AS T2 ON T1.orderNumber = T2.orderNumber\n",
    "    JOIN\n",
    "        Customers_USA AS T3 ON T1.customerNumber = T3.customerNumber\n",
    "),\n",
    "\n",
    "Customer_diff AS (\n",
    "    SELECT\n",
    "        customerNumber,\n",
    "        MAX(total_order_value) AS order_value_max,\n",
    "        MIN(total_order_value) AS order_value_min,\n",
    "        MAX(total_order_value) - MIN(total_order_value) AS order_value_diff\n",
    "    FROM\n",
    "        Customer_merged\n",
    "    GROUP BY\n",
    "        customerNumber\n",
    ")\n",
    "\n",
    "SELECT\n",
    "    RANK() OVER (ORDER BY order_value_diff DESC) AS `RANK`,\n",
    "    customerNumber,\n",
    "    order_value_max,\n",
    "    order_value_min,\n",
    "    order_value_diff\n",
    "FROM\n",
    "    Customer_diff\n",
    "ORDER BY\n",
    "    `RANK`\n",
    "LIMIT 20\n",
    "; \"\"\"\n",
    "\n",
    "pd.read_sql(query, conn)\n"
   ]
  },
  {
   "cell_type": "markdown",
   "metadata": {
    "id": "jTLvSeeBAy2j"
   },
   "source": [
    "<img src=\"./참고이미지/Q7/Q7_1.png\" width=\"30%\">"
   ]
  },
  {
   "cell_type": "markdown",
   "metadata": {
    "id": "JZx40qJDAy2j"
   },
   "source": [
    "# Q8. 집계 - CrossTab"
   ]
  },
  {
   "cell_type": "code",
   "execution_count": 1,
   "metadata": {
    "id": "9DTetJJ_Ay2j"
   },
   "outputs": [
    {
     "name": "stdout",
     "output_type": "stream",
     "text": [
      "==================== game.xlsx 데이터 정보입니다. ====================\n"
     ]
    },
    {
     "data": {
      "text/plain": [
       "(2899, 9)"
      ]
     },
     "metadata": {},
     "output_type": "display_data"
    },
    {
     "data": {
      "text/html": [
       "<div>\n",
       "<style scoped>\n",
       "    .dataframe tbody tr th:only-of-type {\n",
       "        vertical-align: middle;\n",
       "    }\n",
       "\n",
       "    .dataframe tbody tr th {\n",
       "        vertical-align: top;\n",
       "    }\n",
       "\n",
       "    .dataframe thead th {\n",
       "        text-align: right;\n",
       "    }\n",
       "</style>\n",
       "<table border=\"1\" class=\"dataframe\">\n",
       "  <thead>\n",
       "    <tr style=\"text-align: right;\">\n",
       "      <th></th>\n",
       "      <th>user_id</th>\n",
       "      <th>date</th>\n",
       "      <th>playtime</th>\n",
       "      <th>playcount</th>\n",
       "      <th>level</th>\n",
       "      <th>mainjob</th>\n",
       "      <th>paycount</th>\n",
       "      <th>payamount</th>\n",
       "      <th>mainjoblevel</th>\n",
       "    </tr>\n",
       "  </thead>\n",
       "  <tbody>\n",
       "    <tr>\n",
       "      <th>0</th>\n",
       "      <td>1001</td>\n",
       "      <td>2024-01-10</td>\n",
       "      <td>61</td>\n",
       "      <td>1.0</td>\n",
       "      <td>15</td>\n",
       "      <td>dealer</td>\n",
       "      <td>1</td>\n",
       "      <td>60300</td>\n",
       "      <td>60</td>\n",
       "    </tr>\n",
       "    <tr>\n",
       "      <th>1</th>\n",
       "      <td>1001</td>\n",
       "      <td>2024-01-11</td>\n",
       "      <td>14</td>\n",
       "      <td>1.0</td>\n",
       "      <td>15</td>\n",
       "      <td>dealer</td>\n",
       "      <td>1</td>\n",
       "      <td>100</td>\n",
       "      <td>60</td>\n",
       "    </tr>\n",
       "    <tr>\n",
       "      <th>2</th>\n",
       "      <td>1001</td>\n",
       "      <td>2024-01-12</td>\n",
       "      <td>16</td>\n",
       "      <td>1.0</td>\n",
       "      <td>15</td>\n",
       "      <td>tanker</td>\n",
       "      <td>1</td>\n",
       "      <td>151</td>\n",
       "      <td>60</td>\n",
       "    </tr>\n",
       "    <tr>\n",
       "      <th>3</th>\n",
       "      <td>1001</td>\n",
       "      <td>2024-01-13</td>\n",
       "      <td>1300</td>\n",
       "      <td>3.0</td>\n",
       "      <td>15</td>\n",
       "      <td>tanker</td>\n",
       "      <td>1</td>\n",
       "      <td>1000</td>\n",
       "      <td>60</td>\n",
       "    </tr>\n",
       "    <tr>\n",
       "      <th>4</th>\n",
       "      <td>1001</td>\n",
       "      <td>2024-01-14</td>\n",
       "      <td>41</td>\n",
       "      <td>3.0</td>\n",
       "      <td>15</td>\n",
       "      <td>tanker</td>\n",
       "      <td>1</td>\n",
       "      <td>16000</td>\n",
       "      <td>60</td>\n",
       "    </tr>\n",
       "    <tr>\n",
       "      <th>5</th>\n",
       "      <td>1001</td>\n",
       "      <td>2024-01-15</td>\n",
       "      <td>100</td>\n",
       "      <td>3.0</td>\n",
       "      <td>15</td>\n",
       "      <td>dealer</td>\n",
       "      <td>1</td>\n",
       "      <td>13000</td>\n",
       "      <td>60</td>\n",
       "    </tr>\n",
       "    <tr>\n",
       "      <th>6</th>\n",
       "      <td>1001</td>\n",
       "      <td>2024-04-01</td>\n",
       "      <td>160</td>\n",
       "      <td>6.0</td>\n",
       "      <td>15</td>\n",
       "      <td>dealer</td>\n",
       "      <td>60</td>\n",
       "      <td>80000</td>\n",
       "      <td>60</td>\n",
       "    </tr>\n",
       "    <tr>\n",
       "      <th>7</th>\n",
       "      <td>1001</td>\n",
       "      <td>2024-04-03</td>\n",
       "      <td>180</td>\n",
       "      <td>3.0</td>\n",
       "      <td>16</td>\n",
       "      <td>healer</td>\n",
       "      <td>1</td>\n",
       "      <td>1600</td>\n",
       "      <td>60</td>\n",
       "    </tr>\n",
       "    <tr>\n",
       "      <th>8</th>\n",
       "      <td>1001</td>\n",
       "      <td>2024-04-05</td>\n",
       "      <td>210</td>\n",
       "      <td>1.0</td>\n",
       "      <td>16</td>\n",
       "      <td>tanker</td>\n",
       "      <td>0</td>\n",
       "      <td>0</td>\n",
       "      <td>60</td>\n",
       "    </tr>\n",
       "    <tr>\n",
       "      <th>9</th>\n",
       "      <td>1001</td>\n",
       "      <td>2024-04-15</td>\n",
       "      <td>220</td>\n",
       "      <td>2.0</td>\n",
       "      <td>16</td>\n",
       "      <td>healer</td>\n",
       "      <td>0</td>\n",
       "      <td>0</td>\n",
       "      <td>60</td>\n",
       "    </tr>\n",
       "    <tr>\n",
       "      <th>10</th>\n",
       "      <td>1001</td>\n",
       "      <td>2024-08-01</td>\n",
       "      <td>203</td>\n",
       "      <td>2.0</td>\n",
       "      <td>20</td>\n",
       "      <td>dealer</td>\n",
       "      <td>0</td>\n",
       "      <td>0</td>\n",
       "      <td>60</td>\n",
       "    </tr>\n",
       "    <tr>\n",
       "      <th>11</th>\n",
       "      <td>1001</td>\n",
       "      <td>2024-08-02</td>\n",
       "      <td>250</td>\n",
       "      <td>2.0</td>\n",
       "      <td>20</td>\n",
       "      <td>healer</td>\n",
       "      <td>0</td>\n",
       "      <td>0</td>\n",
       "      <td>60</td>\n",
       "    </tr>\n",
       "    <tr>\n",
       "      <th>12</th>\n",
       "      <td>1001</td>\n",
       "      <td>2024-08-03</td>\n",
       "      <td>1000</td>\n",
       "      <td>1.0</td>\n",
       "      <td>21</td>\n",
       "      <td>dealer</td>\n",
       "      <td>0</td>\n",
       "      <td>0</td>\n",
       "      <td>60</td>\n",
       "    </tr>\n",
       "    <tr>\n",
       "      <th>13</th>\n",
       "      <td>1001</td>\n",
       "      <td>2024-08-04</td>\n",
       "      <td>1008</td>\n",
       "      <td>2.0</td>\n",
       "      <td>22</td>\n",
       "      <td>healer</td>\n",
       "      <td>6</td>\n",
       "      <td>100</td>\n",
       "      <td>60</td>\n",
       "    </tr>\n",
       "    <tr>\n",
       "      <th>14</th>\n",
       "      <td>1001</td>\n",
       "      <td>2024-08-05</td>\n",
       "      <td>80</td>\n",
       "      <td>3.0</td>\n",
       "      <td>23</td>\n",
       "      <td>tanker</td>\n",
       "      <td>6</td>\n",
       "      <td>6000</td>\n",
       "      <td>60</td>\n",
       "    </tr>\n",
       "    <tr>\n",
       "      <th>15</th>\n",
       "      <td>1001</td>\n",
       "      <td>2024-08-06</td>\n",
       "      <td>600</td>\n",
       "      <td>2.0</td>\n",
       "      <td>22</td>\n",
       "      <td>dealer</td>\n",
       "      <td>6</td>\n",
       "      <td>4270</td>\n",
       "      <td>60</td>\n",
       "    </tr>\n",
       "    <tr>\n",
       "      <th>16</th>\n",
       "      <td>1001</td>\n",
       "      <td>2024-08-07</td>\n",
       "      <td>502</td>\n",
       "      <td>2.0</td>\n",
       "      <td>60</td>\n",
       "      <td>dealer</td>\n",
       "      <td>0</td>\n",
       "      <td>0</td>\n",
       "      <td>60</td>\n",
       "    </tr>\n",
       "    <tr>\n",
       "      <th>17</th>\n",
       "      <td>1001</td>\n",
       "      <td>2024-08-08</td>\n",
       "      <td>105</td>\n",
       "      <td>1.0</td>\n",
       "      <td>60</td>\n",
       "      <td>tanker</td>\n",
       "      <td>0</td>\n",
       "      <td>0</td>\n",
       "      <td>60</td>\n",
       "    </tr>\n",
       "    <tr>\n",
       "      <th>18</th>\n",
       "      <td>1001</td>\n",
       "      <td>2024-03-20</td>\n",
       "      <td>106</td>\n",
       "      <td>5.0</td>\n",
       "      <td>60</td>\n",
       "      <td>healer</td>\n",
       "      <td>8</td>\n",
       "      <td>30000</td>\n",
       "      <td>60</td>\n",
       "    </tr>\n",
       "    <tr>\n",
       "      <th>19</th>\n",
       "      <td>1001</td>\n",
       "      <td>2024-03-30</td>\n",
       "      <td>100</td>\n",
       "      <td>1.0</td>\n",
       "      <td>25</td>\n",
       "      <td>dealer</td>\n",
       "      <td>0</td>\n",
       "      <td>0</td>\n",
       "      <td>60</td>\n",
       "    </tr>\n",
       "  </tbody>\n",
       "</table>\n",
       "</div>"
      ],
      "text/plain": [
       "    user_id       date  playtime  playcount  level mainjob  paycount  \\\n",
       "0      1001 2024-01-10        61        1.0     15  dealer         1   \n",
       "1      1001 2024-01-11        14        1.0     15  dealer         1   \n",
       "2      1001 2024-01-12        16        1.0     15  tanker         1   \n",
       "3      1001 2024-01-13      1300        3.0     15  tanker         1   \n",
       "4      1001 2024-01-14        41        3.0     15  tanker         1   \n",
       "5      1001 2024-01-15       100        3.0     15  dealer         1   \n",
       "6      1001 2024-04-01       160        6.0     15  dealer        60   \n",
       "7      1001 2024-04-03       180        3.0     16  healer         1   \n",
       "8      1001 2024-04-05       210        1.0     16  tanker         0   \n",
       "9      1001 2024-04-15       220        2.0     16  healer         0   \n",
       "10     1001 2024-08-01       203        2.0     20  dealer         0   \n",
       "11     1001 2024-08-02       250        2.0     20  healer         0   \n",
       "12     1001 2024-08-03      1000        1.0     21  dealer         0   \n",
       "13     1001 2024-08-04      1008        2.0     22  healer         6   \n",
       "14     1001 2024-08-05        80        3.0     23  tanker         6   \n",
       "15     1001 2024-08-06       600        2.0     22  dealer         6   \n",
       "16     1001 2024-08-07       502        2.0     60  dealer         0   \n",
       "17     1001 2024-08-08       105        1.0     60  tanker         0   \n",
       "18     1001 2024-03-20       106        5.0     60  healer         8   \n",
       "19     1001 2024-03-30       100        1.0     25  dealer         0   \n",
       "\n",
       "    payamount  mainjoblevel  \n",
       "0       60300            60  \n",
       "1         100            60  \n",
       "2         151            60  \n",
       "3        1000            60  \n",
       "4       16000            60  \n",
       "5       13000            60  \n",
       "6       80000            60  \n",
       "7        1600            60  \n",
       "8           0            60  \n",
       "9           0            60  \n",
       "10          0            60  \n",
       "11          0            60  \n",
       "12          0            60  \n",
       "13        100            60  \n",
       "14       6000            60  \n",
       "15       4270            60  \n",
       "16          0            60  \n",
       "17          0            60  \n",
       "18      30000            60  \n",
       "19          0            60  "
      ]
     },
     "metadata": {},
     "output_type": "display_data"
    }
   ],
   "source": [
    "# 데이터 읽기용 코드셀입니다.\n",
    "\n",
    "import pandas as pd\n",
    "\n",
    "print('='*20, 'game.xlsx 데이터 정보입니다.', '='*20)\n",
    "tmp_df = pd.read_excel('./data_과제/game.xlsx', sheet_name='Sheet1')\n",
    "display(tmp_df.shape)\n",
    "display(tmp_df.head(20))"
   ]
  },
  {
   "cell_type": "markdown",
   "metadata": {
    "id": "9q-s2ZI5Ay2j"
   },
   "source": [
    "<img src=\"./참고이미지/Q8/Q8_1.png\" width=\"45%\">"
   ]
  },
  {
   "cell_type": "markdown",
   "metadata": {
    "id": "Zf5wGDqNAy2j"
   },
   "source": [
    "<b>코드 Cell</b>\n",
    "- crosstab 연산을 수행합니다.\n",
    "- mainjob과 paycount를 대상으로 집계를 수행했습니다."
   ]
  },
  {
   "cell_type": "code",
   "execution_count": 4,
   "metadata": {
    "id": "sIGdlXNfAy2k"
   },
   "outputs": [
    {
     "name": "stdout",
     "output_type": "stream",
     "text": [
      "==================== game.xlsx 데이터에 crosstab을 적용한 결과입니다. ====================\n"
     ]
    },
    {
     "data": {
      "text/html": [
       "<div>\n",
       "<style scoped>\n",
       "    .dataframe tbody tr th:only-of-type {\n",
       "        vertical-align: middle;\n",
       "    }\n",
       "\n",
       "    .dataframe tbody tr th {\n",
       "        vertical-align: top;\n",
       "    }\n",
       "\n",
       "    .dataframe thead th {\n",
       "        text-align: right;\n",
       "    }\n",
       "</style>\n",
       "<table border=\"1\" class=\"dataframe\">\n",
       "  <thead>\n",
       "    <tr style=\"text-align: right;\">\n",
       "      <th>paycount</th>\n",
       "      <th>0</th>\n",
       "      <th>1</th>\n",
       "      <th>2</th>\n",
       "      <th>3</th>\n",
       "      <th>4</th>\n",
       "      <th>5</th>\n",
       "      <th>6</th>\n",
       "      <th>7</th>\n",
       "      <th>8</th>\n",
       "      <th>10</th>\n",
       "      <th>12</th>\n",
       "      <th>15</th>\n",
       "      <th>20</th>\n",
       "      <th>22</th>\n",
       "      <th>30</th>\n",
       "      <th>32</th>\n",
       "      <th>60</th>\n",
       "      <th>150</th>\n",
       "    </tr>\n",
       "    <tr>\n",
       "      <th>mainjob</th>\n",
       "      <th></th>\n",
       "      <th></th>\n",
       "      <th></th>\n",
       "      <th></th>\n",
       "      <th></th>\n",
       "      <th></th>\n",
       "      <th></th>\n",
       "      <th></th>\n",
       "      <th></th>\n",
       "      <th></th>\n",
       "      <th></th>\n",
       "      <th></th>\n",
       "      <th></th>\n",
       "      <th></th>\n",
       "      <th></th>\n",
       "      <th></th>\n",
       "      <th></th>\n",
       "      <th></th>\n",
       "    </tr>\n",
       "  </thead>\n",
       "  <tbody>\n",
       "    <tr>\n",
       "      <th>dealer</th>\n",
       "      <td>1214</td>\n",
       "      <td>190</td>\n",
       "      <td>88</td>\n",
       "      <td>53</td>\n",
       "      <td>41</td>\n",
       "      <td>31</td>\n",
       "      <td>8</td>\n",
       "      <td>1</td>\n",
       "      <td>0</td>\n",
       "      <td>7</td>\n",
       "      <td>0</td>\n",
       "      <td>2</td>\n",
       "      <td>0</td>\n",
       "      <td>0</td>\n",
       "      <td>0</td>\n",
       "      <td>0</td>\n",
       "      <td>1</td>\n",
       "      <td>0</td>\n",
       "    </tr>\n",
       "    <tr>\n",
       "      <th>healer</th>\n",
       "      <td>523</td>\n",
       "      <td>115</td>\n",
       "      <td>40</td>\n",
       "      <td>7</td>\n",
       "      <td>15</td>\n",
       "      <td>11</td>\n",
       "      <td>1</td>\n",
       "      <td>0</td>\n",
       "      <td>1</td>\n",
       "      <td>1</td>\n",
       "      <td>2</td>\n",
       "      <td>10</td>\n",
       "      <td>0</td>\n",
       "      <td>1</td>\n",
       "      <td>0</td>\n",
       "      <td>1</td>\n",
       "      <td>0</td>\n",
       "      <td>1</td>\n",
       "    </tr>\n",
       "    <tr>\n",
       "      <th>tanker</th>\n",
       "      <td>320</td>\n",
       "      <td>60</td>\n",
       "      <td>65</td>\n",
       "      <td>30</td>\n",
       "      <td>40</td>\n",
       "      <td>11</td>\n",
       "      <td>1</td>\n",
       "      <td>1</td>\n",
       "      <td>0</td>\n",
       "      <td>4</td>\n",
       "      <td>0</td>\n",
       "      <td>0</td>\n",
       "      <td>1</td>\n",
       "      <td>0</td>\n",
       "      <td>1</td>\n",
       "      <td>0</td>\n",
       "      <td>0</td>\n",
       "      <td>0</td>\n",
       "    </tr>\n",
       "  </tbody>\n",
       "</table>\n",
       "</div>"
      ],
      "text/plain": [
       "paycount   0    1    2    3    4    5    6    7    8    10   12   15   20   \\\n",
       "mainjob                                                                      \n",
       "dealer    1214  190   88   53   41   31    8    1    0    7    0    2    0   \n",
       "healer     523  115   40    7   15   11    1    0    1    1    2   10    0   \n",
       "tanker     320   60   65   30   40   11    1    1    0    4    0    0    1   \n",
       "\n",
       "paycount  22   30   32   60   150  \n",
       "mainjob                            \n",
       "dealer      0    0    0    1    0  \n",
       "healer      1    0    1    0    1  \n",
       "tanker      0    1    0    0    0  "
      ]
     },
     "metadata": {},
     "output_type": "display_data"
    }
   ],
   "source": [
    "print('='*20, 'game.xlsx 데이터에 crosstab을 적용한 결과입니다.', '='*20)\n",
    "crosstab_result = pd.crosstab(tmp_df['mainjob'], tmp_df['paycount'])\n",
    "display(crosstab_result)"
   ]
  },
  {
   "cell_type": "markdown",
   "metadata": {
    "id": "3MWOXRpVAy2k"
   },
   "source": [
    "<img src=\"./참고이미지/Q8/Q8_2.png\" width=\"45%\">"
   ]
  },
  {
   "cell_type": "markdown",
   "metadata": {
    "id": "97Wg0kJvAy2k"
   },
   "source": [
    "# [Git문제] Q9~Q10 인공지능 모델 설계\n",
    "- Git 레포지토리 링크 Public 권한으로 제출\n",
    "- 과제 제출일 이후로, 채점 결과를 받기 전에 수정이 이루어 질 경우에 Git 문제는 모두 0점으로 처리됩니다."
   ]
  },
  {
   "cell_type": "markdown",
   "metadata": {
    "id": "5h36a35kjdZB"
   },
   "source": [
    "---\n",
    "**문제 구성**\n",
    "- Q9. 작업 1단계 ~ 2단계  \n",
    "- Q10. 작업 3단계\n",
    "---\n",
    "**Git 작업**\n",
    "- branch 목록\n",
    "    - main\n",
    "    - prep_branch\n",
    "    - fin_branch\n",
    "\n",
    "- 작업순서\n",
    "    - 1단계\n",
    "        - main 에서 수행\n",
    "        - 라이브러리 불러오기, 데이터 읽기 이후 Commit\n",
    "        - Commit Message \"Step1\"\n",
    "\n",
    "    - 2단계\n",
    "        - main에서 prep_branch로 전환 후 작업 수행\n",
    "        - 데이터 전처리 이후 Commit\n",
    "        - Commit Message \"Step2\"\n",
    "\n",
    "    - 3단계\n",
    "        - prep_branch에서 fin_branch으로 변경하여 작업 수행\n",
    "        - 인공지능 모델 학습\n",
    "        - Commit Message \"Step3\"\n",
    "        - fin_branch와 main 브랜치 merge\n",
    "\n",
    "- 레포지토리 구성\n",
    "    - main.ipynb\n",
    "        - 코드 작업들을 작성\n",
    "    - game.xlsx\n",
    "        - 과제 수행에 사용하는 데이터\n",
    "\n",
    "- branch 이름과 commit 메시지 동일하게 작성\n",
    "- Git 구성 과정에서는 아래 코드들을 참고해주세요"
   ]
  },
  {
   "cell_type": "markdown",
   "metadata": {
    "id": "jwV2CIpbjdZC"
   },
   "source": [
    "<img src=\"./참고이미지/Git_Image.png\">"
   ]
  },
  {
   "cell_type": "markdown",
   "metadata": {
    "id": "tSIxakgkAy2k"
   },
   "source": [
    "## Step1 라이브러리 불러오기, 데이터 읽기"
   ]
  },
  {
   "cell_type": "markdown",
   "metadata": {
    "id": "lvaQrrihAy2k"
   },
   "source": [
    "- 인공지능 분류 모델을 설계합니다.\n",
    "- ['playtime', 'playcount', 'level', 'paycount', 'payamount', 'mainjoblevel'] 정보를 feature로 사용합니다.\n",
    "- mainjob을 target으로 설정합니다."
   ]
  },
  {
   "cell_type": "code",
   "execution_count": 1,
   "metadata": {
    "id": "PQJtm2AdAy2k"
   },
   "outputs": [
    {
     "name": "stdout",
     "output_type": "stream",
     "text": [
      "==================== game.xlsx 데이터 정보입니다. ====================\n"
     ]
    },
    {
     "data": {
      "text/plain": [
       "(2899, 9)"
      ]
     },
     "metadata": {},
     "output_type": "display_data"
    },
    {
     "data": {
      "text/plain": [
       "Index(['user_id', 'date', 'playtime', 'playcount', 'level', 'mainjob',\n",
       "       'paycount', 'payamount', 'mainjoblevel'],\n",
       "      dtype='object')"
      ]
     },
     "metadata": {},
     "output_type": "display_data"
    },
    {
     "data": {
      "text/html": [
       "<div>\n",
       "<style scoped>\n",
       "    .dataframe tbody tr th:only-of-type {\n",
       "        vertical-align: middle;\n",
       "    }\n",
       "\n",
       "    .dataframe tbody tr th {\n",
       "        vertical-align: top;\n",
       "    }\n",
       "\n",
       "    .dataframe thead th {\n",
       "        text-align: right;\n",
       "    }\n",
       "</style>\n",
       "<table border=\"1\" class=\"dataframe\">\n",
       "  <thead>\n",
       "    <tr style=\"text-align: right;\">\n",
       "      <th></th>\n",
       "      <th>user_id</th>\n",
       "      <th>date</th>\n",
       "      <th>playtime</th>\n",
       "      <th>playcount</th>\n",
       "      <th>level</th>\n",
       "      <th>mainjob</th>\n",
       "      <th>paycount</th>\n",
       "      <th>payamount</th>\n",
       "      <th>mainjoblevel</th>\n",
       "    </tr>\n",
       "  </thead>\n",
       "  <tbody>\n",
       "    <tr>\n",
       "      <th>0</th>\n",
       "      <td>1001</td>\n",
       "      <td>2024-01-10</td>\n",
       "      <td>61</td>\n",
       "      <td>1.0</td>\n",
       "      <td>15</td>\n",
       "      <td>dealer</td>\n",
       "      <td>1</td>\n",
       "      <td>60300</td>\n",
       "      <td>60</td>\n",
       "    </tr>\n",
       "    <tr>\n",
       "      <th>1</th>\n",
       "      <td>1001</td>\n",
       "      <td>2024-01-11</td>\n",
       "      <td>14</td>\n",
       "      <td>1.0</td>\n",
       "      <td>15</td>\n",
       "      <td>dealer</td>\n",
       "      <td>1</td>\n",
       "      <td>100</td>\n",
       "      <td>60</td>\n",
       "    </tr>\n",
       "    <tr>\n",
       "      <th>2</th>\n",
       "      <td>1001</td>\n",
       "      <td>2024-01-12</td>\n",
       "      <td>16</td>\n",
       "      <td>1.0</td>\n",
       "      <td>15</td>\n",
       "      <td>tanker</td>\n",
       "      <td>1</td>\n",
       "      <td>151</td>\n",
       "      <td>60</td>\n",
       "    </tr>\n",
       "    <tr>\n",
       "      <th>3</th>\n",
       "      <td>1001</td>\n",
       "      <td>2024-01-13</td>\n",
       "      <td>1300</td>\n",
       "      <td>3.0</td>\n",
       "      <td>15</td>\n",
       "      <td>tanker</td>\n",
       "      <td>1</td>\n",
       "      <td>1000</td>\n",
       "      <td>60</td>\n",
       "    </tr>\n",
       "    <tr>\n",
       "      <th>4</th>\n",
       "      <td>1001</td>\n",
       "      <td>2024-01-14</td>\n",
       "      <td>41</td>\n",
       "      <td>3.0</td>\n",
       "      <td>15</td>\n",
       "      <td>tanker</td>\n",
       "      <td>1</td>\n",
       "      <td>16000</td>\n",
       "      <td>60</td>\n",
       "    </tr>\n",
       "  </tbody>\n",
       "</table>\n",
       "</div>"
      ],
      "text/plain": [
       "   user_id       date  playtime  playcount  level mainjob  paycount  \\\n",
       "0     1001 2024-01-10        61        1.0     15  dealer         1   \n",
       "1     1001 2024-01-11        14        1.0     15  dealer         1   \n",
       "2     1001 2024-01-12        16        1.0     15  tanker         1   \n",
       "3     1001 2024-01-13      1300        3.0     15  tanker         1   \n",
       "4     1001 2024-01-14        41        3.0     15  tanker         1   \n",
       "\n",
       "   payamount  mainjoblevel  \n",
       "0      60300            60  \n",
       "1        100            60  \n",
       "2        151            60  \n",
       "3       1000            60  \n",
       "4      16000            60  "
      ]
     },
     "metadata": {},
     "output_type": "display_data"
    }
   ],
   "source": [
    "# 데이터 읽기용 코드셀입니다.\n",
    "\n",
    "import pandas as pd\n",
    "print('='*20, 'game.xlsx 데이터 정보입니다.', '='*20)\n",
    "tmp_df = pd.read_excel('game.xlsx', sheet_name='Sheet1')\n",
    "display(tmp_df.shape)\n",
    "display(tmp_df.columns)\n",
    "display(tmp_df.head())"
   ]
  },
  {
   "cell_type": "markdown",
   "metadata": {
    "id": "qZkd46zIAy2k"
   },
   "source": [
    "<img src=\"./참고이미지/Q9/Q9_1.png\" width=\"45%\">"
   ]
  },
  {
   "cell_type": "markdown",
   "metadata": {
    "id": "SQEle2Q5jdZC"
   },
   "source": [
    "## Step2 데이터 전처리"
   ]
  },
  {
   "cell_type": "markdown",
   "metadata": {
    "id": "ZONi_pq1Ay2k"
   },
   "source": [
    "<b>코드 Cell</b>\n",
    "- features와 target으로 데이터를 분리합니다.\n",
    "- features와 target에 대한 정보를 확인합니다."
   ]
  },
  {
   "cell_type": "code",
   "execution_count": 2,
   "metadata": {},
   "outputs": [
    {
     "name": "stdout",
     "output_type": "stream",
     "text": [
      "==================== features 정보입니다. ====================\n"
     ]
    },
    {
     "data": {
      "text/plain": [
       "(2899, 6)"
      ]
     },
     "metadata": {},
     "output_type": "display_data"
    },
    {
     "data": {
      "text/html": [
       "<div>\n",
       "<style scoped>\n",
       "    .dataframe tbody tr th:only-of-type {\n",
       "        vertical-align: middle;\n",
       "    }\n",
       "\n",
       "    .dataframe tbody tr th {\n",
       "        vertical-align: top;\n",
       "    }\n",
       "\n",
       "    .dataframe thead th {\n",
       "        text-align: right;\n",
       "    }\n",
       "</style>\n",
       "<table border=\"1\" class=\"dataframe\">\n",
       "  <thead>\n",
       "    <tr style=\"text-align: right;\">\n",
       "      <th></th>\n",
       "      <th>playtime</th>\n",
       "      <th>playcount</th>\n",
       "      <th>level</th>\n",
       "      <th>paycount</th>\n",
       "      <th>payamount</th>\n",
       "      <th>mainjoblevel</th>\n",
       "    </tr>\n",
       "  </thead>\n",
       "  <tbody>\n",
       "    <tr>\n",
       "      <th>0</th>\n",
       "      <td>61</td>\n",
       "      <td>1.0</td>\n",
       "      <td>15</td>\n",
       "      <td>1</td>\n",
       "      <td>60300</td>\n",
       "      <td>60</td>\n",
       "    </tr>\n",
       "    <tr>\n",
       "      <th>1</th>\n",
       "      <td>14</td>\n",
       "      <td>1.0</td>\n",
       "      <td>15</td>\n",
       "      <td>1</td>\n",
       "      <td>100</td>\n",
       "      <td>60</td>\n",
       "    </tr>\n",
       "    <tr>\n",
       "      <th>2</th>\n",
       "      <td>16</td>\n",
       "      <td>1.0</td>\n",
       "      <td>15</td>\n",
       "      <td>1</td>\n",
       "      <td>151</td>\n",
       "      <td>60</td>\n",
       "    </tr>\n",
       "    <tr>\n",
       "      <th>3</th>\n",
       "      <td>1300</td>\n",
       "      <td>3.0</td>\n",
       "      <td>15</td>\n",
       "      <td>1</td>\n",
       "      <td>1000</td>\n",
       "      <td>60</td>\n",
       "    </tr>\n",
       "    <tr>\n",
       "      <th>4</th>\n",
       "      <td>41</td>\n",
       "      <td>3.0</td>\n",
       "      <td>15</td>\n",
       "      <td>1</td>\n",
       "      <td>16000</td>\n",
       "      <td>60</td>\n",
       "    </tr>\n",
       "  </tbody>\n",
       "</table>\n",
       "</div>"
      ],
      "text/plain": [
       "   playtime  playcount  level  paycount  payamount  mainjoblevel\n",
       "0        61        1.0     15         1      60300            60\n",
       "1        14        1.0     15         1        100            60\n",
       "2        16        1.0     15         1        151            60\n",
       "3      1300        3.0     15         1       1000            60\n",
       "4        41        3.0     15         1      16000            60"
      ]
     },
     "metadata": {},
     "output_type": "display_data"
    },
    {
     "name": "stdout",
     "output_type": "stream",
     "text": [
      "==================== target 정보입니다. ====================\n"
     ]
    },
    {
     "data": {
      "text/plain": [
       "(2899,)"
      ]
     },
     "metadata": {},
     "output_type": "display_data"
    },
    {
     "data": {
      "text/plain": [
       "0    dealer\n",
       "1    dealer\n",
       "2    tanker\n",
       "3    tanker\n",
       "4    tanker\n",
       "Name: mainjob, dtype: object"
      ]
     },
     "metadata": {},
     "output_type": "display_data"
    }
   ],
   "source": [
    "features_df = tmp_df[['playtime', 'playcount', 'level', 'paycount', 'payamount', 'mainjoblevel']]\n",
    "target_df = tmp_df['mainjob']\n",
    "\n",
    "print(\"=\"*20, \"features 정보입니다.\", \"=\"*20)\n",
    "display(features_df.shape)\n",
    "display(features_df.head())\n",
    "\n",
    "print(\"=\"*20, \"target 정보입니다.\", \"=\"*20)\n",
    "display(target_df.shape)\n",
    "display(target_df.head())"
   ]
  },
  {
   "cell_type": "markdown",
   "metadata": {
    "id": "nZMtkcL4Ay2l"
   },
   "source": [
    "<img src=\"./참고이미지/Q9/Q9_2.png\" width=\"35%\">"
   ]
  },
  {
   "cell_type": "markdown",
   "metadata": {
    "id": "hhkmwZ7TAy2l"
   },
   "source": [
    "<b>코드 Cell</b>\n",
    "- features와 target 데이터를 train_test_split을 통해 분리합니다.\n",
    "- test_size = 0.2로 설정하고 random_state = 42로 설정합니다."
   ]
  },
  {
   "cell_type": "code",
   "execution_count": 3,
   "metadata": {},
   "outputs": [
    {
     "name": "stdout",
     "output_type": "stream",
     "text": [
      "==================== 분할 이후 train 데이터 크기입니다. ====================\n",
      "(2319, 6)\n",
      "(2319,)\n",
      "==================== 분할 이후 test 데이터 크기입니다. ====================\n",
      "(580, 6)\n",
      "(580,)\n",
      "====================  train 데이터와 test 데이터 비율 계산 결과입니다. ====================\n",
      "0.7999310106933425\n",
      "0.20006898930665748\n"
     ]
    }
   ],
   "source": [
    "import numpy as np\n",
    "from sklearn.model_selection import train_test_split\n",
    "\n",
    "seed = 42\n",
    "np.random.seed(seed)\n",
    "x_train, x_test, y_train, y_test = train_test_split(features_df, target_df, test_size=0.2, random_state=seed)\n",
    "\n",
    "print(\"=\"*20, \"분할 이후 train 데이터 크기입니다.\", \"=\"*20)\n",
    "print(x_train.shape)\n",
    "print(y_train.shape)\n",
    "\n",
    "print(\"=\"*20, \"분할 이후 test 데이터 크기입니다.\", \"=\"*20)\n",
    "print(x_test.shape)\n",
    "print(y_test.shape)\n",
    "\n",
    "print(\"=\"*20, \" train 데이터와 test 데이터 비율 계산 결과입니다.\", \"=\"*20)\n",
    "print(len(x_train) / len(features_df))\n",
    "print(len(x_test) / len(features_df))"
   ]
  },
  {
   "cell_type": "markdown",
   "metadata": {
    "id": "CFeZ0i8QAy2l"
   },
   "source": [
    "<img src=\"./참고이미지/Q9/Q9_3.png\" width=\"100%\">"
   ]
  },
  {
   "cell_type": "markdown",
   "metadata": {
    "id": "eryNmm0sAy2l"
   },
   "source": [
    "<b>코드 Cell</b>\n",
    "- target 데이터에 대한 LabelEncoding 과정을 수행합니다."
   ]
  },
  {
   "cell_type": "code",
   "execution_count": 4,
   "metadata": {},
   "outputs": [],
   "source": [
    "from sklearn.preprocessing import LabelEncoder\n",
    "\n",
    "label_encoder = LabelEncoder()\n",
    "\n",
    "y_train_encoded = label_encoder.fit_transform(y_train)\n",
    "y_test_encoded = label_encoder.transform(y_test)"
   ]
  },
  {
   "cell_type": "markdown",
   "metadata": {
    "id": "thRvA929Ay2l"
   },
   "source": [
    "<b>코드 Cell</b>\n",
    "- hist 시각화를 통해 Label Encoding 전후의 모습을 확인합니다.\n",
    "- hist 시각화 과정에서 별도의 옵션을 설정한 것은 없습니다."
   ]
  },
  {
   "cell_type": "code",
   "execution_count": 5,
   "metadata": {},
   "outputs": [
    {
     "name": "stdout",
     "output_type": "stream",
     "text": [
      "============================== LabelEncoding 이전의 분포입니다. ==============================\n"
     ]
    },
    {
     "data": {
      "image/png": "[encoded data removed]",
      "text/plain": [
       "<Figure size 700x300 with 1 Axes>"
      ]
     },
     "metadata": {},
     "output_type": "display_data"
    },
    {
     "name": "stdout",
     "output_type": "stream",
     "text": [
      "============================== LabelEncoding 이후의 분포입니다. ==============================\n"
     ]
    },
    {
     "data": {
      "image/png": "[encoded data removed]",
      "text/plain": [
       "<Figure size 700x300 with 1 Axes>"
      ]
     },
     "metadata": {},
     "output_type": "display_data"
    }
   ],
   "source": [
    "import matplotlib.pyplot as plt\n",
    "import numpy as np\n",
    "\n",
    "# Label Encoding 전\n",
    "print(\"=\"*30, \"LabelEncoding 이전의 분포입니다.\", \"=\"*30)\n",
    "plt.figure(figsize=(7, 3))\n",
    "plt.hist(y_train)\n",
    "plt.yticks(np.arange(0, 1251, 250))  \n",
    "plt.tight_layout()\n",
    "plt.show()\n",
    "\n",
    "# Label Encoding 후\n",
    "print(\"=\"*30, \"LabelEncoding 이후의 분포입니다.\", \"=\"*30)\n",
    "plt.figure(figsize=(7, 3))\n",
    "plt.hist(y_train_encoded)\n",
    "plt.yticks(np.arange(0, 1251, 250)) \n",
    "plt.tight_layout()\n",
    "plt.show()"
   ]
  },
  {
   "cell_type": "markdown",
   "metadata": {
    "id": "vzMFPd8cAy2l"
   },
   "source": [
    "<img src=\"./참고이미지/Q9/Q9_4.png\" width=\"40%\">"
   ]
  },
  {
   "cell_type": "markdown",
   "metadata": {
    "id": "OG0Nms9LAy2l"
   },
   "source": [
    "## Step3 모델 학습"
   ]
  },
  {
   "cell_type": "markdown",
   "metadata": {
    "id": "OKpLzj8EAy2l"
   },
   "source": [
    "<b>사용 인공지능 모델</b>\n",
    "- 인공지능 모델은 ExplainableBoostingClassifier를 사용합니다."
   ]
  },
  {
   "cell_type": "code",
   "execution_count": null,
   "metadata": {},
   "outputs": [],
   "source": []
  },
  {
   "cell_type": "markdown",
   "metadata": {
    "id": "DOntRiViAy2m"
   },
   "source": [
    "<img src=\"./참고이미지/Q10/Q10_1.png\" width=\"45%\">"
   ]
  },
  {
   "cell_type": "markdown",
   "metadata": {
    "id": "lLXt3iicjdZE"
   },
   "source": [
    "## **🔎 [주관식 과제 수행 시 유의사항]**\n",
    "\n",
    "> **✅ 1. 정확한 출력값과 요구사항 이행 필수**  \n",
    "\n",
    "주관식 채점은 다음 기준에 따라 평가됩니다.\n",
    "\n",
    "1)출력 결과의 정확성  \n",
    "- 제공된 예시 결과와 동일한 출력이 나와야 합니다.  \n",
    "- 단, 실시간 데이터나 인공지능 학습 등으로 출력값에 변동성이 존재할 수 있는 문제는 예외로 처리합니다.  \n",
    "\n",
    "2)문제 요구사항의 충실한 반영  \n",
    "- 조건, 컬럼명, 출력 형식 등 모든 요구사항을 빠짐없이 반영해야 합니다.  \n",
    "- 사소한 조건도 놓치지 않도록 세심하게 코드를 작성해 주세요.  \n",
    "\n",
    "\n",
    "> **✅ 2. 완성된 코드 제출 필수**\n",
    "\n",
    "가. 제출한 코드 셀은 채점 시 직접 실행하여 결과를 확인할 수 있습니다.  \n",
    "\n",
    "- 재실행 시에도 동일한 결과가 나와야 정답으로 인정됩니다.  \n",
    "\n",
    "나. 버전 차이에 따른 미세한 수치 차이는 감안하나, 결과 형태나 구조가 다르면 감점 또는 오답 처리될 수 있습니다.  \n",
    "\n",
    "다. 시각화 문제에서 색상 지정이 없다면, 기본(default) 색상 사용을 전제로 합니다.  \n",
    "- 환경에 따라 색상이 다르게 출력되더라도 불이익은 없습니다.  \n",
    "\n",
    "> **✅ 3. 사용자 선언 함수/클래스 문제 주의사항**\n",
    "\n",
    "사용자 정의 함수, 클래스, 메서드와 관련된 문제에서는 추가적인 코드 없이도 함수만으로 정답 결과가 도출되어야 합니다.  \n",
    "- ❌ 함수 외부에서 plt.title, print, info() 등을 추가하여 결과를 보완하면 오답 처리됩니다.  \n",
    "\n",
    "> **✅ 4. 함수/클래스 선언 시 일관된 결과 유지**\n",
    "\n",
    "가. 함수, 클래스, 메서드는 반복 실행 시에도 항상 동일한 결과를 반환해야 합니다.  \n",
    "나. 채점 중 재실행 결과가 다르면 오답으로 처리됩니다.  \n",
    "\n",
    "> **📌 [안내 정리]**  \n",
    "\n",
    "가. 문제의 모든 조건을 꼼꼼히 확인하고 반영해 주세요.  \n",
    "나. 과제는 실무와 유사한 기준으로 평가되며, 요구 조건을 충족하지 않을 경우 0점 처리될 수 있습니다.  "
   ]
  }
 ],
 "metadata": {
  "colab": {
   "provenance": []
  },
  "kernelspec": {
   "display_name": "base",
   "language": "python",
   "name": "python3"
  },
  "language_info": {
   "codemirror_mode": {
    "name": "ipython",
    "version": 3
   },
   "file_extension": ".py",
   "mimetype": "text/x-python",
   "name": "python",
   "nbconvert_exporter": "python",
   "pygments_lexer": "ipython3",
   "version": "3.13.5"
  }
 },
 "nbformat": 4,
 "nbformat_minor": 0
}
